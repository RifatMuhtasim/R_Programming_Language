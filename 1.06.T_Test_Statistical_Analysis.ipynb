{
  "nbformat": 4,
  "nbformat_minor": 0,
  "metadata": {
    "colab": {
      "provenance": [],
      "authorship_tag": "ABX9TyOQHFhcbBT0qum/C8w9DL2a",
      "include_colab_link": true
    },
    "kernelspec": {
      "name": "ir",
      "display_name": "R"
    },
    "language_info": {
      "name": "R"
    }
  },
  "cells": [
    {
      "cell_type": "markdown",
      "metadata": {
        "id": "view-in-github",
        "colab_type": "text"
      },
      "source": [
        "<a href=\"https://colab.research.google.com/github/RifatMuhtasim/R_Programming_Language/blob/main/1.06.T_Test_Statistical_Analysis.ipynb\" target=\"_parent\"><img src=\"https://colab.research.google.com/assets/colab-badge.svg\" alt=\"Open In Colab\"/></a>"
      ]
    },
    {
      "cell_type": "markdown",
      "source": [
        "# One Sample T-Test"
      ],
      "metadata": {
        "id": "YeO6pIDy8DAP"
      }
    },
    {
      "cell_type": "code",
      "source": [
        "# Check if the mean value is smaller than 0.3\n",
        "sal <- c(0.593, 0.142, 0.329, 0.691, 0.231, 0.793, 0.519, 0.392, 0.418)\n",
        "t.test(sal, alternative = \"greater\", mu=0.3)"
      ],
      "metadata": {
        "colab": {
          "base_uri": "https://localhost:8080/",
          "height": 208
        },
        "id": "DR7pxr7z8Crg",
        "outputId": "b0688c1f-2086-49ba-d238-f758a33ad836"
      },
      "execution_count": null,
      "outputs": [
        {
          "output_type": "display_data",
          "data": {
            "text/plain": [
              "\n",
              "\tOne Sample t-test\n",
              "\n",
              "data:  sal\n",
              "t = 2.2051, df = 8, p-value = 0.02927\n",
              "alternative hypothesis: true mean is greater than 0.3\n",
              "95 percent confidence interval:\n",
              " 0.3245133       Inf\n",
              "sample estimates:\n",
              "mean of x \n",
              "0.4564444 \n"
            ]
          },
          "metadata": {}
        }
      ]
    },
    {
      "cell_type": "code",
      "source": [
        "#install.packages(\"ggplot2\")\n",
        "#install.packages(\"dplyr\")\n",
        "#install.packages(\"tidyr\")\n",
        "#install.packages(\"magrittr\")\n",
        "#install.packages(\"gridExtra\")"
      ],
      "metadata": {
        "colab": {
          "base_uri": "https://localhost:8080/"
        },
        "id": "soUrkQTve2Kz",
        "outputId": "3c57f3ef-4621-462a-f4fb-b5cadc29a613"
      },
      "execution_count": null,
      "outputs": [
        {
          "output_type": "stream",
          "name": "stderr",
          "text": [
            "Installing package into ‘/usr/local/lib/R/site-library’\n",
            "(as ‘lib’ is unspecified)\n",
            "\n",
            "Installing package into ‘/usr/local/lib/R/site-library’\n",
            "(as ‘lib’ is unspecified)\n",
            "\n",
            "Installing package into ‘/usr/local/lib/R/site-library’\n",
            "(as ‘lib’ is unspecified)\n",
            "\n",
            "Installing package into ‘/usr/local/lib/R/site-library’\n",
            "(as ‘lib’ is unspecified)\n",
            "\n",
            "Installing package into ‘/usr/local/lib/R/site-library’\n",
            "(as ‘lib’ is unspecified)\n",
            "\n"
          ]
        }
      ]
    },
    {
      "cell_type": "code",
      "execution_count": null,
      "metadata": {
        "id": "X40w5RtS3Vom",
        "colab": {
          "base_uri": "https://localhost:8080/"
        },
        "outputId": "9f4d764e-a91d-4abd-bc56-0b569472d428"
      },
      "outputs": [
        {
          "output_type": "stream",
          "name": "stderr",
          "text": [
            "\n",
            "Attaching package: ‘dplyr’\n",
            "\n",
            "\n",
            "The following objects are masked from ‘package:stats’:\n",
            "\n",
            "    filter, lag\n",
            "\n",
            "\n",
            "The following objects are masked from ‘package:base’:\n",
            "\n",
            "    intersect, setdiff, setequal, union\n",
            "\n",
            "\n",
            "\n",
            "Attaching package: ‘magrittr’\n",
            "\n",
            "\n",
            "The following object is masked from ‘package:tidyr’:\n",
            "\n",
            "    extract\n",
            "\n",
            "\n",
            "\n",
            "Attaching package: ‘gridExtra’\n",
            "\n",
            "\n",
            "The following object is masked from ‘package:dplyr’:\n",
            "\n",
            "    combine\n",
            "\n",
            "\n"
          ]
        }
      ],
      "source": [
        "## Install and run the following library:\n",
        "library(ggplot2)\t# plotting & get default data\n",
        "library(dplyr)\t\t# data manipulation\n",
        "library(tidyr)\t\t# data re-shaping\n",
        "library(magrittr)\t# pipe operator\n",
        "library(gridExtra)\t# provides side-by-side plotting"
      ]
    },
    {
      "cell_type": "markdown",
      "source": [
        "### Question 1:\n",
        "Let's assume the nationwide average of college educated adults is 32% (Bachelor's degress or higher) and we want to see if the midwest mean is significantly different then the national average; In particular we want to test if the midwest average is less than the national average."
      ],
      "metadata": {
        "id": "3PSD1p2TfZhE"
      }
    },
    {
      "cell_type": "code",
      "source": [
        "# midwest data which is Built-in data from ggplot2\n",
        "data(midwest)\n",
        "head(midwest)\n",
        "dim(midwest)"
      ],
      "metadata": {
        "colab": {
          "base_uri": "https://localhost:8080/",
          "height": 324
        },
        "id": "dsOj4xTBfSa7",
        "outputId": "4f39566a-120d-4da4-fbe6-55967f1ef093"
      },
      "execution_count": null,
      "outputs": [
        {
          "output_type": "display_data",
          "data": {
            "text/html": [
              "<table class=\"dataframe\">\n",
              "<caption>A tibble: 6 × 28</caption>\n",
              "<thead>\n",
              "\t<tr><th scope=col>PID</th><th scope=col>county</th><th scope=col>state</th><th scope=col>area</th><th scope=col>poptotal</th><th scope=col>popdensity</th><th scope=col>popwhite</th><th scope=col>popblack</th><th scope=col>popamerindian</th><th scope=col>popasian</th><th scope=col>⋯</th><th scope=col>percollege</th><th scope=col>percprof</th><th scope=col>poppovertyknown</th><th scope=col>percpovertyknown</th><th scope=col>percbelowpoverty</th><th scope=col>percchildbelowpovert</th><th scope=col>percadultpoverty</th><th scope=col>percelderlypoverty</th><th scope=col>inmetro</th><th scope=col>category</th></tr>\n",
              "\t<tr><th scope=col>&lt;int&gt;</th><th scope=col>&lt;chr&gt;</th><th scope=col>&lt;chr&gt;</th><th scope=col>&lt;dbl&gt;</th><th scope=col>&lt;int&gt;</th><th scope=col>&lt;dbl&gt;</th><th scope=col>&lt;int&gt;</th><th scope=col>&lt;int&gt;</th><th scope=col>&lt;int&gt;</th><th scope=col>&lt;int&gt;</th><th scope=col>⋯</th><th scope=col>&lt;dbl&gt;</th><th scope=col>&lt;dbl&gt;</th><th scope=col>&lt;int&gt;</th><th scope=col>&lt;dbl&gt;</th><th scope=col>&lt;dbl&gt;</th><th scope=col>&lt;dbl&gt;</th><th scope=col>&lt;dbl&gt;</th><th scope=col>&lt;dbl&gt;</th><th scope=col>&lt;int&gt;</th><th scope=col>&lt;chr&gt;</th></tr>\n",
              "</thead>\n",
              "<tbody>\n",
              "\t<tr><td>561</td><td>ADAMS    </td><td>IL</td><td>0.052</td><td>66090</td><td>1270.9615</td><td>63917</td><td>1702</td><td>98</td><td>249</td><td>⋯</td><td>19.63139</td><td>4.355859</td><td>63628</td><td>96.27478</td><td>13.151443</td><td>18.01172</td><td>11.009776</td><td>12.443812</td><td>0</td><td>AAR</td></tr>\n",
              "\t<tr><td>562</td><td>ALEXANDER</td><td>IL</td><td>0.014</td><td>10626</td><td> 759.0000</td><td> 7054</td><td>3496</td><td>19</td><td> 48</td><td>⋯</td><td>11.24331</td><td>2.870315</td><td>10529</td><td>99.08714</td><td>32.244278</td><td>45.82651</td><td>27.385647</td><td>25.228976</td><td>0</td><td>LHR</td></tr>\n",
              "\t<tr><td>563</td><td>BOND     </td><td>IL</td><td>0.022</td><td>14991</td><td> 681.4091</td><td>14477</td><td> 429</td><td>35</td><td> 16</td><td>⋯</td><td>17.03382</td><td>4.488572</td><td>14235</td><td>94.95697</td><td>12.068844</td><td>14.03606</td><td>10.852090</td><td>12.697410</td><td>0</td><td>AAR</td></tr>\n",
              "\t<tr><td>564</td><td>BOONE    </td><td>IL</td><td>0.017</td><td>30806</td><td>1812.1176</td><td>29344</td><td> 127</td><td>46</td><td>150</td><td>⋯</td><td>17.27895</td><td>4.197800</td><td>30337</td><td>98.47757</td><td> 7.209019</td><td>11.17954</td><td> 5.536013</td><td> 6.217047</td><td>1</td><td>ALU</td></tr>\n",
              "\t<tr><td>565</td><td>BROWN    </td><td>IL</td><td>0.018</td><td> 5836</td><td> 324.2222</td><td> 5264</td><td> 547</td><td>14</td><td>  5</td><td>⋯</td><td>14.47600</td><td>3.367680</td><td> 4815</td><td>82.50514</td><td>13.520249</td><td>13.02289</td><td>11.143211</td><td>19.200000</td><td>0</td><td>AAR</td></tr>\n",
              "\t<tr><td>566</td><td>BUREAU   </td><td>IL</td><td>0.050</td><td>35688</td><td> 713.7600</td><td>35157</td><td>  50</td><td>65</td><td>195</td><td>⋯</td><td>18.90462</td><td>3.275891</td><td>35107</td><td>98.37200</td><td>10.399635</td><td>14.15882</td><td> 8.179287</td><td>11.008586</td><td>0</td><td>AAR</td></tr>\n",
              "</tbody>\n",
              "</table>\n"
            ],
            "text/markdown": "\nA tibble: 6 × 28\n\n| PID &lt;int&gt; | county &lt;chr&gt; | state &lt;chr&gt; | area &lt;dbl&gt; | poptotal &lt;int&gt; | popdensity &lt;dbl&gt; | popwhite &lt;int&gt; | popblack &lt;int&gt; | popamerindian &lt;int&gt; | popasian &lt;int&gt; | ⋯ ⋯ | percollege &lt;dbl&gt; | percprof &lt;dbl&gt; | poppovertyknown &lt;int&gt; | percpovertyknown &lt;dbl&gt; | percbelowpoverty &lt;dbl&gt; | percchildbelowpovert &lt;dbl&gt; | percadultpoverty &lt;dbl&gt; | percelderlypoverty &lt;dbl&gt; | inmetro &lt;int&gt; | category &lt;chr&gt; |\n|---|---|---|---|---|---|---|---|---|---|---|---|---|---|---|---|---|---|---|---|---|\n| 561 | ADAMS     | IL | 0.052 | 66090 | 1270.9615 | 63917 | 1702 | 98 | 249 | ⋯ | 19.63139 | 4.355859 | 63628 | 96.27478 | 13.151443 | 18.01172 | 11.009776 | 12.443812 | 0 | AAR |\n| 562 | ALEXANDER | IL | 0.014 | 10626 |  759.0000 |  7054 | 3496 | 19 |  48 | ⋯ | 11.24331 | 2.870315 | 10529 | 99.08714 | 32.244278 | 45.82651 | 27.385647 | 25.228976 | 0 | LHR |\n| 563 | BOND      | IL | 0.022 | 14991 |  681.4091 | 14477 |  429 | 35 |  16 | ⋯ | 17.03382 | 4.488572 | 14235 | 94.95697 | 12.068844 | 14.03606 | 10.852090 | 12.697410 | 0 | AAR |\n| 564 | BOONE     | IL | 0.017 | 30806 | 1812.1176 | 29344 |  127 | 46 | 150 | ⋯ | 17.27895 | 4.197800 | 30337 | 98.47757 |  7.209019 | 11.17954 |  5.536013 |  6.217047 | 1 | ALU |\n| 565 | BROWN     | IL | 0.018 |  5836 |  324.2222 |  5264 |  547 | 14 |   5 | ⋯ | 14.47600 | 3.367680 |  4815 | 82.50514 | 13.520249 | 13.02289 | 11.143211 | 19.200000 | 0 | AAR |\n| 566 | BUREAU    | IL | 0.050 | 35688 |  713.7600 | 35157 |   50 | 65 | 195 | ⋯ | 18.90462 | 3.275891 | 35107 | 98.37200 | 10.399635 | 14.15882 |  8.179287 | 11.008586 | 0 | AAR |\n\n",
            "text/latex": "A tibble: 6 × 28\n\\begin{tabular}{lllllllllllllllllllll}\n PID & county & state & area & poptotal & popdensity & popwhite & popblack & popamerindian & popasian & ⋯ & percollege & percprof & poppovertyknown & percpovertyknown & percbelowpoverty & percchildbelowpovert & percadultpoverty & percelderlypoverty & inmetro & category\\\\\n <int> & <chr> & <chr> & <dbl> & <int> & <dbl> & <int> & <int> & <int> & <int> & ⋯ & <dbl> & <dbl> & <int> & <dbl> & <dbl> & <dbl> & <dbl> & <dbl> & <int> & <chr>\\\\\n\\hline\n\t 561 & ADAMS     & IL & 0.052 & 66090 & 1270.9615 & 63917 & 1702 & 98 & 249 & ⋯ & 19.63139 & 4.355859 & 63628 & 96.27478 & 13.151443 & 18.01172 & 11.009776 & 12.443812 & 0 & AAR\\\\\n\t 562 & ALEXANDER & IL & 0.014 & 10626 &  759.0000 &  7054 & 3496 & 19 &  48 & ⋯ & 11.24331 & 2.870315 & 10529 & 99.08714 & 32.244278 & 45.82651 & 27.385647 & 25.228976 & 0 & LHR\\\\\n\t 563 & BOND      & IL & 0.022 & 14991 &  681.4091 & 14477 &  429 & 35 &  16 & ⋯ & 17.03382 & 4.488572 & 14235 & 94.95697 & 12.068844 & 14.03606 & 10.852090 & 12.697410 & 0 & AAR\\\\\n\t 564 & BOONE     & IL & 0.017 & 30806 & 1812.1176 & 29344 &  127 & 46 & 150 & ⋯ & 17.27895 & 4.197800 & 30337 & 98.47757 &  7.209019 & 11.17954 &  5.536013 &  6.217047 & 1 & ALU\\\\\n\t 565 & BROWN     & IL & 0.018 &  5836 &  324.2222 &  5264 &  547 & 14 &   5 & ⋯ & 14.47600 & 3.367680 &  4815 & 82.50514 & 13.520249 & 13.02289 & 11.143211 & 19.200000 & 0 & AAR\\\\\n\t 566 & BUREAU    & IL & 0.050 & 35688 &  713.7600 & 35157 &   50 & 65 & 195 & ⋯ & 18.90462 & 3.275891 & 35107 & 98.37200 & 10.399635 & 14.15882 &  8.179287 & 11.008586 & 0 & AAR\\\\\n\\end{tabular}\n",
            "text/plain": [
              "  PID county    state area  poptotal popdensity popwhite popblack popamerindian\n",
              "1 561 ADAMS     IL    0.052 66090    1270.9615  63917    1702     98           \n",
              "2 562 ALEXANDER IL    0.014 10626     759.0000   7054    3496     19           \n",
              "3 563 BOND      IL    0.022 14991     681.4091  14477     429     35           \n",
              "4 564 BOONE     IL    0.017 30806    1812.1176  29344     127     46           \n",
              "5 565 BROWN     IL    0.018  5836     324.2222   5264     547     14           \n",
              "6 566 BUREAU    IL    0.050 35688     713.7600  35157      50     65           \n",
              "  popasian ⋯ percollege percprof poppovertyknown percpovertyknown\n",
              "1 249      ⋯ 19.63139   4.355859 63628           96.27478        \n",
              "2  48      ⋯ 11.24331   2.870315 10529           99.08714        \n",
              "3  16      ⋯ 17.03382   4.488572 14235           94.95697        \n",
              "4 150      ⋯ 17.27895   4.197800 30337           98.47757        \n",
              "5   5      ⋯ 14.47600   3.367680  4815           82.50514        \n",
              "6 195      ⋯ 18.90462   3.275891 35107           98.37200        \n",
              "  percbelowpoverty percchildbelowpovert percadultpoverty percelderlypoverty\n",
              "1 13.151443        18.01172             11.009776        12.443812         \n",
              "2 32.244278        45.82651             27.385647        25.228976         \n",
              "3 12.068844        14.03606             10.852090        12.697410         \n",
              "4  7.209019        11.17954              5.536013         6.217047         \n",
              "5 13.520249        13.02289             11.143211        19.200000         \n",
              "6 10.399635        14.15882              8.179287        11.008586         \n",
              "  inmetro category\n",
              "1 0       AAR     \n",
              "2 0       LHR     \n",
              "3 0       AAR     \n",
              "4 1       ALU     \n",
              "5 0       AAR     \n",
              "6 0       AAR     "
            ]
          },
          "metadata": {}
        },
        {
          "output_type": "display_data",
          "data": {
            "text/html": [
              "<style>\n",
              ".list-inline {list-style: none; margin:0; padding: 0}\n",
              ".list-inline>li {display: inline-block}\n",
              ".list-inline>li:not(:last-child)::after {content: \"\\00b7\"; padding: 0 .5ex}\n",
              "</style>\n",
              "<ol class=list-inline><li>437</li><li>28</li></ol>\n"
            ],
            "text/markdown": "1. 437\n2. 28\n\n\n",
            "text/latex": "\\begin{enumerate*}\n\\item 437\n\\item 28\n\\end{enumerate*}\n",
            "text/plain": [
              "[1] 437  28"
            ]
          },
          "metadata": {}
        }
      ]
    },
    {
      "cell_type": "code",
      "source": [
        "# Summary of the percollege of midwest\n",
        "names(midwest)\n",
        "summary(midwest$percollege)"
      ],
      "metadata": {
        "colab": {
          "base_uri": "https://localhost:8080/",
          "height": 86
        },
        "id": "5QbzaSRFgqxO",
        "outputId": "41097738-ab57-4663-bd91-17f661890e39"
      },
      "execution_count": null,
      "outputs": [
        {
          "output_type": "display_data",
          "data": {
            "text/html": [
              "<style>\n",
              ".list-inline {list-style: none; margin:0; padding: 0}\n",
              ".list-inline>li {display: inline-block}\n",
              ".list-inline>li:not(:last-child)::after {content: \"\\00b7\"; padding: 0 .5ex}\n",
              "</style>\n",
              "<ol class=list-inline><li>'PID'</li><li>'county'</li><li>'state'</li><li>'area'</li><li>'poptotal'</li><li>'popdensity'</li><li>'popwhite'</li><li>'popblack'</li><li>'popamerindian'</li><li>'popasian'</li><li>'popother'</li><li>'percwhite'</li><li>'percblack'</li><li>'percamerindan'</li><li>'percasian'</li><li>'percother'</li><li>'popadults'</li><li>'perchsd'</li><li>'percollege'</li><li>'percprof'</li><li>'poppovertyknown'</li><li>'percpovertyknown'</li><li>'percbelowpoverty'</li><li>'percchildbelowpovert'</li><li>'percadultpoverty'</li><li>'percelderlypoverty'</li><li>'inmetro'</li><li>'category'</li></ol>\n"
            ],
            "text/markdown": "1. 'PID'\n2. 'county'\n3. 'state'\n4. 'area'\n5. 'poptotal'\n6. 'popdensity'\n7. 'popwhite'\n8. 'popblack'\n9. 'popamerindian'\n10. 'popasian'\n11. 'popother'\n12. 'percwhite'\n13. 'percblack'\n14. 'percamerindan'\n15. 'percasian'\n16. 'percother'\n17. 'popadults'\n18. 'perchsd'\n19. 'percollege'\n20. 'percprof'\n21. 'poppovertyknown'\n22. 'percpovertyknown'\n23. 'percbelowpoverty'\n24. 'percchildbelowpovert'\n25. 'percadultpoverty'\n26. 'percelderlypoverty'\n27. 'inmetro'\n28. 'category'\n\n\n",
            "text/latex": "\\begin{enumerate*}\n\\item 'PID'\n\\item 'county'\n\\item 'state'\n\\item 'area'\n\\item 'poptotal'\n\\item 'popdensity'\n\\item 'popwhite'\n\\item 'popblack'\n\\item 'popamerindian'\n\\item 'popasian'\n\\item 'popother'\n\\item 'percwhite'\n\\item 'percblack'\n\\item 'percamerindan'\n\\item 'percasian'\n\\item 'percother'\n\\item 'popadults'\n\\item 'perchsd'\n\\item 'percollege'\n\\item 'percprof'\n\\item 'poppovertyknown'\n\\item 'percpovertyknown'\n\\item 'percbelowpoverty'\n\\item 'percchildbelowpovert'\n\\item 'percadultpoverty'\n\\item 'percelderlypoverty'\n\\item 'inmetro'\n\\item 'category'\n\\end{enumerate*}\n",
            "text/plain": [
              " [1] \"PID\"                  \"county\"               \"state\"               \n",
              " [4] \"area\"                 \"poptotal\"             \"popdensity\"          \n",
              " [7] \"popwhite\"             \"popblack\"             \"popamerindian\"       \n",
              "[10] \"popasian\"             \"popother\"             \"percwhite\"           \n",
              "[13] \"percblack\"            \"percamerindan\"        \"percasian\"           \n",
              "[16] \"percother\"            \"popadults\"            \"perchsd\"             \n",
              "[19] \"percollege\"           \"percprof\"             \"poppovertyknown\"     \n",
              "[22] \"percpovertyknown\"     \"percbelowpoverty\"     \"percchildbelowpovert\"\n",
              "[25] \"percadultpoverty\"     \"percelderlypoverty\"   \"inmetro\"             \n",
              "[28] \"category\"            "
            ]
          },
          "metadata": {}
        },
        {
          "output_type": "display_data",
          "data": {
            "text/plain": [
              "   Min. 1st Qu.  Median    Mean 3rd Qu.    Max. \n",
              "  7.336  14.114  16.798  18.273  20.550  48.079 "
            ]
          },
          "metadata": {}
        }
      ]
    },
    {
      "cell_type": "code",
      "source": [
        "# Checking normality: Preliminary Idea from observed data and Draw two plot\n",
        "p1 <- ggplot(midwest, aes(percollege)) + geom_histogram(fill=\"white\", color=\"grey30\")\n",
        "p2 <- ggplot(midwest, aes(percollege)) + geom_histogram(fill=\"white\", color=\"grey30\") + scale_x_log10()\n",
        "grid.arrange(p1, p2, ncol=2)"
      ],
      "metadata": {
        "colab": {
          "base_uri": "https://localhost:8080/",
          "height": 472
        },
        "id": "aIVsI64qhBix",
        "outputId": "5e87ffe6-fdfa-4de3-a95a-cec266781151"
      },
      "execution_count": null,
      "outputs": [
        {
          "output_type": "stream",
          "name": "stderr",
          "text": [
            "\u001b[1m\u001b[22m`stat_bin()` using `bins = 30`. Pick better value with `binwidth`.\n",
            "\u001b[1m\u001b[22m`stat_bin()` using `bins = 30`. Pick better value with `binwidth`.\n"
          ]
        },
        {
          "output_type": "display_data",
          "data": {
            "text/plain": [
              "plot without title"
            ],
            "image/png": "[encoded data removed]"
          },
          "metadata": {
            "image/png": {
              "width": 420,
              "height": 420
            }
          }
        }
      ]
    },
    {
      "cell_type": "code",
      "source": [
        "# Checking normality: Alternative (Based on observed data & probability function)\n",
        "p1 <- ggplot(midwest, aes(x = percollege)) + geom_histogram(aes(y =..density..), colour = \"black\", fill = \"white\")+theme_bw() + stat_function(fun = dnorm, args = list(mean = mean(midwest$percollege),sd=sd(midwest$percollege)))\n",
        "midwest$lnpercollege <- log(midwest$percollege)\n",
        "p2 <- ggplot(midwest, aes(x = lnpercollege)) + geom_histogram(aes(y =..density..), colour = \"black\",  fill = \"white\") +  theme_bw() + stat_function(fun = dnorm, args = list(mean = mean(midwest$lnpercollege),sd=sd(midwest$lnpercollege)))\n",
        "\n",
        "grid.arrange(p1, p2, ncol=2)"
      ],
      "metadata": {
        "colab": {
          "base_uri": "https://localhost:8080/",
          "height": 524
        },
        "id": "OkS29N-5hRCG",
        "outputId": "2459c9b2-f912-4ad3-b512-a94f8c491769"
      },
      "execution_count": null,
      "outputs": [
        {
          "output_type": "stream",
          "name": "stderr",
          "text": [
            "Warning message:\n",
            "“\u001b[1m\u001b[22mThe dot-dot notation (`..density..`) was deprecated in ggplot2 3.4.0.\n",
            "\u001b[36mℹ\u001b[39m Please use `after_stat(density)` instead.”\n",
            "\u001b[1m\u001b[22m`stat_bin()` using `bins = 30`. Pick better value with `binwidth`.\n",
            "\u001b[1m\u001b[22m`stat_bin()` using `bins = 30`. Pick better value with `binwidth`.\n"
          ]
        },
        {
          "output_type": "display_data",
          "data": {
            "text/plain": [
              "plot without title"
            ],
            "image/png": "[encoded data removed]"
          },
          "metadata": {
            "image/png": {
              "width": 420,
              "height": 420
            }
          }
        }
      ]
    },
    {
      "cell_type": "code",
      "source": [
        "# Test with original data\n",
        "t.test(midwest$percollege, mu=32, alternative=\"less\")"
      ],
      "metadata": {
        "colab": {
          "base_uri": "https://localhost:8080/",
          "height": 208
        },
        "id": "JMBDUkJ1iWO7",
        "outputId": "afb9801e-b1de-4dfe-9a44-96aff0bf386c"
      },
      "execution_count": null,
      "outputs": [
        {
          "output_type": "display_data",
          "data": {
            "text/plain": [
              "\n",
              "\tOne Sample t-test\n",
              "\n",
              "data:  midwest$percollege\n",
              "t = -45.827, df = 436, p-value < 2.2e-16\n",
              "alternative hypothesis: true mean is less than 32\n",
              "95 percent confidence interval:\n",
              "    -Inf 18.7665\n",
              "sample estimates:\n",
              "mean of x \n",
              " 18.27274 \n"
            ]
          },
          "metadata": {}
        }
      ]
    },
    {
      "cell_type": "code",
      "source": [
        "# Test with log transform data\n",
        "t.test(log(midwest$percollege), mu=log(32), alternative = \"less\")"
      ],
      "metadata": {
        "colab": {
          "base_uri": "https://localhost:8080/",
          "height": 208
        },
        "id": "eA8m4JdKiocZ",
        "outputId": "672203cf-f3a2-455c-bbbd-1b1982ead893"
      },
      "execution_count": null,
      "outputs": [
        {
          "output_type": "display_data",
          "data": {
            "text/plain": [
              "\n",
              "\tOne Sample t-test\n",
              "\n",
              "data:  log(midwest$percollege)\n",
              "t = -41.496, df = 436, p-value < 2.2e-16\n",
              "alternative hypothesis: true mean is less than 3.465736\n",
              "95 percent confidence interval:\n",
              "     -Inf 2.879812\n",
              "sample estimates:\n",
              "mean of x \n",
              " 2.855574 \n"
            ]
          },
          "metadata": {}
        }
      ]
    },
    {
      "cell_type": "markdown",
      "source": [
        "## Wilcoxon signed-rank Test: One sample"
      ],
      "metadata": {
        "id": "Dn02IR_ajpZF"
      }
    },
    {
      "cell_type": "code",
      "source": [
        "wilcox.test(midwest$percollege, mu=32, alternative = \"less\")"
      ],
      "metadata": {
        "colab": {
          "base_uri": "https://localhost:8080/",
          "height": 121
        },
        "id": "AqurXR1fi5lw",
        "outputId": "e8a5525b-3143-4dbf-97df-a46d9dae622a"
      },
      "execution_count": null,
      "outputs": [
        {
          "output_type": "display_data",
          "data": {
            "text/plain": [
              "\n",
              "\tWilcoxon signed rank test with continuity correction\n",
              "\n",
              "data:  midwest$percollege\n",
              "V = 924, p-value < 2.2e-16\n",
              "alternative hypothesis: true location is less than 32\n"
            ]
          },
          "metadata": {}
        }
      ]
    },
    {
      "cell_type": "markdown",
      "source": [
        "# Two Independent Sample T-Test"
      ],
      "metadata": {
        "id": "Fs3eXinNkKLF"
      }
    },
    {
      "cell_type": "code",
      "source": [
        "a <- c(175, 168, 168, 190, 156, 181, 182, 175, 174, 179)\n",
        "b <- c(185, 169, 173, 173, 188, 186, 175, 174, 179, 180)"
      ],
      "metadata": {
        "id": "EpdFLLaKkAT5"
      },
      "execution_count": null,
      "outputs": []
    },
    {
      "cell_type": "code",
      "source": [
        "# Test for the assumption of equal variances\n",
        "var.test(a, b)"
      ],
      "metadata": {
        "colab": {
          "base_uri": "https://localhost:8080/",
          "height": 208
        },
        "id": "wzCFFBE2kX9m",
        "outputId": "e3265b80-8c64-4279-b64c-072b266b63fd"
      },
      "execution_count": null,
      "outputs": [
        {
          "output_type": "display_data",
          "data": {
            "text/plain": [
              "\n",
              "\tF test to compare two variances\n",
              "\n",
              "data:  a and b\n",
              "F = 2.1028, num df = 9, denom df = 9, p-value = 0.2834\n",
              "alternative hypothesis: true ratio of variances is not equal to 1\n",
              "95 percent confidence interval:\n",
              " 0.5223017 8.4657950\n",
              "sample estimates:\n",
              "ratio of variances \n",
              "          2.102784 \n"
            ]
          },
          "metadata": {}
        }
      ]
    },
    {
      "cell_type": "code",
      "source": [
        "# Two populations Mean Test Assuming equal variances\n",
        "t.test(a, b)"
      ],
      "metadata": {
        "colab": {
          "base_uri": "https://localhost:8080/",
          "height": 208
        },
        "id": "vKLr5oknkcEc",
        "outputId": "d0bf3622-6f92-4ce2-9230-77f7ec5249c4"
      },
      "execution_count": null,
      "outputs": [
        {
          "output_type": "display_data",
          "data": {
            "text/plain": [
              "\n",
              "\tWelch Two Sample t-test\n",
              "\n",
              "data:  a and b\n",
              "t = -0.94737, df = 15.981, p-value = 0.3576\n",
              "alternative hypothesis: true difference in means is not equal to 0\n",
              "95 percent confidence interval:\n",
              " -11.008795   4.208795\n",
              "sample estimates:\n",
              "mean of x mean of y \n",
              "    174.8     178.2 \n"
            ]
          },
          "metadata": {}
        }
      ]
    },
    {
      "cell_type": "markdown",
      "source": [
        "### Question 2:\n",
        "Using the midwest data now compare the difference between the average percent of college educated adults in Ohio Vs Michigan."
      ],
      "metadata": {
        "id": "BaEyCtCHkwu_"
      }
    },
    {
      "cell_type": "code",
      "source": [
        "# Here We need to use the tow-sample independent t-test\n",
        "filter_df <- midwest %>% filter(state == \"OH\" | state == \"MI\") %>% select(state, percollege)"
      ],
      "metadata": {
        "id": "oeWyNmi9kjSU"
      },
      "execution_count": null,
      "outputs": []
    },
    {
      "cell_type": "code",
      "source": [
        "# Ohio summary stats\n",
        "summary(filter_df %>% filter(state == \"OH\") %>% .$percollege )"
      ],
      "metadata": {
        "colab": {
          "base_uri": "https://localhost:8080/",
          "height": 52
        },
        "id": "19Gjzyo3lumh",
        "outputId": "52659758-4d81-459b-8b3c-c3e24b727a3d"
      },
      "execution_count": null,
      "outputs": [
        {
          "output_type": "display_data",
          "data": {
            "text/plain": [
              "   Min. 1st Qu.  Median    Mean 3rd Qu.    Max. \n",
              "  7.913  13.089  15.462  16.890  18.995  32.205 "
            ]
          },
          "metadata": {}
        }
      ]
    },
    {
      "cell_type": "code",
      "source": [
        "# Michigan summary stats\n",
        "summary(filter_df %>% filter(state==\"MI\") %>% .$percollege)"
      ],
      "metadata": {
        "colab": {
          "base_uri": "https://localhost:8080/",
          "height": 52
        },
        "id": "I2qsEa0imufl",
        "outputId": "74fdf38b-b8f0-4341-e270-4522034304b6"
      },
      "execution_count": null,
      "outputs": [
        {
          "output_type": "display_data",
          "data": {
            "text/plain": [
              "   Min. 1st Qu.  Median    Mean 3rd Qu.    Max. \n",
              "  11.31   14.61   17.43   19.42   21.31   48.08 "
            ]
          },
          "metadata": {}
        }
      ]
    },
    {
      "cell_type": "code",
      "source": [
        "# Box-plot:\n",
        "ggplot(filter_df, aes(state, percollege)) + geom_boxplot()"
      ],
      "metadata": {
        "colab": {
          "base_uri": "https://localhost:8080/",
          "height": 437
        },
        "id": "vMVjQUUkm7Z8",
        "outputId": "0cc99fe6-333d-4012-daa8-b03ee856e6fb"
      },
      "execution_count": null,
      "outputs": [
        {
          "output_type": "display_data",
          "data": {
            "text/plain": [
              "plot without title"
            ],
            "image/png": "[encoded data removed]"
          },
          "metadata": {
            "image/png": {
              "width": 420,
              "height": 420
            }
          }
        }
      ]
    },
    {
      "cell_type": "code",
      "source": [
        "# Histogram\n",
        "p1 <- ggplot(filter_df, aes(percollege)) + geom_histogram(fill=\"grey30\", color=\"white\") + facet_wrap(~ state)\n",
        "p2 <- ggplot(filter_df, aes(percollege)) + geom_histogram(fill=\"grey30\", color=\"white\") + facet_wrap(~ state) + scale_x_log10()\n",
        "grid.arrange(p1, p2, nrow=2)"
      ],
      "metadata": {
        "colab": {
          "base_uri": "https://localhost:8080/",
          "height": 472
        },
        "id": "1KPlvIu7nTuE",
        "outputId": "a5a610ef-c2fc-4885-e3a7-b13e6ab68b2b"
      },
      "execution_count": null,
      "outputs": [
        {
          "output_type": "stream",
          "name": "stderr",
          "text": [
            "\u001b[1m\u001b[22m`stat_bin()` using `bins = 30`. Pick better value with `binwidth`.\n",
            "\u001b[1m\u001b[22m`stat_bin()` using `bins = 30`. Pick better value with `binwidth`.\n"
          ]
        },
        {
          "output_type": "display_data",
          "data": {
            "text/plain": [
              "plot without title"
            ],
            "image/png": "[encoded data removed]"
          },
          "metadata": {
            "image/png": {
              "width": 420,
              "height": 420
            }
          }
        }
      ]
    },
    {
      "cell_type": "code",
      "source": [
        "# Test with original data\n",
        "head(filter_df)\n",
        "unique(filter_df$state)"
      ],
      "metadata": {
        "colab": {
          "base_uri": "https://localhost:8080/",
          "height": 304
        },
        "id": "XGtX3tUMnqa7",
        "outputId": "db948875-1ad2-4e84-cafb-96077b5a444b"
      },
      "execution_count": null,
      "outputs": [
        {
          "output_type": "display_data",
          "data": {
            "text/html": [
              "<table class=\"dataframe\">\n",
              "<caption>A tibble: 6 × 2</caption>\n",
              "<thead>\n",
              "\t<tr><th scope=col>state</th><th scope=col>percollege</th></tr>\n",
              "\t<tr><th scope=col>&lt;chr&gt;</th><th scope=col>&lt;dbl&gt;</th></tr>\n",
              "</thead>\n",
              "<tbody>\n",
              "\t<tr><td>MI</td><td>14.11509</td></tr>\n",
              "\t<tr><td>MI</td><td>16.27559</td></tr>\n",
              "\t<tr><td>MI</td><td>18.06602</td></tr>\n",
              "\t<tr><td>MI</td><td>18.93380</td></tr>\n",
              "\t<tr><td>MI</td><td>19.03980</td></tr>\n",
              "\t<tr><td>MI</td><td>11.82785</td></tr>\n",
              "</tbody>\n",
              "</table>\n"
            ],
            "text/markdown": "\nA tibble: 6 × 2\n\n| state &lt;chr&gt; | percollege &lt;dbl&gt; |\n|---|---|\n| MI | 14.11509 |\n| MI | 16.27559 |\n| MI | 18.06602 |\n| MI | 18.93380 |\n| MI | 19.03980 |\n| MI | 11.82785 |\n\n",
            "text/latex": "A tibble: 6 × 2\n\\begin{tabular}{ll}\n state & percollege\\\\\n <chr> & <dbl>\\\\\n\\hline\n\t MI & 14.11509\\\\\n\t MI & 16.27559\\\\\n\t MI & 18.06602\\\\\n\t MI & 18.93380\\\\\n\t MI & 19.03980\\\\\n\t MI & 11.82785\\\\\n\\end{tabular}\n",
            "text/plain": [
              "  state percollege\n",
              "1 MI    14.11509  \n",
              "2 MI    16.27559  \n",
              "3 MI    18.06602  \n",
              "4 MI    18.93380  \n",
              "5 MI    19.03980  \n",
              "6 MI    11.82785  "
            ]
          },
          "metadata": {}
        },
        {
          "output_type": "display_data",
          "data": {
            "text/html": [
              "<style>\n",
              ".list-inline {list-style: none; margin:0; padding: 0}\n",
              ".list-inline>li {display: inline-block}\n",
              ".list-inline>li:not(:last-child)::after {content: \"\\00b7\"; padding: 0 .5ex}\n",
              "</style>\n",
              "<ol class=list-inline><li>'MI'</li><li>'OH'</li></ol>\n"
            ],
            "text/markdown": "1. 'MI'\n2. 'OH'\n\n\n",
            "text/latex": "\\begin{enumerate*}\n\\item 'MI'\n\\item 'OH'\n\\end{enumerate*}\n",
            "text/plain": [
              "[1] \"MI\" \"OH\""
            ]
          },
          "metadata": {}
        }
      ]
    },
    {
      "cell_type": "code",
      "source": [
        "t.test(percollege ~ state, data=filter_df)"
      ],
      "metadata": {
        "colab": {
          "base_uri": "https://localhost:8080/",
          "height": 208
        },
        "id": "yLRJSGSaoU7k",
        "outputId": "9f62cc0d-97ea-4c42-c2cd-7bd069e496fc"
      },
      "execution_count": null,
      "outputs": [
        {
          "output_type": "display_data",
          "data": {
            "text/plain": [
              "\n",
              "\tWelch Two Sample t-test\n",
              "\n",
              "data:  percollege by state\n",
              "t = 2.5953, df = 161.27, p-value = 0.01032\n",
              "alternative hypothesis: true difference in means between group MI and group OH is not equal to 0\n",
              "95 percent confidence interval:\n",
              " 0.6051571 4.4568579\n",
              "sample estimates:\n",
              "mean in group MI mean in group OH \n",
              "        19.42146         16.89045 \n"
            ]
          },
          "metadata": {}
        }
      ]
    },
    {
      "cell_type": "code",
      "source": [
        "# Test with log transform data\n",
        "t.test(log(percollege) ~ state, data=filter_df)"
      ],
      "metadata": {
        "colab": {
          "base_uri": "https://localhost:8080/",
          "height": 208
        },
        "id": "9CoEjWzCoZZt",
        "outputId": "7a734cdb-446f-4b43-c3b1-ecb16d65e0ac"
      },
      "execution_count": null,
      "outputs": [
        {
          "output_type": "display_data",
          "data": {
            "text/plain": [
              "\n",
              "\tWelch Two Sample t-test\n",
              "\n",
              "data:  log(percollege) by state\n",
              "t = 2.9556, df = 168.98, p-value = 0.003567\n",
              "alternative hypothesis: true difference in means between group MI and group OH is not equal to 0\n",
              "95 percent confidence interval:\n",
              " 0.04724892 0.23732151\n",
              "sample estimates:\n",
              "mean in group MI mean in group OH \n",
              "        2.915873         2.773587 \n"
            ]
          },
          "metadata": {}
        }
      ]
    },
    {
      "cell_type": "markdown",
      "source": [
        "## Mann-Whitney U test:\n",
        "- Non-parametric alternative to two independent samples mean t-test"
      ],
      "metadata": {
        "id": "VRBbPEDrpKMP"
      }
    },
    {
      "cell_type": "code",
      "source": [
        "wilcox.test(percollege ~ state, data=filter_df)"
      ],
      "metadata": {
        "colab": {
          "base_uri": "https://localhost:8080/",
          "height": 121
        },
        "id": "ru5vJ3BEo7w6",
        "outputId": "bdfbed64-7833-4692-c9a2-05ef9f736181"
      },
      "execution_count": null,
      "outputs": [
        {
          "output_type": "display_data",
          "data": {
            "text/plain": [
              "\n",
              "\tWilcoxon rank sum test with continuity correction\n",
              "\n",
              "data:  percollege by state\n",
              "W = 4618, p-value = 0.002845\n",
              "alternative hypothesis: true location shift is not equal to 0\n"
            ]
          },
          "metadata": {}
        }
      ]
    },
    {
      "cell_type": "markdown",
      "source": [
        "# Paired Sample T-Test"
      ],
      "metadata": {
        "id": "P3xh5LTHsoLd"
      }
    },
    {
      "cell_type": "code",
      "source": [
        "data(sleep)\t# Built-in data from ggplot2\n",
        "head(sleep)\n",
        "dim(sleep)\n",
        "length(unique(sleep$group))"
      ],
      "metadata": {
        "colab": {
          "base_uri": "https://localhost:8080/",
          "height": 321
        },
        "id": "8GmlpeDIscu7",
        "outputId": "3499cf16-db43-43dc-a323-993de4187461"
      },
      "execution_count": null,
      "outputs": [
        {
          "output_type": "display_data",
          "data": {
            "text/html": [
              "<table class=\"dataframe\">\n",
              "<caption>A data.frame: 6 × 3</caption>\n",
              "<thead>\n",
              "\t<tr><th></th><th scope=col>extra</th><th scope=col>group</th><th scope=col>ID</th></tr>\n",
              "\t<tr><th></th><th scope=col>&lt;dbl&gt;</th><th scope=col>&lt;fct&gt;</th><th scope=col>&lt;fct&gt;</th></tr>\n",
              "</thead>\n",
              "<tbody>\n",
              "\t<tr><th scope=row>1</th><td> 0.7</td><td>1</td><td>1</td></tr>\n",
              "\t<tr><th scope=row>2</th><td>-1.6</td><td>1</td><td>2</td></tr>\n",
              "\t<tr><th scope=row>3</th><td>-0.2</td><td>1</td><td>3</td></tr>\n",
              "\t<tr><th scope=row>4</th><td>-1.2</td><td>1</td><td>4</td></tr>\n",
              "\t<tr><th scope=row>5</th><td>-0.1</td><td>1</td><td>5</td></tr>\n",
              "\t<tr><th scope=row>6</th><td> 3.4</td><td>1</td><td>6</td></tr>\n",
              "</tbody>\n",
              "</table>\n"
            ],
            "text/markdown": "\nA data.frame: 6 × 3\n\n| <!--/--> | extra &lt;dbl&gt; | group &lt;fct&gt; | ID &lt;fct&gt; |\n|---|---|---|---|\n| 1 |  0.7 | 1 | 1 |\n| 2 | -1.6 | 1 | 2 |\n| 3 | -0.2 | 1 | 3 |\n| 4 | -1.2 | 1 | 4 |\n| 5 | -0.1 | 1 | 5 |\n| 6 |  3.4 | 1 | 6 |\n\n",
            "text/latex": "A data.frame: 6 × 3\n\\begin{tabular}{r|lll}\n  & extra & group & ID\\\\\n  & <dbl> & <fct> & <fct>\\\\\n\\hline\n\t1 &  0.7 & 1 & 1\\\\\n\t2 & -1.6 & 1 & 2\\\\\n\t3 & -0.2 & 1 & 3\\\\\n\t4 & -1.2 & 1 & 4\\\\\n\t5 & -0.1 & 1 & 5\\\\\n\t6 &  3.4 & 1 & 6\\\\\n\\end{tabular}\n",
            "text/plain": [
              "  extra group ID\n",
              "1  0.7  1     1 \n",
              "2 -1.6  1     2 \n",
              "3 -0.2  1     3 \n",
              "4 -1.2  1     4 \n",
              "5 -0.1  1     5 \n",
              "6  3.4  1     6 "
            ]
          },
          "metadata": {}
        },
        {
          "output_type": "display_data",
          "data": {
            "text/html": [
              "<style>\n",
              ".list-inline {list-style: none; margin:0; padding: 0}\n",
              ".list-inline>li {display: inline-block}\n",
              ".list-inline>li:not(:last-child)::after {content: \"\\00b7\"; padding: 0 .5ex}\n",
              "</style>\n",
              "<ol class=list-inline><li>20</li><li>3</li></ol>\n"
            ],
            "text/markdown": "1. 20\n2. 3\n\n\n",
            "text/latex": "\\begin{enumerate*}\n\\item 20\n\\item 3\n\\end{enumerate*}\n",
            "text/plain": [
              "[1] 20  3"
            ]
          },
          "metadata": {}
        },
        {
          "output_type": "display_data",
          "data": {
            "text/html": [
              "2"
            ],
            "text/markdown": "2",
            "text/latex": "2",
            "text/plain": [
              "[1] 2"
            ]
          },
          "metadata": {}
        }
      ]
    },
    {
      "cell_type": "code",
      "source": [
        "ggplot(sleep, aes(group, extra)) + geom_boxplot()"
      ],
      "metadata": {
        "colab": {
          "base_uri": "https://localhost:8080/",
          "height": 437
        },
        "id": "b8kAuXP1s306",
        "outputId": "44fde87e-5335-4fc7-f50d-c01b1ae3ac42"
      },
      "execution_count": null,
      "outputs": [
        {
          "output_type": "display_data",
          "data": {
            "text/plain": [
              "plot without title"
            ],
            "image/png": "[encoded data removed]"
          },
          "metadata": {
            "image/png": {
              "width": 420,
              "height": 420
            }
          }
        }
      ]
    },
    {
      "cell_type": "code",
      "source": [
        "## Paired T-test\n",
        "t.test(extra ~ group, data=sleep, paired = TRUE)"
      ],
      "metadata": {
        "colab": {
          "base_uri": "https://localhost:8080/",
          "height": 208
        },
        "id": "0lNfuymstHkO",
        "outputId": "51653fca-cd7f-42e7-ae88-de4b491111ab"
      },
      "execution_count": null,
      "outputs": [
        {
          "output_type": "display_data",
          "data": {
            "text/plain": [
              "\n",
              "\tPaired t-test\n",
              "\n",
              "data:  extra by group\n",
              "t = -4.0621, df = 9, p-value = 0.002833\n",
              "alternative hypothesis: true mean difference is not equal to 0\n",
              "95 percent confidence interval:\n",
              " -2.4598858 -0.7001142\n",
              "sample estimates:\n",
              "mean difference \n",
              "          -1.58 \n"
            ]
          },
          "metadata": {}
        }
      ]
    },
    {
      "cell_type": "markdown",
      "source": [
        "## Paired Samples: Wilcoxon Test"
      ],
      "metadata": {
        "id": "N39iyWCfuiw-"
      }
    },
    {
      "cell_type": "code",
      "source": [
        "#Weight of the mice before treatment\n",
        "before <- c(200.1, 190.9, 192.7, 213, 241.4, 196.9, \t172.2, 185.5, 205.2, 193.7)\n",
        "\n",
        "#Weight of the mice after treatment\n",
        "after <- c(392.9, 393.2, 345.1, 393, 434, 427.9, \t422, \t383.9, 392.3, 352.2)"
      ],
      "metadata": {
        "id": "D7wpAhN0uiju"
      },
      "execution_count": null,
      "outputs": []
    },
    {
      "cell_type": "code",
      "source": [
        "res <- wilcox.test(before, after, paired = TRUE)\n",
        "res"
      ],
      "metadata": {
        "colab": {
          "base_uri": "https://localhost:8080/",
          "height": 121
        },
        "id": "HJpSqSP_uq1X",
        "outputId": "a4b23201-62b1-45bf-d923-226fc28e67af"
      },
      "execution_count": null,
      "outputs": [
        {
          "output_type": "display_data",
          "data": {
            "text/plain": [
              "\n",
              "\tWilcoxon signed rank exact test\n",
              "\n",
              "data:  before and after\n",
              "V = 0, p-value = 0.001953\n",
              "alternative hypothesis: true location shift is not equal to 0\n"
            ]
          },
          "metadata": {}
        }
      ]
    }
  ]
}