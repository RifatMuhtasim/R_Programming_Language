{
  "nbformat": 4,
  "nbformat_minor": 0,
  "metadata": {
    "colab": {
      "provenance": [],
      "gpuType": "T4",
      "authorship_tag": "ABX9TyNzi0Sdk9SQTPkn+nXWtGVB"
    },
    "kernelspec": {
      "name": "ir",
      "display_name": "R"
    },
    "language_info": {
      "name": "R"
    }
  },
  "cells": [
    {
      "cell_type": "markdown",
      "source": [
        "# Examining Data"
      ],
      "metadata": {
        "id": "9ZDhahSEHgM4"
      }
    },
    {
      "cell_type": "code",
      "execution_count": null,
      "metadata": {
        "id": "vxgJBOBdF_g5"
      },
      "outputs": [],
      "source": [
        "dataset <- read.csv(\"https://raw.githubusercontent.com/Gajapathy-Selvaraj/Stock_Market_Datasets_NSE/main/NIFTY_50(INDEX)from2000.csv\")\n",
        "# dataset"
      ]
    },
    {
      "cell_type": "code",
      "source": [
        "# Dimension of data (Row, Column)\n",
        "dim(dataset)"
      ],
      "metadata": {
        "colab": {
          "base_uri": "https://localhost:8080/",
          "height": 34
        },
        "id": "fy5l9_4gHrgy",
        "outputId": "6dbafd1c-57de-465c-bdc9-47d6c4b09416"
      },
      "execution_count": null,
      "outputs": [
        {
          "output_type": "display_data",
          "data": {
            "text/html": [
              "<style>\n",
              ".list-inline {list-style: none; margin:0; padding: 0}\n",
              ".list-inline>li {display: inline-block}\n",
              ".list-inline>li:not(:last-child)::after {content: \"\\00b7\"; padding: 0 .5ex}\n",
              "</style>\n",
              "<ol class=list-inline><li>5058</li><li>6</li></ol>\n"
            ],
            "text/markdown": "1. 5058\n2. 6\n\n\n",
            "text/latex": "\\begin{enumerate*}\n\\item 5058\n\\item 6\n\\end{enumerate*}\n",
            "text/plain": [
              "[1] 5058    6"
            ]
          },
          "metadata": {}
        }
      ]
    },
    {
      "cell_type": "code",
      "source": [
        "# Show the above 5 rows value\n",
        "head(dataset)"
      ],
      "metadata": {
        "colab": {
          "base_uri": "https://localhost:8080/",
          "height": 286
        },
        "id": "iRE2EE9nHuzU",
        "outputId": "40b1e061-933c-481e-ff10-72daf85c0791"
      },
      "execution_count": null,
      "outputs": [
        {
          "output_type": "display_data",
          "data": {
            "text/html": [
              "<table class=\"dataframe\">\n",
              "<caption>A data.frame: 6 × 6</caption>\n",
              "<thead>\n",
              "\t<tr><th></th><th scope=col>Date</th><th scope=col>Open</th><th scope=col>High</th><th scope=col>Low</th><th scope=col>Close</th><th scope=col>Volume</th></tr>\n",
              "\t<tr><th></th><th scope=col>&lt;chr&gt;</th><th scope=col>&lt;dbl&gt;</th><th scope=col>&lt;dbl&gt;</th><th scope=col>&lt;dbl&gt;</th><th scope=col>&lt;dbl&gt;</th><th scope=col>&lt;int&gt;</th></tr>\n",
              "</thead>\n",
              "<tbody>\n",
              "\t<tr><th scope=row>1</th><td>1/3/2000 </td><td>1482.15</td><td>1592.90</td><td>1482.15</td><td>1592.20</td><td>0</td></tr>\n",
              "\t<tr><th scope=row>2</th><td>1/4/2000 </td><td>1594.40</td><td>1641.95</td><td>1594.40</td><td>1638.70</td><td>0</td></tr>\n",
              "\t<tr><th scope=row>3</th><td>1/5/2000 </td><td>1634.55</td><td>1635.50</td><td>1555.05</td><td>1595.80</td><td>0</td></tr>\n",
              "\t<tr><th scope=row>4</th><td>1/6/2000 </td><td>1595.80</td><td>1639.00</td><td>1595.80</td><td>1617.60</td><td>0</td></tr>\n",
              "\t<tr><th scope=row>5</th><td>1/7/2000 </td><td>1616.60</td><td>1628.25</td><td>1597.20</td><td>1613.30</td><td>0</td></tr>\n",
              "\t<tr><th scope=row>6</th><td>1/10/2000</td><td>1615.65</td><td>1662.10</td><td>1614.95</td><td>1632.95</td><td>0</td></tr>\n",
              "</tbody>\n",
              "</table>\n"
            ],
            "text/markdown": "\nA data.frame: 6 × 6\n\n| <!--/--> | Date &lt;chr&gt; | Open &lt;dbl&gt; | High &lt;dbl&gt; | Low &lt;dbl&gt; | Close &lt;dbl&gt; | Volume &lt;int&gt; |\n|---|---|---|---|---|---|---|\n| 1 | 1/3/2000  | 1482.15 | 1592.90 | 1482.15 | 1592.20 | 0 |\n| 2 | 1/4/2000  | 1594.40 | 1641.95 | 1594.40 | 1638.70 | 0 |\n| 3 | 1/5/2000  | 1634.55 | 1635.50 | 1555.05 | 1595.80 | 0 |\n| 4 | 1/6/2000  | 1595.80 | 1639.00 | 1595.80 | 1617.60 | 0 |\n| 5 | 1/7/2000  | 1616.60 | 1628.25 | 1597.20 | 1613.30 | 0 |\n| 6 | 1/10/2000 | 1615.65 | 1662.10 | 1614.95 | 1632.95 | 0 |\n\n",
            "text/latex": "A data.frame: 6 × 6\n\\begin{tabular}{r|llllll}\n  & Date & Open & High & Low & Close & Volume\\\\\n  & <chr> & <dbl> & <dbl> & <dbl> & <dbl> & <int>\\\\\n\\hline\n\t1 & 1/3/2000  & 1482.15 & 1592.90 & 1482.15 & 1592.20 & 0\\\\\n\t2 & 1/4/2000  & 1594.40 & 1641.95 & 1594.40 & 1638.70 & 0\\\\\n\t3 & 1/5/2000  & 1634.55 & 1635.50 & 1555.05 & 1595.80 & 0\\\\\n\t4 & 1/6/2000  & 1595.80 & 1639.00 & 1595.80 & 1617.60 & 0\\\\\n\t5 & 1/7/2000  & 1616.60 & 1628.25 & 1597.20 & 1613.30 & 0\\\\\n\t6 & 1/10/2000 & 1615.65 & 1662.10 & 1614.95 & 1632.95 & 0\\\\\n\\end{tabular}\n",
            "text/plain": [
              "  Date      Open    High    Low     Close   Volume\n",
              "1 1/3/2000  1482.15 1592.90 1482.15 1592.20 0     \n",
              "2 1/4/2000  1594.40 1641.95 1594.40 1638.70 0     \n",
              "3 1/5/2000  1634.55 1635.50 1555.05 1595.80 0     \n",
              "4 1/6/2000  1595.80 1639.00 1595.80 1617.60 0     \n",
              "5 1/7/2000  1616.60 1628.25 1597.20 1613.30 0     \n",
              "6 1/10/2000 1615.65 1662.10 1614.95 1632.95 0     "
            ]
          },
          "metadata": {}
        }
      ]
    },
    {
      "cell_type": "code",
      "source": [
        "# Show the column variable names\n",
        "names(dataset)"
      ],
      "metadata": {
        "colab": {
          "base_uri": "https://localhost:8080/",
          "height": 34
        },
        "id": "aZrxhUIeH_Y6",
        "outputId": "33dce077-411d-4315-dcdf-6209c73b1328"
      },
      "execution_count": null,
      "outputs": [
        {
          "output_type": "display_data",
          "data": {
            "text/html": [
              "<style>\n",
              ".list-inline {list-style: none; margin:0; padding: 0}\n",
              ".list-inline>li {display: inline-block}\n",
              ".list-inline>li:not(:last-child)::after {content: \"\\00b7\"; padding: 0 .5ex}\n",
              "</style>\n",
              "<ol class=list-inline><li>'Date'</li><li>'Open'</li><li>'High'</li><li>'Low'</li><li>'Close'</li><li>'Volume'</li></ol>\n"
            ],
            "text/markdown": "1. 'Date'\n2. 'Open'\n3. 'High'\n4. 'Low'\n5. 'Close'\n6. 'Volume'\n\n\n",
            "text/latex": "\\begin{enumerate*}\n\\item 'Date'\n\\item 'Open'\n\\item 'High'\n\\item 'Low'\n\\item 'Close'\n\\item 'Volume'\n\\end{enumerate*}\n",
            "text/plain": [
              "[1] \"Date\"   \"Open\"   \"High\"   \"Low\"    \"Close\"  \"Volume\""
            ]
          },
          "metadata": {}
        }
      ]
    },
    {
      "cell_type": "code",
      "source": [
        "# Show the class of the Column Variables\n",
        "class(dataset$Close)"
      ],
      "metadata": {
        "colab": {
          "base_uri": "https://localhost:8080/",
          "height": 34
        },
        "id": "s0qL1581JC16",
        "outputId": "5e2c7b7b-551a-4c31-a3e5-c01fdfa7590a"
      },
      "execution_count": null,
      "outputs": [
        {
          "output_type": "display_data",
          "data": {
            "text/html": [
              "'numeric'"
            ],
            "text/markdown": "'numeric'",
            "text/latex": "'numeric'",
            "text/plain": [
              "[1] \"numeric\""
            ]
          },
          "metadata": {}
        }
      ]
    },
    {
      "cell_type": "code",
      "source": [
        "# Show all of the variable class name and its observations\n",
        "str(dataset)"
      ],
      "metadata": {
        "colab": {
          "base_uri": "https://localhost:8080/"
        },
        "id": "yacFQ6WVJgC0",
        "outputId": "9faf9028-a355-4d3e-ab63-52ee7625e041"
      },
      "execution_count": null,
      "outputs": [
        {
          "output_type": "stream",
          "name": "stdout",
          "text": [
            "'data.frame':\t5058 obs. of  6 variables:\n",
            " $ Date  : chr  \"1/3/2000\" \"1/4/2000\" \"1/5/2000\" \"1/6/2000\" ...\n",
            " $ Open  : num  1482 1594 1635 1596 1617 ...\n",
            " $ High  : num  1593 1642 1636 1639 1628 ...\n",
            " $ Low   : num  1482 1594 1555 1596 1597 ...\n",
            " $ Close : num  1592 1639 1596 1618 1613 ...\n",
            " $ Volume: int  0 0 0 0 0 0 0 0 0 0 ...\n"
          ]
        }
      ]
    },
    {
      "cell_type": "code",
      "source": [
        "# Count the Number of the Unique Value\n",
        "length(unique(dataset$Volume))"
      ],
      "metadata": {
        "colab": {
          "base_uri": "https://localhost:8080/",
          "height": 34
        },
        "id": "OeBheU0jKJeR",
        "outputId": "5b2de2fc-c502-4f83-b950-b7a90dfa1977"
      },
      "execution_count": null,
      "outputs": [
        {
          "output_type": "display_data",
          "data": {
            "text/html": [
              "1"
            ],
            "text/markdown": "1",
            "text/latex": "1",
            "text/plain": [
              "[1] 1"
            ]
          },
          "metadata": {}
        }
      ]
    },
    {
      "cell_type": "code",
      "source": [
        "# Unique Value\n",
        "unique(c(1,1,2,2,3))\n",
        "length(unique(c(1,1,2,2,3)))\n",
        "length(c(1,1,2,2,3))"
      ],
      "metadata": {
        "colab": {
          "base_uri": "https://localhost:8080/",
          "height": 69
        },
        "id": "MODHlQtxK7CR",
        "outputId": "b6822430-609d-4ff9-a6e1-da34a2be7a79"
      },
      "execution_count": null,
      "outputs": [
        {
          "output_type": "display_data",
          "data": {
            "text/html": [
              "<style>\n",
              ".list-inline {list-style: none; margin:0; padding: 0}\n",
              ".list-inline>li {display: inline-block}\n",
              ".list-inline>li:not(:last-child)::after {content: \"\\00b7\"; padding: 0 .5ex}\n",
              "</style>\n",
              "<ol class=list-inline><li>1</li><li>2</li><li>3</li></ol>\n"
            ],
            "text/markdown": "1. 1\n2. 2\n3. 3\n\n\n",
            "text/latex": "\\begin{enumerate*}\n\\item 1\n\\item 2\n\\item 3\n\\end{enumerate*}\n",
            "text/plain": [
              "[1] 1 2 3"
            ]
          },
          "metadata": {}
        },
        {
          "output_type": "display_data",
          "data": {
            "text/html": [
              "3"
            ],
            "text/markdown": "3",
            "text/latex": "3",
            "text/plain": [
              "[1] 3"
            ]
          },
          "metadata": {}
        },
        {
          "output_type": "display_data",
          "data": {
            "text/html": [
              "5"
            ],
            "text/markdown": "5",
            "text/latex": "5",
            "text/plain": [
              "[1] 5"
            ]
          },
          "metadata": {}
        }
      ]
    },
    {
      "cell_type": "code",
      "source": [
        "# Count the character value\n",
        "table(dataset$Volume)"
      ],
      "metadata": {
        "colab": {
          "base_uri": "https://localhost:8080/",
          "height": 72
        },
        "id": "4kmta8_bLYOk",
        "outputId": "9df07924-a1b7-4e06-e6a7-98b63514322f"
      },
      "execution_count": null,
      "outputs": [
        {
          "output_type": "display_data",
          "data": {
            "text/plain": [
              "\n",
              "   0 \n",
              "5058 "
            ]
          },
          "metadata": {}
        }
      ]
    },
    {
      "cell_type": "markdown",
      "source": [
        "# Recoding Variables"
      ],
      "metadata": {
        "id": "eR-pQWFCJZBB"
      }
    },
    {
      "cell_type": "code",
      "source": [
        "x <- rep(NA,3)\n",
        "x\n",
        "class(x)"
      ],
      "metadata": {
        "id": "y7yUarITMAGR",
        "colab": {
          "base_uri": "https://localhost:8080/",
          "height": 52
        },
        "outputId": "cf65befb-25c9-4354-9ec5-1b991ccaede2"
      },
      "execution_count": null,
      "outputs": [
        {
          "output_type": "display_data",
          "data": {
            "text/html": [
              "<style>\n",
              ".list-inline {list-style: none; margin:0; padding: 0}\n",
              ".list-inline>li {display: inline-block}\n",
              ".list-inline>li:not(:last-child)::after {content: \"\\00b7\"; padding: 0 .5ex}\n",
              "</style>\n",
              "<ol class=list-inline><li>&lt;NA&gt;</li><li>&lt;NA&gt;</li><li>&lt;NA&gt;</li></ol>\n"
            ],
            "text/markdown": "1. &lt;NA&gt;\n2. &lt;NA&gt;\n3. &lt;NA&gt;\n\n\n",
            "text/latex": "\\begin{enumerate*}\n\\item <NA>\n\\item <NA>\n\\item <NA>\n\\end{enumerate*}\n",
            "text/plain": [
              "[1] NA NA NA"
            ]
          },
          "metadata": {}
        },
        {
          "output_type": "display_data",
          "data": {
            "text/html": [
              "'logical'"
            ],
            "text/markdown": "'logical'",
            "text/latex": "'logical'",
            "text/plain": [
              "[1] \"logical\""
            ]
          },
          "metadata": {}
        }
      ]
    },
    {
      "cell_type": "code",
      "source": [
        "x <- c(NA, 1, NA, 3, 4)\n",
        "x*2\n",
        "mean(x)"
      ],
      "metadata": {
        "colab": {
          "base_uri": "https://localhost:8080/",
          "height": 52
        },
        "id": "s9FM0B28JeY3",
        "outputId": "405b5a90-2cb1-4fcc-9f06-85b5a90013b3"
      },
      "execution_count": null,
      "outputs": [
        {
          "output_type": "display_data",
          "data": {
            "text/html": [
              "<style>\n",
              ".list-inline {list-style: none; margin:0; padding: 0}\n",
              ".list-inline>li {display: inline-block}\n",
              ".list-inline>li:not(:last-child)::after {content: \"\\00b7\"; padding: 0 .5ex}\n",
              "</style>\n",
              "<ol class=list-inline><li>&lt;NA&gt;</li><li>2</li><li>&lt;NA&gt;</li><li>6</li><li>8</li></ol>\n"
            ],
            "text/markdown": "1. &lt;NA&gt;\n2. 2\n3. &lt;NA&gt;\n4. 6\n5. 8\n\n\n",
            "text/latex": "\\begin{enumerate*}\n\\item <NA>\n\\item 2\n\\item <NA>\n\\item 6\n\\item 8\n\\end{enumerate*}\n",
            "text/plain": [
              "[1] NA  2 NA  6  8"
            ]
          },
          "metadata": {}
        },
        {
          "output_type": "display_data",
          "data": {
            "text/html": [
              "&lt;NA&gt;"
            ],
            "text/markdown": "&lt;NA&gt;",
            "text/latex": "<NA>",
            "text/plain": [
              "[1] NA"
            ]
          },
          "metadata": {}
        }
      ]
    },
    {
      "cell_type": "code",
      "source": [
        "mean(x, na.rm = TRUE)"
      ],
      "metadata": {
        "colab": {
          "base_uri": "https://localhost:8080/",
          "height": 34
        },
        "id": "J6R-Flv7J2Ih",
        "outputId": "0e8e23df-621b-4899-95ec-2579cd014a98"
      },
      "execution_count": null,
      "outputs": [
        {
          "output_type": "display_data",
          "data": {
            "text/html": [
              "2.66666666666667"
            ],
            "text/markdown": "2.66666666666667",
            "text/latex": "2.66666666666667",
            "text/plain": [
              "[1] 2.666667"
            ]
          },
          "metadata": {}
        }
      ]
    },
    {
      "cell_type": "code",
      "source": [
        "# Check the class of the x variable\n",
        "class(x)\n",
        "is.na(x)\n",
        "which(is.na(x))"
      ],
      "metadata": {
        "colab": {
          "base_uri": "https://localhost:8080/",
          "height": 69
        },
        "id": "ek91AwxmJ6sk",
        "outputId": "db7cabd0-24d5-4f7d-ca59-7db10b75e7f9"
      },
      "execution_count": null,
      "outputs": [
        {
          "output_type": "display_data",
          "data": {
            "text/html": [
              "'numeric'"
            ],
            "text/markdown": "'numeric'",
            "text/latex": "'numeric'",
            "text/plain": [
              "[1] \"numeric\""
            ]
          },
          "metadata": {}
        },
        {
          "output_type": "display_data",
          "data": {
            "text/html": [
              "<style>\n",
              ".list-inline {list-style: none; margin:0; padding: 0}\n",
              ".list-inline>li {display: inline-block}\n",
              ".list-inline>li:not(:last-child)::after {content: \"\\00b7\"; padding: 0 .5ex}\n",
              "</style>\n",
              "<ol class=list-inline><li>TRUE</li><li>FALSE</li><li>TRUE</li><li>FALSE</li><li>FALSE</li></ol>\n"
            ],
            "text/markdown": "1. TRUE\n2. FALSE\n3. TRUE\n4. FALSE\n5. FALSE\n\n\n",
            "text/latex": "\\begin{enumerate*}\n\\item TRUE\n\\item FALSE\n\\item TRUE\n\\item FALSE\n\\item FALSE\n\\end{enumerate*}\n",
            "text/plain": [
              "[1]  TRUE FALSE  TRUE FALSE FALSE"
            ]
          },
          "metadata": {}
        },
        {
          "output_type": "display_data",
          "data": {
            "text/html": [
              "<style>\n",
              ".list-inline {list-style: none; margin:0; padding: 0}\n",
              ".list-inline>li {display: inline-block}\n",
              ".list-inline>li:not(:last-child)::after {content: \"\\00b7\"; padding: 0 .5ex}\n",
              "</style>\n",
              "<ol class=list-inline><li>1</li><li>3</li></ol>\n"
            ],
            "text/markdown": "1. 1\n2. 3\n\n\n",
            "text/latex": "\\begin{enumerate*}\n\\item 1\n\\item 3\n\\end{enumerate*}\n",
            "text/plain": [
              "[1] 1 3"
            ]
          },
          "metadata": {}
        }
      ]
    },
    {
      "cell_type": "code",
      "source": [
        "# Show all of the value who have no missing value\n",
        "index <- which(!is.na(x))\n",
        "x[index]"
      ],
      "metadata": {
        "colab": {
          "base_uri": "https://localhost:8080/",
          "height": 34
        },
        "id": "2lsXeb7BKFDJ",
        "outputId": "289dc979-2060-4759-a398-fdda673e08fb"
      },
      "execution_count": null,
      "outputs": [
        {
          "output_type": "display_data",
          "data": {
            "text/html": [
              "<style>\n",
              ".list-inline {list-style: none; margin:0; padding: 0}\n",
              ".list-inline>li {display: inline-block}\n",
              ".list-inline>li:not(:last-child)::after {content: \"\\00b7\"; padding: 0 .5ex}\n",
              "</style>\n",
              "<ol class=list-inline><li>1</li><li>3</li><li>4</li></ol>\n"
            ],
            "text/markdown": "1. 1\n2. 3\n3. 4\n\n\n",
            "text/latex": "\\begin{enumerate*}\n\\item 1\n\\item 3\n\\item 4\n\\end{enumerate*}\n",
            "text/plain": [
              "[1] 1 3 4"
            ]
          },
          "metadata": {}
        }
      ]
    },
    {
      "cell_type": "markdown",
      "source": [
        "## Example of Recoding Variable."
      ],
      "metadata": {
        "id": "Ox-xU9X_aE_p"
      }
    },
    {
      "cell_type": "code",
      "source": [
        "test <- read.table(header=T, text='\n",
        "                   subject sex control cond1 cond2\n",
        "                   1   M    7.9  12.3  10.7\n",
        "                   2   F     6.3  10.6  11.1\n",
        "                   3   F     9.5  13.1  13.8\n",
        "                   4   M    11.5  13.4  12.9\n",
        "                   5   F    10.5   7.8  11.0\n",
        "                   6   F    13.2   9.5  10.1\n",
        "                   7   F    11.5  12.2  14.8\n",
        "                   8   M    11.5  15.4  12.9')\n",
        "\n",
        "test"
      ],
      "metadata": {
        "colab": {
          "base_uri": "https://localhost:8080/",
          "height": 349
        },
        "id": "N-YTSTvSKWMH",
        "outputId": "7eac3be3-dc7f-4828-82d4-24bb79e01832"
      },
      "execution_count": null,
      "outputs": [
        {
          "output_type": "display_data",
          "data": {
            "text/html": [
              "<table class=\"dataframe\">\n",
              "<caption>A data.frame: 8 × 5</caption>\n",
              "<thead>\n",
              "\t<tr><th scope=col>subject</th><th scope=col>sex</th><th scope=col>control</th><th scope=col>cond1</th><th scope=col>cond2</th></tr>\n",
              "\t<tr><th scope=col>&lt;int&gt;</th><th scope=col>&lt;chr&gt;</th><th scope=col>&lt;dbl&gt;</th><th scope=col>&lt;dbl&gt;</th><th scope=col>&lt;dbl&gt;</th></tr>\n",
              "</thead>\n",
              "<tbody>\n",
              "\t<tr><td>1</td><td>M</td><td> 7.9</td><td>12.3</td><td>10.7</td></tr>\n",
              "\t<tr><td>2</td><td>F</td><td> 6.3</td><td>10.6</td><td>11.1</td></tr>\n",
              "\t<tr><td>3</td><td>F</td><td> 9.5</td><td>13.1</td><td>13.8</td></tr>\n",
              "\t<tr><td>4</td><td>M</td><td>11.5</td><td>13.4</td><td>12.9</td></tr>\n",
              "\t<tr><td>5</td><td>F</td><td>10.5</td><td> 7.8</td><td>11.0</td></tr>\n",
              "\t<tr><td>6</td><td>F</td><td>13.2</td><td> 9.5</td><td>10.1</td></tr>\n",
              "\t<tr><td>7</td><td>F</td><td>11.5</td><td>12.2</td><td>14.8</td></tr>\n",
              "\t<tr><td>8</td><td>M</td><td>11.5</td><td>15.4</td><td>12.9</td></tr>\n",
              "</tbody>\n",
              "</table>\n"
            ],
            "text/markdown": "\nA data.frame: 8 × 5\n\n| subject &lt;int&gt; | sex &lt;chr&gt; | control &lt;dbl&gt; | cond1 &lt;dbl&gt; | cond2 &lt;dbl&gt; |\n|---|---|---|---|---|\n| 1 | M |  7.9 | 12.3 | 10.7 |\n| 2 | F |  6.3 | 10.6 | 11.1 |\n| 3 | F |  9.5 | 13.1 | 13.8 |\n| 4 | M | 11.5 | 13.4 | 12.9 |\n| 5 | F | 10.5 |  7.8 | 11.0 |\n| 6 | F | 13.2 |  9.5 | 10.1 |\n| 7 | F | 11.5 | 12.2 | 14.8 |\n| 8 | M | 11.5 | 15.4 | 12.9 |\n\n",
            "text/latex": "A data.frame: 8 × 5\n\\begin{tabular}{lllll}\n subject & sex & control & cond1 & cond2\\\\\n <int> & <chr> & <dbl> & <dbl> & <dbl>\\\\\n\\hline\n\t 1 & M &  7.9 & 12.3 & 10.7\\\\\n\t 2 & F &  6.3 & 10.6 & 11.1\\\\\n\t 3 & F &  9.5 & 13.1 & 13.8\\\\\n\t 4 & M & 11.5 & 13.4 & 12.9\\\\\n\t 5 & F & 10.5 &  7.8 & 11.0\\\\\n\t 6 & F & 13.2 &  9.5 & 10.1\\\\\n\t 7 & F & 11.5 & 12.2 & 14.8\\\\\n\t 8 & M & 11.5 & 15.4 & 12.9\\\\\n\\end{tabular}\n",
            "text/plain": [
              "  subject sex control cond1 cond2\n",
              "1 1       M    7.9    12.3  10.7 \n",
              "2 2       F    6.3    10.6  11.1 \n",
              "3 3       F    9.5    13.1  13.8 \n",
              "4 4       M   11.5    13.4  12.9 \n",
              "5 5       F   10.5     7.8  11.0 \n",
              "6 6       F   13.2     9.5  10.1 \n",
              "7 7       F   11.5    12.2  14.8 \n",
              "8 8       M   11.5    15.4  12.9 "
            ]
          },
          "metadata": {}
        }
      ]
    },
    {
      "cell_type": "code",
      "source": [
        "str(test)"
      ],
      "metadata": {
        "colab": {
          "base_uri": "https://localhost:8080/"
        },
        "id": "ZeuAmv5faz1E",
        "outputId": "6b0bcbe1-4a1f-4e74-88ee-71dd3cd264e4"
      },
      "execution_count": null,
      "outputs": [
        {
          "output_type": "stream",
          "name": "stdout",
          "text": [
            "'data.frame':\t8 obs. of  5 variables:\n",
            " $ subject: int  1 2 3 4 5 6 7 8\n",
            " $ sex    : chr  \"M\" \"F\" \"F\" \"M\" ...\n",
            " $ control: num  7.9 6.3 9.5 11.5 10.5 13.2 11.5 11.5\n",
            " $ cond1  : num  12.3 10.6 13.1 13.4 7.8 9.5 12.2 15.4\n",
            " $ cond2  : num  10.7 11.1 13.8 12.9 11 10.1 14.8 12.9\n"
          ]
        }
      ]
    },
    {
      "cell_type": "code",
      "source": [
        "# Conver the Gender value - a\n",
        "library(plyr)\n",
        "test$scode <- revalue(test$sex, c(\"M\"=\"1\", \"F\"=\"2\"))\n",
        "\n",
        "# Conver the Gender value - b\n",
        "test$scode2 <- mapvalues(test$sex, from = c(\"M\", \"F\"), to = c(\"1\", \"2\"))\n",
        "str(test)"
      ],
      "metadata": {
        "colab": {
          "base_uri": "https://localhost:8080/"
        },
        "id": "ZVYiwsj2g9vX",
        "outputId": "f37c4a4a-fa7c-43ec-f208-5f3144c3621c"
      },
      "execution_count": null,
      "outputs": [
        {
          "output_type": "stream",
          "name": "stdout",
          "text": [
            "'data.frame':\t8 obs. of  7 variables:\n",
            " $ subject: int  1 2 3 4 5 6 7 8\n",
            " $ sex    : chr  \"M\" \"F\" \"F\" \"M\" ...\n",
            " $ control: num  7.9 6.3 9.5 11.5 10.5 13.2 11.5 11.5\n",
            " $ cond1  : num  12.3 10.6 13.1 13.4 7.8 9.5 12.2 15.4\n",
            " $ cond2  : num  10.7 11.1 13.8 12.9 11 10.1 14.8 12.9\n",
            " $ scode  : chr  \"1\" \"2\" \"2\" \"1\" ...\n",
            " $ scode2 : chr  \"1\" \"2\" \"2\" \"1\" ...\n"
          ]
        }
      ]
    },
    {
      "cell_type": "code",
      "source": [
        "# Convert the Gender Value -c\n",
        "test$scode3[test$sex==\"M\"] <- \"1\"\n",
        "test$scode3[test$sex==\"F\"] <- \"2\"\n",
        "test"
      ],
      "metadata": {
        "colab": {
          "base_uri": "https://localhost:8080/",
          "height": 349
        },
        "id": "Thn1wtnGdvzc",
        "outputId": "214678f4-3b97-49b9-c1aa-4781e53b06d6"
      },
      "execution_count": null,
      "outputs": [
        {
          "output_type": "display_data",
          "data": {
            "text/html": [
              "<table class=\"dataframe\">\n",
              "<caption>A data.frame: 8 × 8</caption>\n",
              "<thead>\n",
              "\t<tr><th scope=col>subject</th><th scope=col>sex</th><th scope=col>control</th><th scope=col>cond1</th><th scope=col>cond2</th><th scope=col>scode</th><th scope=col>scode2</th><th scope=col>scode3</th></tr>\n",
              "\t<tr><th scope=col>&lt;int&gt;</th><th scope=col>&lt;chr&gt;</th><th scope=col>&lt;dbl&gt;</th><th scope=col>&lt;dbl&gt;</th><th scope=col>&lt;dbl&gt;</th><th scope=col>&lt;chr&gt;</th><th scope=col>&lt;chr&gt;</th><th scope=col>&lt;chr&gt;</th></tr>\n",
              "</thead>\n",
              "<tbody>\n",
              "\t<tr><td>1</td><td>M</td><td> 7.9</td><td>12.3</td><td>10.7</td><td>1</td><td>1</td><td>1</td></tr>\n",
              "\t<tr><td>2</td><td>F</td><td> 6.3</td><td>10.6</td><td>11.1</td><td>2</td><td>2</td><td>2</td></tr>\n",
              "\t<tr><td>3</td><td>F</td><td> 9.5</td><td>13.1</td><td>13.8</td><td>2</td><td>2</td><td>2</td></tr>\n",
              "\t<tr><td>4</td><td>M</td><td>11.5</td><td>13.4</td><td>12.9</td><td>1</td><td>1</td><td>1</td></tr>\n",
              "\t<tr><td>5</td><td>F</td><td>10.5</td><td> 7.8</td><td>11.0</td><td>2</td><td>2</td><td>2</td></tr>\n",
              "\t<tr><td>6</td><td>F</td><td>13.2</td><td> 9.5</td><td>10.1</td><td>2</td><td>2</td><td>2</td></tr>\n",
              "\t<tr><td>7</td><td>F</td><td>11.5</td><td>12.2</td><td>14.8</td><td>2</td><td>2</td><td>2</td></tr>\n",
              "\t<tr><td>8</td><td>M</td><td>11.5</td><td>15.4</td><td>12.9</td><td>1</td><td>1</td><td>1</td></tr>\n",
              "</tbody>\n",
              "</table>\n"
            ],
            "text/markdown": "\nA data.frame: 8 × 8\n\n| subject &lt;int&gt; | sex &lt;chr&gt; | control &lt;dbl&gt; | cond1 &lt;dbl&gt; | cond2 &lt;dbl&gt; | scode &lt;chr&gt; | scode2 &lt;chr&gt; | scode3 &lt;chr&gt; |\n|---|---|---|---|---|---|---|---|\n| 1 | M |  7.9 | 12.3 | 10.7 | 1 | 1 | 1 |\n| 2 | F |  6.3 | 10.6 | 11.1 | 2 | 2 | 2 |\n| 3 | F |  9.5 | 13.1 | 13.8 | 2 | 2 | 2 |\n| 4 | M | 11.5 | 13.4 | 12.9 | 1 | 1 | 1 |\n| 5 | F | 10.5 |  7.8 | 11.0 | 2 | 2 | 2 |\n| 6 | F | 13.2 |  9.5 | 10.1 | 2 | 2 | 2 |\n| 7 | F | 11.5 | 12.2 | 14.8 | 2 | 2 | 2 |\n| 8 | M | 11.5 | 15.4 | 12.9 | 1 | 1 | 1 |\n\n",
            "text/latex": "A data.frame: 8 × 8\n\\begin{tabular}{llllllll}\n subject & sex & control & cond1 & cond2 & scode & scode2 & scode3\\\\\n <int> & <chr> & <dbl> & <dbl> & <dbl> & <chr> & <chr> & <chr>\\\\\n\\hline\n\t 1 & M &  7.9 & 12.3 & 10.7 & 1 & 1 & 1\\\\\n\t 2 & F &  6.3 & 10.6 & 11.1 & 2 & 2 & 2\\\\\n\t 3 & F &  9.5 & 13.1 & 13.8 & 2 & 2 & 2\\\\\n\t 4 & M & 11.5 & 13.4 & 12.9 & 1 & 1 & 1\\\\\n\t 5 & F & 10.5 &  7.8 & 11.0 & 2 & 2 & 2\\\\\n\t 6 & F & 13.2 &  9.5 & 10.1 & 2 & 2 & 2\\\\\n\t 7 & F & 11.5 & 12.2 & 14.8 & 2 & 2 & 2\\\\\n\t 8 & M & 11.5 & 15.4 & 12.9 & 1 & 1 & 1\\\\\n\\end{tabular}\n",
            "text/plain": [
              "  subject sex control cond1 cond2 scode scode2 scode3\n",
              "1 1       M    7.9    12.3  10.7  1     1      1     \n",
              "2 2       F    6.3    10.6  11.1  2     2      2     \n",
              "3 3       F    9.5    13.1  13.8  2     2      2     \n",
              "4 4       M   11.5    13.4  12.9  1     1      1     \n",
              "5 5       F   10.5     7.8  11.0  2     2      2     \n",
              "6 6       F   13.2     9.5  10.1  2     2      2     \n",
              "7 7       F   11.5    12.2  14.8  2     2      2     \n",
              "8 8       M   11.5    15.4  12.9  1     1      1     "
            ]
          },
          "metadata": {}
        }
      ]
    },
    {
      "cell_type": "code",
      "source": [
        "# Convert the column to a factor\n",
        "test$scode3 <- factor(test$scode3)\n",
        "class(test$scode3)"
      ],
      "metadata": {
        "colab": {
          "base_uri": "https://localhost:8080/",
          "height": 34
        },
        "id": "O7ig2N3zdvpc",
        "outputId": "a9a08d33-033d-4bd4-f0df-ecb608483afe"
      },
      "execution_count": null,
      "outputs": [
        {
          "output_type": "display_data",
          "data": {
            "text/html": [
              "'factor'"
            ],
            "text/markdown": "'factor'",
            "text/latex": "'factor'",
            "text/plain": [
              "[1] \"factor\""
            ]
          },
          "metadata": {}
        }
      ]
    },
    {
      "cell_type": "code",
      "source": [
        "# Mark Those Who control measurement is <7 is low, those who control the measurement is >= 7 is High\n",
        "test$category[test$control <7] <- \"low\"\n",
        "test$category[test$control >= 7] <- \"high\"\n",
        "test"
      ],
      "metadata": {
        "colab": {
          "base_uri": "https://localhost:8080/",
          "height": 349
        },
        "id": "2j7vbkmQdvdk",
        "outputId": "36c8a1be-c608-4cc9-a406-caeb46b10d6c"
      },
      "execution_count": null,
      "outputs": [
        {
          "output_type": "display_data",
          "data": {
            "text/html": [
              "<table class=\"dataframe\">\n",
              "<caption>A data.frame: 8 × 9</caption>\n",
              "<thead>\n",
              "\t<tr><th scope=col>subject</th><th scope=col>sex</th><th scope=col>control</th><th scope=col>cond1</th><th scope=col>cond2</th><th scope=col>scode</th><th scope=col>scode2</th><th scope=col>scode3</th><th scope=col>category</th></tr>\n",
              "\t<tr><th scope=col>&lt;int&gt;</th><th scope=col>&lt;chr&gt;</th><th scope=col>&lt;dbl&gt;</th><th scope=col>&lt;dbl&gt;</th><th scope=col>&lt;dbl&gt;</th><th scope=col>&lt;chr&gt;</th><th scope=col>&lt;chr&gt;</th><th scope=col>&lt;fct&gt;</th><th scope=col>&lt;chr&gt;</th></tr>\n",
              "</thead>\n",
              "<tbody>\n",
              "\t<tr><td>1</td><td>M</td><td> 7.9</td><td>12.3</td><td>10.7</td><td>1</td><td>1</td><td>1</td><td>high</td></tr>\n",
              "\t<tr><td>2</td><td>F</td><td> 6.3</td><td>10.6</td><td>11.1</td><td>2</td><td>2</td><td>2</td><td>low </td></tr>\n",
              "\t<tr><td>3</td><td>F</td><td> 9.5</td><td>13.1</td><td>13.8</td><td>2</td><td>2</td><td>2</td><td>high</td></tr>\n",
              "\t<tr><td>4</td><td>M</td><td>11.5</td><td>13.4</td><td>12.9</td><td>1</td><td>1</td><td>1</td><td>high</td></tr>\n",
              "\t<tr><td>5</td><td>F</td><td>10.5</td><td> 7.8</td><td>11.0</td><td>2</td><td>2</td><td>2</td><td>high</td></tr>\n",
              "\t<tr><td>6</td><td>F</td><td>13.2</td><td> 9.5</td><td>10.1</td><td>2</td><td>2</td><td>2</td><td>high</td></tr>\n",
              "\t<tr><td>7</td><td>F</td><td>11.5</td><td>12.2</td><td>14.8</td><td>2</td><td>2</td><td>2</td><td>high</td></tr>\n",
              "\t<tr><td>8</td><td>M</td><td>11.5</td><td>15.4</td><td>12.9</td><td>1</td><td>1</td><td>1</td><td>high</td></tr>\n",
              "</tbody>\n",
              "</table>\n"
            ],
            "text/markdown": "\nA data.frame: 8 × 9\n\n| subject &lt;int&gt; | sex &lt;chr&gt; | control &lt;dbl&gt; | cond1 &lt;dbl&gt; | cond2 &lt;dbl&gt; | scode &lt;chr&gt; | scode2 &lt;chr&gt; | scode3 &lt;fct&gt; | category &lt;chr&gt; |\n|---|---|---|---|---|---|---|---|---|\n| 1 | M |  7.9 | 12.3 | 10.7 | 1 | 1 | 1 | high |\n| 2 | F |  6.3 | 10.6 | 11.1 | 2 | 2 | 2 | low  |\n| 3 | F |  9.5 | 13.1 | 13.8 | 2 | 2 | 2 | high |\n| 4 | M | 11.5 | 13.4 | 12.9 | 1 | 1 | 1 | high |\n| 5 | F | 10.5 |  7.8 | 11.0 | 2 | 2 | 2 | high |\n| 6 | F | 13.2 |  9.5 | 10.1 | 2 | 2 | 2 | high |\n| 7 | F | 11.5 | 12.2 | 14.8 | 2 | 2 | 2 | high |\n| 8 | M | 11.5 | 15.4 | 12.9 | 1 | 1 | 1 | high |\n\n",
            "text/latex": "A data.frame: 8 × 9\n\\begin{tabular}{lllllllll}\n subject & sex & control & cond1 & cond2 & scode & scode2 & scode3 & category\\\\\n <int> & <chr> & <dbl> & <dbl> & <dbl> & <chr> & <chr> & <fct> & <chr>\\\\\n\\hline\n\t 1 & M &  7.9 & 12.3 & 10.7 & 1 & 1 & 1 & high\\\\\n\t 2 & F &  6.3 & 10.6 & 11.1 & 2 & 2 & 2 & low \\\\\n\t 3 & F &  9.5 & 13.1 & 13.8 & 2 & 2 & 2 & high\\\\\n\t 4 & M & 11.5 & 13.4 & 12.9 & 1 & 1 & 1 & high\\\\\n\t 5 & F & 10.5 &  7.8 & 11.0 & 2 & 2 & 2 & high\\\\\n\t 6 & F & 13.2 &  9.5 & 10.1 & 2 & 2 & 2 & high\\\\\n\t 7 & F & 11.5 & 12.2 & 14.8 & 2 & 2 & 2 & high\\\\\n\t 8 & M & 11.5 & 15.4 & 12.9 & 1 & 1 & 1 & high\\\\\n\\end{tabular}\n",
            "text/plain": [
              "  subject sex control cond1 cond2 scode scode2 scode3 category\n",
              "1 1       M    7.9    12.3  10.7  1     1      1      high    \n",
              "2 2       F    6.3    10.6  11.1  2     2      2      low     \n",
              "3 3       F    9.5    13.1  13.8  2     2      2      high    \n",
              "4 4       M   11.5    13.4  12.9  1     1      1      high    \n",
              "5 5       F   10.5     7.8  11.0  2     2      2      high    \n",
              "6 6       F   13.2     9.5  10.1  2     2      2      high    \n",
              "7 7       F   11.5    12.2  14.8  2     2      2      high    \n",
              "8 8       M   11.5    15.4  12.9  1     1      1      high    "
            ]
          },
          "metadata": {}
        }
      ]
    },
    {
      "cell_type": "code",
      "source": [
        "# Convert the category column to a factor\n",
        "test$category <- factor(test$category)\n",
        "is.factor(test$category)"
      ],
      "metadata": {
        "colab": {
          "base_uri": "https://localhost:8080/",
          "height": 34
        },
        "id": "TmUYA-GbiNeL",
        "outputId": "8d8532ce-7b96-4d7d-c590-5c53a857e8c6"
      },
      "execution_count": null,
      "outputs": [
        {
          "output_type": "display_data",
          "data": {
            "text/html": [
              "TRUE"
            ],
            "text/markdown": "TRUE",
            "text/latex": "TRUE",
            "text/plain": [
              "[1] TRUE"
            ]
          },
          "metadata": {}
        }
      ]
    },
    {
      "cell_type": "markdown",
      "source": [
        "## Now Manipulating the dataset data"
      ],
      "metadata": {
        "id": "Tdg0_eC0iwVs"
      }
    },
    {
      "cell_type": "code",
      "source": [
        "head(dataset)"
      ],
      "metadata": {
        "colab": {
          "base_uri": "https://localhost:8080/",
          "height": 286
        },
        "id": "wy8tM533jgzA",
        "outputId": "f823b52d-5a28-41ea-aeac-49d9dc041cee"
      },
      "execution_count": null,
      "outputs": [
        {
          "output_type": "display_data",
          "data": {
            "text/html": [
              "<table class=\"dataframe\">\n",
              "<caption>A data.frame: 6 × 6</caption>\n",
              "<thead>\n",
              "\t<tr><th></th><th scope=col>Date</th><th scope=col>Open</th><th scope=col>High</th><th scope=col>Low</th><th scope=col>Close</th><th scope=col>Volume</th></tr>\n",
              "\t<tr><th></th><th scope=col>&lt;chr&gt;</th><th scope=col>&lt;dbl&gt;</th><th scope=col>&lt;dbl&gt;</th><th scope=col>&lt;dbl&gt;</th><th scope=col>&lt;dbl&gt;</th><th scope=col>&lt;int&gt;</th></tr>\n",
              "</thead>\n",
              "<tbody>\n",
              "\t<tr><th scope=row>1</th><td>1/3/2000 </td><td>1482.15</td><td>1592.90</td><td>1482.15</td><td>1592.20</td><td>0</td></tr>\n",
              "\t<tr><th scope=row>2</th><td>1/4/2000 </td><td>1594.40</td><td>1641.95</td><td>1594.40</td><td>1638.70</td><td>0</td></tr>\n",
              "\t<tr><th scope=row>3</th><td>1/5/2000 </td><td>1634.55</td><td>1635.50</td><td>1555.05</td><td>1595.80</td><td>0</td></tr>\n",
              "\t<tr><th scope=row>4</th><td>1/6/2000 </td><td>1595.80</td><td>1639.00</td><td>1595.80</td><td>1617.60</td><td>0</td></tr>\n",
              "\t<tr><th scope=row>5</th><td>1/7/2000 </td><td>1616.60</td><td>1628.25</td><td>1597.20</td><td>1613.30</td><td>0</td></tr>\n",
              "\t<tr><th scope=row>6</th><td>1/10/2000</td><td>1615.65</td><td>1662.10</td><td>1614.95</td><td>1632.95</td><td>0</td></tr>\n",
              "</tbody>\n",
              "</table>\n"
            ],
            "text/markdown": "\nA data.frame: 6 × 6\n\n| <!--/--> | Date &lt;chr&gt; | Open &lt;dbl&gt; | High &lt;dbl&gt; | Low &lt;dbl&gt; | Close &lt;dbl&gt; | Volume &lt;int&gt; |\n|---|---|---|---|---|---|---|\n| 1 | 1/3/2000  | 1482.15 | 1592.90 | 1482.15 | 1592.20 | 0 |\n| 2 | 1/4/2000  | 1594.40 | 1641.95 | 1594.40 | 1638.70 | 0 |\n| 3 | 1/5/2000  | 1634.55 | 1635.50 | 1555.05 | 1595.80 | 0 |\n| 4 | 1/6/2000  | 1595.80 | 1639.00 | 1595.80 | 1617.60 | 0 |\n| 5 | 1/7/2000  | 1616.60 | 1628.25 | 1597.20 | 1613.30 | 0 |\n| 6 | 1/10/2000 | 1615.65 | 1662.10 | 1614.95 | 1632.95 | 0 |\n\n",
            "text/latex": "A data.frame: 6 × 6\n\\begin{tabular}{r|llllll}\n  & Date & Open & High & Low & Close & Volume\\\\\n  & <chr> & <dbl> & <dbl> & <dbl> & <dbl> & <int>\\\\\n\\hline\n\t1 & 1/3/2000  & 1482.15 & 1592.90 & 1482.15 & 1592.20 & 0\\\\\n\t2 & 1/4/2000  & 1594.40 & 1641.95 & 1594.40 & 1638.70 & 0\\\\\n\t3 & 1/5/2000  & 1634.55 & 1635.50 & 1555.05 & 1595.80 & 0\\\\\n\t4 & 1/6/2000  & 1595.80 & 1639.00 & 1595.80 & 1617.60 & 0\\\\\n\t5 & 1/7/2000  & 1616.60 & 1628.25 & 1597.20 & 1613.30 & 0\\\\\n\t6 & 1/10/2000 & 1615.65 & 1662.10 & 1614.95 & 1632.95 & 0\\\\\n\\end{tabular}\n",
            "text/plain": [
              "  Date      Open    High    Low     Close   Volume\n",
              "1 1/3/2000  1482.15 1592.90 1482.15 1592.20 0     \n",
              "2 1/4/2000  1594.40 1641.95 1594.40 1638.70 0     \n",
              "3 1/5/2000  1634.55 1635.50 1555.05 1595.80 0     \n",
              "4 1/6/2000  1595.80 1639.00 1595.80 1617.60 0     \n",
              "5 1/7/2000  1616.60 1628.25 1597.20 1613.30 0     \n",
              "6 1/10/2000 1615.65 1662.10 1614.95 1632.95 0     "
            ]
          },
          "metadata": {}
        }
      ]
    },
    {
      "cell_type": "code",
      "source": [
        "# 1st quarter, 2nd quarter, Mean, 4th Quarter, 5th Quarted\n",
        "fivenum(dataset$Close)\n",
        "quantile(dataset$Close) # PCT Format"
      ],
      "metadata": {
        "colab": {
          "base_uri": "https://localhost:8080/",
          "height": 52
        },
        "id": "sxH6u5-MdvDF",
        "outputId": "62b3da2f-5076-469b-9f4d-c6ba0f792783"
      },
      "execution_count": null,
      "outputs": [
        {
          "output_type": "display_data",
          "data": {
            "text/html": [
              "<style>\n",
              ".list-inline {list-style: none; margin:0; padding: 0}\n",
              ".list-inline>li {display: inline-block}\n",
              ".list-inline>li:not(:last-child)::after {content: \"\\00b7\"; padding: 0 .5ex}\n",
              "</style>\n",
              "<ol class=list-inline><li>922.68</li><li>2322.5</li><li>5255.15</li><li>8246.3</li><li>14644.7</li></ol>\n"
            ],
            "text/markdown": "1. 922.68\n2. 2322.5\n3. 5255.15\n4. 8246.3\n5. 14644.7\n\n\n",
            "text/latex": "\\begin{enumerate*}\n\\item 922.68\n\\item 2322.5\n\\item 5255.15\n\\item 8246.3\n\\item 14644.7\n\\end{enumerate*}\n",
            "text/plain": [
              "[1]   922.68  2322.50  5255.15  8246.30 14644.70"
            ]
          },
          "metadata": {}
        },
        {
          "output_type": "display_data",
          "data": {
            "text/html": [
              "<style>\n",
              ".dl-inline {width: auto; margin:0; padding: 0}\n",
              ".dl-inline>dt, .dl-inline>dd {float: none; width: auto; display: inline-block}\n",
              ".dl-inline>dt::after {content: \":\\0020\"; padding-right: .5ex}\n",
              ".dl-inline>dt:not(:first-of-type) {padding-left: .5ex}\n",
              "</style><dl class=dl-inline><dt>0%</dt><dd>922.68</dd><dt>25%</dt><dd>2322.975</dd><dt>50%</dt><dd>5255.15</dd><dt>75%</dt><dd>8245.675</dd><dt>100%</dt><dd>14644.7</dd></dl>\n"
            ],
            "text/markdown": "0%\n:   922.6825%\n:   2322.97550%\n:   5255.1575%\n:   8245.675100%\n:   14644.7\n\n",
            "text/latex": "\\begin{description*}\n\\item[0\\textbackslash{}\\%] 922.68\n\\item[25\\textbackslash{}\\%] 2322.975\n\\item[50\\textbackslash{}\\%] 5255.15\n\\item[75\\textbackslash{}\\%] 8245.675\n\\item[100\\textbackslash{}\\%] 14644.7\n\\end{description*}\n",
            "text/plain": [
              "       0%       25%       50%       75%      100% \n",
              "  922.680  2322.975  5255.150  8245.675 14644.700 "
            ]
          },
          "metadata": {}
        }
      ]
    },
    {
      "cell_type": "code",
      "source": [
        "dataset$status[dataset$Open < dataset$Close] <- \"Profit\"\n",
        "dataset$status[dataset$Open >= dataset$Close] <- \"Loss\"\n",
        "str(dataset)"
      ],
      "metadata": {
        "colab": {
          "base_uri": "https://localhost:8080/"
        },
        "id": "mCgNL65UilGR",
        "outputId": "96fb2c82-fa9a-4751-a3b4-daddc6bac109"
      },
      "execution_count": null,
      "outputs": [
        {
          "output_type": "stream",
          "name": "stdout",
          "text": [
            "'data.frame':\t5058 obs. of  7 variables:\n",
            " $ Date  : chr  \"1/3/2000\" \"1/4/2000\" \"1/5/2000\" \"1/6/2000\" ...\n",
            " $ Open  : num  1482 1594 1635 1596 1617 ...\n",
            " $ High  : num  1593 1642 1636 1639 1628 ...\n",
            " $ Low   : num  1482 1594 1555 1596 1597 ...\n",
            " $ Close : num  1592 1639 1596 1618 1613 ...\n",
            " $ Volume: int  0 0 0 0 0 0 0 0 0 0 ...\n",
            " $ status: chr  \"Profit\" \"Profit\" \"Loss\" \"Profit\" ...\n"
          ]
        }
      ]
    },
    {
      "cell_type": "code",
      "source": [
        "dataset$status <- factor(dataset$status)\n",
        "is.factor(dataset$status)"
      ],
      "metadata": {
        "colab": {
          "base_uri": "https://localhost:8080/",
          "height": 34
        },
        "id": "sZ2VZPypik8B",
        "outputId": "882429c3-294a-4e5a-cb5f-78714b8f905b"
      },
      "execution_count": null,
      "outputs": [
        {
          "output_type": "display_data",
          "data": {
            "text/html": [
              "TRUE"
            ],
            "text/markdown": "TRUE",
            "text/latex": "TRUE",
            "text/plain": [
              "[1] TRUE"
            ]
          },
          "metadata": {}
        }
      ]
    },
    {
      "cell_type": "markdown",
      "source": [
        "# Data Merging\n",
        "\n"
      ],
      "metadata": {
        "id": "SQpq3pjqctIx"
      }
    },
    {
      "cell_type": "code",
      "source": [
        "#Create origin dataframe\n",
        "producers <- data.frame(\n",
        "  surname = c(\"Spielberg\",\"Scorsese\",\"Hitchcock\",\"Tarantino\", \"Polanski\"),\n",
        "  nationality = c(\"US\",\"US\",\"UK\",\"US\",\"Poland\"),\n",
        "  stringsAsFactors=FALSE\n",
        "  )\n",
        "\n",
        "#Create destination dataframe\n",
        "movies <- data.frame(\n",
        "  surname = c(\"Spielberg\", \"Scorsese\", \"Hitchcock\", \"Hitchcock\", \"Spielberg\", \"Tarantino\", \"Polanski\"),\n",
        "  title = c(\"Super 8\", \"Taxi Driver\", \"Psycho\", \"North by Northwest\", \"Catch Me If \tYou Can\", \"Reservoir Dogs\", \"Chinatown\"),\n",
        "  budget = c(45, 5, 8,12, 52, 2, 6),\n",
        "  stringsAsFactors=FALSE\n",
        "  )"
      ],
      "metadata": {
        "id": "MRwuKpNdcsxx"
      },
      "execution_count": null,
      "outputs": []
    },
    {
      "cell_type": "code",
      "source": [
        "#Merge two datasets\n",
        "m1 <- merge(producers, movies, by = \"surname\")\n",
        "m1\n",
        "dim(m1)"
      ],
      "metadata": {
        "colab": {
          "base_uri": "https://localhost:8080/",
          "height": 335
        },
        "id": "U6Ad8oVndMMS",
        "outputId": "1bf80d41-fd63-4237-f888-51d468681781"
      },
      "execution_count": null,
      "outputs": [
        {
          "output_type": "display_data",
          "data": {
            "text/html": [
              "<table class=\"dataframe\">\n",
              "<caption>A data.frame: 7 × 4</caption>\n",
              "<thead>\n",
              "\t<tr><th scope=col>surname</th><th scope=col>nationality</th><th scope=col>title</th><th scope=col>budget</th></tr>\n",
              "\t<tr><th scope=col>&lt;chr&gt;</th><th scope=col>&lt;chr&gt;</th><th scope=col>&lt;chr&gt;</th><th scope=col>&lt;dbl&gt;</th></tr>\n",
              "</thead>\n",
              "<tbody>\n",
              "\t<tr><td>Hitchcock</td><td>UK    </td><td>Psycho               </td><td> 8</td></tr>\n",
              "\t<tr><td>Hitchcock</td><td>UK    </td><td>North by Northwest   </td><td>12</td></tr>\n",
              "\t<tr><td>Polanski </td><td>Poland</td><td>Chinatown            </td><td> 6</td></tr>\n",
              "\t<tr><td>Scorsese </td><td>US    </td><td>Taxi Driver          </td><td> 5</td></tr>\n",
              "\t<tr><td>Spielberg</td><td>US    </td><td>Super 8              </td><td>45</td></tr>\n",
              "\t<tr><td>Spielberg</td><td>US    </td><td>Catch Me If \tYou Can</td><td>52</td></tr>\n",
              "\t<tr><td>Tarantino</td><td>US    </td><td>Reservoir Dogs       </td><td> 2</td></tr>\n",
              "</tbody>\n",
              "</table>\n"
            ],
            "text/markdown": "\nA data.frame: 7 × 4\n\n| surname &lt;chr&gt; | nationality &lt;chr&gt; | title &lt;chr&gt; | budget &lt;dbl&gt; |\n|---|---|---|---|\n| Hitchcock | UK     | Psycho                |  8 |\n| Hitchcock | UK     | North by Northwest    | 12 |\n| Polanski  | Poland | Chinatown             |  6 |\n| Scorsese  | US     | Taxi Driver           |  5 |\n| Spielberg | US     | Super 8               | 45 |\n| Spielberg | US     | Catch Me If \tYou Can | 52 |\n| Tarantino | US     | Reservoir Dogs        |  2 |\n\n",
            "text/latex": "A data.frame: 7 × 4\n\\begin{tabular}{llll}\n surname & nationality & title & budget\\\\\n <chr> & <chr> & <chr> & <dbl>\\\\\n\\hline\n\t Hitchcock & UK     & Psycho                &  8\\\\\n\t Hitchcock & UK     & North by Northwest    & 12\\\\\n\t Polanski  & Poland & Chinatown             &  6\\\\\n\t Scorsese  & US     & Taxi Driver           &  5\\\\\n\t Spielberg & US     & Super 8               & 45\\\\\n\t Spielberg & US     & Catch Me If \tYou Can & 52\\\\\n\t Tarantino & US     & Reservoir Dogs        &  2\\\\\n\\end{tabular}\n",
            "text/plain": [
              "  surname   nationality title                 budget\n",
              "1 Hitchcock UK          Psycho                 8    \n",
              "2 Hitchcock UK          North by Northwest    12    \n",
              "3 Polanski  Poland      Chinatown              6    \n",
              "4 Scorsese  US          Taxi Driver            5    \n",
              "5 Spielberg US          Super 8               45    \n",
              "6 Spielberg US          Catch Me If \\tYou Can 52    \n",
              "7 Tarantino US          Reservoir Dogs         2    "
            ]
          },
          "metadata": {}
        },
        {
          "output_type": "display_data",
          "data": {
            "text/html": [
              "<style>\n",
              ".list-inline {list-style: none; margin:0; padding: 0}\n",
              ".list-inline>li {display: inline-block}\n",
              ".list-inline>li:not(:last-child)::after {content: \"\\00b7\"; padding: 0 .5ex}\n",
              "</style>\n",
              "<ol class=list-inline><li>7</li><li>4</li></ol>\n"
            ],
            "text/markdown": "1. 7\n2. 4\n\n\n",
            "text/latex": "\\begin{enumerate*}\n\\item 7\n\\item 4\n\\end{enumerate*}\n",
            "text/plain": [
              "[1] 7 4"
            ]
          },
          "metadata": {}
        }
      ]
    }
  ]
}