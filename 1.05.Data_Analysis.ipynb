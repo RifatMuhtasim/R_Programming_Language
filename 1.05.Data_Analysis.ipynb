{
  "nbformat": 4,
  "nbformat_minor": 0,
  "metadata": {
    "colab": {
      "provenance": [],
      "authorship_tag": "ABX9TyPDqnc+Dk+eL8vNQq6cmFNF"
    },
    "kernelspec": {
      "name": "ir",
      "display_name": "R"
    },
    "language_info": {
      "name": "R"
    }
  },
  "cells": [
    {
      "cell_type": "markdown",
      "source": [
        "# Data Preprocessing"
      ],
      "metadata": {
        "id": "GzyGqQQosrOx"
      }
    },
    {
      "cell_type": "code",
      "execution_count": 1,
      "metadata": {
        "colab": {
          "base_uri": "https://localhost:8080/",
          "height": 286
        },
        "id": "Th_xZeajoqBW",
        "outputId": "040e38cd-404b-433c-98f6-5ce3faf506c3"
      },
      "outputs": [
        {
          "output_type": "display_data",
          "data": {
            "text/html": [
              "<table class=\"dataframe\">\n",
              "<caption>A data.frame: 6 × 6</caption>\n",
              "<thead>\n",
              "\t<tr><th></th><th scope=col>id</th><th scope=col>name</th><th scope=col>weight</th><th scope=col>animal</th><th scope=col>ageCategory</th><th scope=col>shotsCurrent</th></tr>\n",
              "\t<tr><th></th><th scope=col>&lt;chr&gt;</th><th scope=col>&lt;chr&gt;</th><th scope=col>&lt;dbl&gt;</th><th scope=col>&lt;chr&gt;</th><th scope=col>&lt;chr&gt;</th><th scope=col>&lt;chr&gt;</th></tr>\n",
              "</thead>\n",
              "<tbody>\n",
              "\t<tr><th scope=row>1</th><td>C1</td><td>Morris    </td><td> 6</td><td>cat</td><td>0-2</td><td>No </td></tr>\n",
              "\t<tr><th scope=row>2</th><td>C2</td><td>Morris    </td><td> 7</td><td>cat</td><td>5-8</td><td>Yes</td></tr>\n",
              "\t<tr><th scope=row>3</th><td>D1</td><td>Fido      </td><td>15</td><td>dog</td><td>5-8</td><td>No </td></tr>\n",
              "\t<tr><th scope=row>4</th><td>D4</td><td>Mr Bowser </td><td>20</td><td>dog</td><td>3-4</td><td>No </td></tr>\n",
              "\t<tr><th scope=row>5</th><td>D8</td><td>Fido      </td><td>40</td><td>dog</td><td>3-4</td><td>Yes</td></tr>\n",
              "\t<tr><th scope=row>6</th><td>C4</td><td>Lady Sheba</td><td>10</td><td>cat</td><td>5-8</td><td>No </td></tr>\n",
              "</tbody>\n",
              "</table>\n"
            ],
            "text/markdown": "\nA data.frame: 6 × 6\n\n| <!--/--> | id &lt;chr&gt; | name &lt;chr&gt; | weight &lt;dbl&gt; | animal &lt;chr&gt; | ageCategory &lt;chr&gt; | shotsCurrent &lt;chr&gt; |\n|---|---|---|---|---|---|---|\n| 1 | C1 | Morris     |  6 | cat | 0-2 | No  |\n| 2 | C2 | Morris     |  7 | cat | 5-8 | Yes |\n| 3 | D1 | Fido       | 15 | dog | 5-8 | No  |\n| 4 | D4 | Mr Bowser  | 20 | dog | 3-4 | No  |\n| 5 | D8 | Fido       | 40 | dog | 3-4 | Yes |\n| 6 | C4 | Lady Sheba | 10 | cat | 5-8 | No  |\n\n",
            "text/latex": "A data.frame: 6 × 6\n\\begin{tabular}{r|llllll}\n  & id & name & weight & animal & ageCategory & shotsCurrent\\\\\n  & <chr> & <chr> & <dbl> & <chr> & <chr> & <chr>\\\\\n\\hline\n\t1 & C1 & Morris     &  6 & cat & 0-2 & No \\\\\n\t2 & C2 & Morris     &  7 & cat & 5-8 & Yes\\\\\n\t3 & D1 & Fido       & 15 & dog & 5-8 & No \\\\\n\t4 & D4 & Mr Bowser  & 20 & dog & 3-4 & No \\\\\n\t5 & D8 & Fido       & 40 & dog & 3-4 & Yes\\\\\n\t6 & C4 & Lady Sheba & 10 & cat & 5-8 & No \\\\\n\\end{tabular}\n",
            "text/plain": [
              "  id name       weight animal ageCategory shotsCurrent\n",
              "1 C1 Morris      6     cat    0-2         No          \n",
              "2 C2 Morris      7     cat    5-8         Yes         \n",
              "3 D1 Fido       15     dog    5-8         No          \n",
              "4 D4 Mr Bowser  20     dog    3-4         No          \n",
              "5 D8 Fido       40     dog    3-4         Yes         \n",
              "6 C4 Lady Sheba 10     cat    5-8         No          "
            ]
          },
          "metadata": {}
        }
      ],
      "source": [
        "dataset <- read.csv(\"https://raw.githubusercontent.com/laderast/RBootcamp/master/data/pets.csv\")\n",
        "head(dataset)"
      ]
    },
    {
      "cell_type": "code",
      "source": [
        "# Make 2*3 Table\n",
        "table(dataset$shotsCurrent, dataset$animal)"
      ],
      "metadata": {
        "colab": {
          "base_uri": "https://localhost:8080/",
          "height": 91
        },
        "id": "HWbKvNEwphAu",
        "outputId": "fc1543c6-2019-40b6-9083-c7b15a03944e"
      },
      "execution_count": 2,
      "outputs": [
        {
          "output_type": "display_data",
          "data": {
            "text/plain": [
              "     \n",
              "      cat dog gerbil\n",
              "  No    3   4      0\n",
              "  Yes   3   1      0"
            ]
          },
          "metadata": {}
        }
      ]
    },
    {
      "cell_type": "code",
      "source": [
        "# Create a new variable with animal+name\n",
        "dataset$weight_square <- dataset$weight^2\n",
        "head(dataset)"
      ],
      "metadata": {
        "colab": {
          "base_uri": "https://localhost:8080/",
          "height": 286
        },
        "id": "eMTAKDwTpvDT",
        "outputId": "fb99f90a-d1ed-4e29-bed1-614b26a0cffe"
      },
      "execution_count": 3,
      "outputs": [
        {
          "output_type": "display_data",
          "data": {
            "text/html": [
              "<table class=\"dataframe\">\n",
              "<caption>A data.frame: 6 × 7</caption>\n",
              "<thead>\n",
              "\t<tr><th></th><th scope=col>id</th><th scope=col>name</th><th scope=col>weight</th><th scope=col>animal</th><th scope=col>ageCategory</th><th scope=col>shotsCurrent</th><th scope=col>weight_square</th></tr>\n",
              "\t<tr><th></th><th scope=col>&lt;chr&gt;</th><th scope=col>&lt;chr&gt;</th><th scope=col>&lt;dbl&gt;</th><th scope=col>&lt;chr&gt;</th><th scope=col>&lt;chr&gt;</th><th scope=col>&lt;chr&gt;</th><th scope=col>&lt;dbl&gt;</th></tr>\n",
              "</thead>\n",
              "<tbody>\n",
              "\t<tr><th scope=row>1</th><td>C1</td><td>Morris    </td><td> 6</td><td>cat</td><td>0-2</td><td>No </td><td>  36</td></tr>\n",
              "\t<tr><th scope=row>2</th><td>C2</td><td>Morris    </td><td> 7</td><td>cat</td><td>5-8</td><td>Yes</td><td>  49</td></tr>\n",
              "\t<tr><th scope=row>3</th><td>D1</td><td>Fido      </td><td>15</td><td>dog</td><td>5-8</td><td>No </td><td> 225</td></tr>\n",
              "\t<tr><th scope=row>4</th><td>D4</td><td>Mr Bowser </td><td>20</td><td>dog</td><td>3-4</td><td>No </td><td> 400</td></tr>\n",
              "\t<tr><th scope=row>5</th><td>D8</td><td>Fido      </td><td>40</td><td>dog</td><td>3-4</td><td>Yes</td><td>1600</td></tr>\n",
              "\t<tr><th scope=row>6</th><td>C4</td><td>Lady Sheba</td><td>10</td><td>cat</td><td>5-8</td><td>No </td><td> 100</td></tr>\n",
              "</tbody>\n",
              "</table>\n"
            ],
            "text/markdown": "\nA data.frame: 6 × 7\n\n| <!--/--> | id &lt;chr&gt; | name &lt;chr&gt; | weight &lt;dbl&gt; | animal &lt;chr&gt; | ageCategory &lt;chr&gt; | shotsCurrent &lt;chr&gt; | weight_square &lt;dbl&gt; |\n|---|---|---|---|---|---|---|---|\n| 1 | C1 | Morris     |  6 | cat | 0-2 | No  |   36 |\n| 2 | C2 | Morris     |  7 | cat | 5-8 | Yes |   49 |\n| 3 | D1 | Fido       | 15 | dog | 5-8 | No  |  225 |\n| 4 | D4 | Mr Bowser  | 20 | dog | 3-4 | No  |  400 |\n| 5 | D8 | Fido       | 40 | dog | 3-4 | Yes | 1600 |\n| 6 | C4 | Lady Sheba | 10 | cat | 5-8 | No  |  100 |\n\n",
            "text/latex": "A data.frame: 6 × 7\n\\begin{tabular}{r|lllllll}\n  & id & name & weight & animal & ageCategory & shotsCurrent & weight\\_square\\\\\n  & <chr> & <chr> & <dbl> & <chr> & <chr> & <chr> & <dbl>\\\\\n\\hline\n\t1 & C1 & Morris     &  6 & cat & 0-2 & No  &   36\\\\\n\t2 & C2 & Morris     &  7 & cat & 5-8 & Yes &   49\\\\\n\t3 & D1 & Fido       & 15 & dog & 5-8 & No  &  225\\\\\n\t4 & D4 & Mr Bowser  & 20 & dog & 3-4 & No  &  400\\\\\n\t5 & D8 & Fido       & 40 & dog & 3-4 & Yes & 1600\\\\\n\t6 & C4 & Lady Sheba & 10 & cat & 5-8 & No  &  100\\\\\n\\end{tabular}\n",
            "text/plain": [
              "  id name       weight animal ageCategory shotsCurrent weight_square\n",
              "1 C1 Morris      6     cat    0-2         No             36         \n",
              "2 C2 Morris      7     cat    5-8         Yes            49         \n",
              "3 D1 Fido       15     dog    5-8         No            225         \n",
              "4 D4 Mr Bowser  20     dog    3-4         No            400         \n",
              "5 D8 Fido       40     dog    3-4         Yes          1600         \n",
              "6 C4 Lady Sheba 10     cat    5-8         No            100         "
            ]
          },
          "metadata": {}
        }
      ]
    },
    {
      "cell_type": "code",
      "source": [
        "# Create an 'overweight' variable, which gives the value 1 for people with weight_square > 200 and 0 otherwise\n",
        "dataset$overweight <- ifelse(dataset$weight_square > 200, 1, 0)\n",
        "dataset$overweight"
      ],
      "metadata": {
        "colab": {
          "base_uri": "https://localhost:8080/",
          "height": 34
        },
        "id": "p5dXyz-3qdLC",
        "outputId": "ecbb5fd8-c920-4f35-db92-898e57c28b8b"
      },
      "execution_count": 4,
      "outputs": [
        {
          "output_type": "display_data",
          "data": {
            "text/html": [
              "<style>\n",
              ".list-inline {list-style: none; margin:0; padding: 0}\n",
              ".list-inline>li {display: inline-block}\n",
              ".list-inline>li:not(:last-child)::after {content: \"\\00b7\"; padding: 0 .5ex}\n",
              "</style>\n",
              "<ol class=list-inline><li>0</li><li>0</li><li>1</li><li>1</li><li>1</li><li>0</li><li>1</li><li>1</li><li>0</li><li>0</li><li>0</li><li>0</li></ol>\n"
            ],
            "text/markdown": "1. 0\n2. 0\n3. 1\n4. 1\n5. 1\n6. 0\n7. 1\n8. 1\n9. 0\n10. 0\n11. 0\n12. 0\n\n\n",
            "text/latex": "\\begin{enumerate*}\n\\item 0\n\\item 0\n\\item 1\n\\item 1\n\\item 1\n\\item 0\n\\item 1\n\\item 1\n\\item 0\n\\item 0\n\\item 0\n\\item 0\n\\end{enumerate*}\n",
            "text/plain": [
              " [1] 0 0 1 1 1 0 1 1 0 0 0 0"
            ]
          },
          "metadata": {}
        }
      ]
    },
    {
      "cell_type": "code",
      "source": [
        "# Show the current directory\n",
        "getwd()"
      ],
      "metadata": {
        "colab": {
          "base_uri": "https://localhost:8080/",
          "height": 34
        },
        "id": "jiBYnZjmrbzX",
        "outputId": "df68f32b-96e7-470b-9b25-7f4e6590f6e5"
      },
      "execution_count": 5,
      "outputs": [
        {
          "output_type": "display_data",
          "data": {
            "text/html": [
              "'/content'"
            ],
            "text/markdown": "'/content'",
            "text/latex": "'/content'",
            "text/plain": [
              "[1] \"/content\""
            ]
          },
          "metadata": {}
        }
      ]
    },
    {
      "cell_type": "markdown",
      "source": [
        "# Removing the missing values from the entire dataset"
      ],
      "metadata": {
        "id": "WZoJIXr7suMq"
      }
    },
    {
      "cell_type": "code",
      "source": [
        "# List rows of data that have missing values\n",
        "missing_data <- dataset[!complete.cases(dataset), ]\n",
        "missing_data"
      ],
      "metadata": {
        "colab": {
          "base_uri": "https://localhost:8080/",
          "height": 129
        },
        "id": "eXY04EdYr0_Y",
        "outputId": "3f5fe3b8-33fd-4bb4-873b-b55e0edebee8"
      },
      "execution_count": 6,
      "outputs": [
        {
          "output_type": "display_data",
          "data": {
            "text/html": [
              "<table class=\"dataframe\">\n",
              "<caption>A data.frame: 1 × 8</caption>\n",
              "<thead>\n",
              "\t<tr><th></th><th scope=col>id</th><th scope=col>name</th><th scope=col>weight</th><th scope=col>animal</th><th scope=col>ageCategory</th><th scope=col>shotsCurrent</th><th scope=col>weight_square</th><th scope=col>overweight</th></tr>\n",
              "\t<tr><th></th><th scope=col>&lt;chr&gt;</th><th scope=col>&lt;chr&gt;</th><th scope=col>&lt;dbl&gt;</th><th scope=col>&lt;chr&gt;</th><th scope=col>&lt;chr&gt;</th><th scope=col>&lt;chr&gt;</th><th scope=col>&lt;dbl&gt;</th><th scope=col>&lt;dbl&gt;</th></tr>\n",
              "</thead>\n",
              "<tbody>\n",
              "\t<tr><th scope=row>9</th><td>G4</td><td>Nibbles</td><td>0.2</td><td>gerbil</td><td>0-2</td><td>NA</td><td>0.04</td><td>0</td></tr>\n",
              "</tbody>\n",
              "</table>\n"
            ],
            "text/markdown": "\nA data.frame: 1 × 8\n\n| <!--/--> | id &lt;chr&gt; | name &lt;chr&gt; | weight &lt;dbl&gt; | animal &lt;chr&gt; | ageCategory &lt;chr&gt; | shotsCurrent &lt;chr&gt; | weight_square &lt;dbl&gt; | overweight &lt;dbl&gt; |\n|---|---|---|---|---|---|---|---|---|\n| 9 | G4 | Nibbles | 0.2 | gerbil | 0-2 | NA | 0.04 | 0 |\n\n",
            "text/latex": "A data.frame: 1 × 8\n\\begin{tabular}{r|llllllll}\n  & id & name & weight & animal & ageCategory & shotsCurrent & weight\\_square & overweight\\\\\n  & <chr> & <chr> & <dbl> & <chr> & <chr> & <chr> & <dbl> & <dbl>\\\\\n\\hline\n\t9 & G4 & Nibbles & 0.2 & gerbil & 0-2 & NA & 0.04 & 0\\\\\n\\end{tabular}\n",
            "text/plain": [
              "  id name    weight animal ageCategory shotsCurrent weight_square overweight\n",
              "9 G4 Nibbles 0.2    gerbil 0-2         NA           0.04          0         "
            ]
          },
          "metadata": {}
        }
      ]
    },
    {
      "cell_type": "code",
      "source": [
        "# Excluding missing from data from dataset\n",
        "new_dataset <- dataset[complete.cases(dataset), ]"
      ],
      "metadata": {
        "id": "iBwDGaSBtETq"
      },
      "execution_count": 7,
      "outputs": []
    },
    {
      "cell_type": "markdown",
      "source": [
        "# Analysis"
      ],
      "metadata": {
        "id": "xc_Gxx48t-ec"
      }
    },
    {
      "cell_type": "code",
      "source": [
        "# What are the dimensions of the dataset?\n",
        "print(dim(new_dataset))\n",
        "dim(dataset)"
      ],
      "metadata": {
        "colab": {
          "base_uri": "https://localhost:8080/",
          "height": 53
        },
        "id": "wni8o3Bitbl7",
        "outputId": "a781f5a9-1b65-438d-8ffa-db5c24c1f785"
      },
      "execution_count": 8,
      "outputs": [
        {
          "output_type": "stream",
          "name": "stdout",
          "text": [
            "[1] 11  8\n"
          ]
        },
        {
          "output_type": "display_data",
          "data": {
            "text/html": [
              "<style>\n",
              ".list-inline {list-style: none; margin:0; padding: 0}\n",
              ".list-inline>li {display: inline-block}\n",
              ".list-inline>li:not(:last-child)::after {content: \"\\00b7\"; padding: 0 .5ex}\n",
              "</style>\n",
              "<ol class=list-inline><li>12</li><li>8</li></ol>\n"
            ],
            "text/markdown": "1. 12\n2. 8\n\n\n",
            "text/latex": "\\begin{enumerate*}\n\\item 12\n\\item 8\n\\end{enumerate*}\n",
            "text/plain": [
              "[1] 12  8"
            ]
          },
          "metadata": {}
        }
      ]
    },
    {
      "cell_type": "code",
      "source": [
        "# How many pets are in this dataset? Is this dataset unique?\n",
        "length(unique(new_dataset$id))\n",
        "length(new_dataset$id)"
      ],
      "metadata": {
        "colab": {
          "base_uri": "https://localhost:8080/",
          "height": 52
        },
        "id": "QyaYWsB1uBUC",
        "outputId": "e262455f-087c-40be-ac3b-e41ea58d5577"
      },
      "execution_count": 9,
      "outputs": [
        {
          "output_type": "display_data",
          "data": {
            "text/html": [
              "11"
            ],
            "text/markdown": "11",
            "text/latex": "11",
            "text/plain": [
              "[1] 11"
            ]
          },
          "metadata": {}
        },
        {
          "output_type": "display_data",
          "data": {
            "text/html": [
              "11"
            ],
            "text/markdown": "11",
            "text/latex": "11",
            "text/plain": [
              "[1] 11"
            ]
          },
          "metadata": {}
        }
      ]
    },
    {
      "cell_type": "code",
      "source": [
        "# How many dogs and cat in the dataset\n",
        "unique(new_dataset$animal)"
      ],
      "metadata": {
        "colab": {
          "base_uri": "https://localhost:8080/",
          "height": 34
        },
        "id": "appJvQWZugcg",
        "outputId": "f7493af2-c0dc-493c-d89b-6b06b477b2ae"
      },
      "execution_count": 10,
      "outputs": [
        {
          "output_type": "display_data",
          "data": {
            "text/html": [
              "<style>\n",
              ".list-inline {list-style: none; margin:0; padding: 0}\n",
              ".list-inline>li {display: inline-block}\n",
              ".list-inline>li:not(:last-child)::after {content: \"\\00b7\"; padding: 0 .5ex}\n",
              "</style>\n",
              "<ol class=list-inline><li>'cat'</li><li>'dog'</li></ol>\n"
            ],
            "text/markdown": "1. 'cat'\n2. 'dog'\n\n\n",
            "text/latex": "\\begin{enumerate*}\n\\item 'cat'\n\\item 'dog'\n\\end{enumerate*}\n",
            "text/plain": [
              "[1] \"cat\" \"dog\""
            ]
          },
          "metadata": {}
        }
      ]
    },
    {
      "cell_type": "code",
      "source": [
        "# What are the column/variable names?\n",
        "names(new_dataset)"
      ],
      "metadata": {
        "colab": {
          "base_uri": "https://localhost:8080/",
          "height": 34
        },
        "id": "Rf3SeJ-aurkk",
        "outputId": "605a4e93-f01a-404d-9ce6-a0c5fd752eb1"
      },
      "execution_count": 11,
      "outputs": [
        {
          "output_type": "display_data",
          "data": {
            "text/html": [
              "<style>\n",
              ".list-inline {list-style: none; margin:0; padding: 0}\n",
              ".list-inline>li {display: inline-block}\n",
              ".list-inline>li:not(:last-child)::after {content: \"\\00b7\"; padding: 0 .5ex}\n",
              "</style>\n",
              "<ol class=list-inline><li>'id'</li><li>'name'</li><li>'weight'</li><li>'animal'</li><li>'ageCategory'</li><li>'shotsCurrent'</li><li>'weight_square'</li><li>'overweight'</li></ol>\n"
            ],
            "text/markdown": "1. 'id'\n2. 'name'\n3. 'weight'\n4. 'animal'\n5. 'ageCategory'\n6. 'shotsCurrent'\n7. 'weight_square'\n8. 'overweight'\n\n\n",
            "text/latex": "\\begin{enumerate*}\n\\item 'id'\n\\item 'name'\n\\item 'weight'\n\\item 'animal'\n\\item 'ageCategory'\n\\item 'shotsCurrent'\n\\item 'weight\\_square'\n\\item 'overweight'\n\\end{enumerate*}\n",
            "text/plain": [
              "[1] \"id\"            \"name\"          \"weight\"        \"animal\"       \n",
              "[5] \"ageCategory\"   \"shotsCurrent\"  \"weight_square\" \"overweight\"   "
            ]
          },
          "metadata": {}
        }
      ]
    },
    {
      "cell_type": "code",
      "source": [
        "# Subsetting Data\n",
        "dog <- new_dataset[new_dataset$animal == 'dog', ]\n",
        "cat <- new_dataset[new_dataset$animal == 'cat', ]\n",
        "\n",
        "which(new_dataset$shotsCurrent == \"Yes\")"
      ],
      "metadata": {
        "colab": {
          "base_uri": "https://localhost:8080/",
          "height": 34
        },
        "id": "WmPZKjPDu6GO",
        "outputId": "1f9db360-8cfa-418c-8a1e-1100c346a3d6"
      },
      "execution_count": 12,
      "outputs": [
        {
          "output_type": "display_data",
          "data": {
            "text/html": [
              "<style>\n",
              ".list-inline {list-style: none; margin:0; padding: 0}\n",
              ".list-inline>li {display: inline-block}\n",
              ".list-inline>li:not(:last-child)::after {content: \"\\00b7\"; padding: 0 .5ex}\n",
              "</style>\n",
              "<ol class=list-inline><li>2</li><li>5</li><li>8</li><li>11</li></ol>\n"
            ],
            "text/markdown": "1. 2\n2. 5\n3. 8\n4. 11\n\n\n",
            "text/latex": "\\begin{enumerate*}\n\\item 2\n\\item 5\n\\item 8\n\\item 11\n\\end{enumerate*}\n",
            "text/plain": [
              "[1]  2  5  8 11"
            ]
          },
          "metadata": {}
        }
      ]
    },
    {
      "cell_type": "code",
      "source": [
        "# Subsetting Data for specific column value\n",
        "dog2 <- new_dataset[new_dataset$animal == 'dog', 1:3]\n",
        "head(dog2)"
      ],
      "metadata": {
        "colab": {
          "base_uri": "https://localhost:8080/",
          "height": 255
        },
        "id": "khzD5mH_vQA6",
        "outputId": "5ca4093f-f695-43c6-ee12-0cc4647956e9"
      },
      "execution_count": 13,
      "outputs": [
        {
          "output_type": "display_data",
          "data": {
            "text/html": [
              "<table class=\"dataframe\">\n",
              "<caption>A data.frame: 5 × 3</caption>\n",
              "<thead>\n",
              "\t<tr><th></th><th scope=col>id</th><th scope=col>name</th><th scope=col>weight</th></tr>\n",
              "\t<tr><th></th><th scope=col>&lt;chr&gt;</th><th scope=col>&lt;chr&gt;</th><th scope=col>&lt;dbl&gt;</th></tr>\n",
              "</thead>\n",
              "<tbody>\n",
              "\t<tr><th scope=row>3</th><td>D1</td><td>Fido     </td><td>15</td></tr>\n",
              "\t<tr><th scope=row>4</th><td>D4</td><td>Mr Bowser</td><td>20</td></tr>\n",
              "\t<tr><th scope=row>5</th><td>D8</td><td>Fido     </td><td>40</td></tr>\n",
              "\t<tr><th scope=row>7</th><td>D5</td><td>Hubert   </td><td>60</td></tr>\n",
              "\t<tr><th scope=row>11</th><td>D9</td><td>Winky    </td><td>11</td></tr>\n",
              "</tbody>\n",
              "</table>\n"
            ],
            "text/markdown": "\nA data.frame: 5 × 3\n\n| <!--/--> | id &lt;chr&gt; | name &lt;chr&gt; | weight &lt;dbl&gt; |\n|---|---|---|---|\n| 3 | D1 | Fido      | 15 |\n| 4 | D4 | Mr Bowser | 20 |\n| 5 | D8 | Fido      | 40 |\n| 7 | D5 | Hubert    | 60 |\n| 11 | D9 | Winky     | 11 |\n\n",
            "text/latex": "A data.frame: 5 × 3\n\\begin{tabular}{r|lll}\n  & id & name & weight\\\\\n  & <chr> & <chr> & <dbl>\\\\\n\\hline\n\t3 & D1 & Fido      & 15\\\\\n\t4 & D4 & Mr Bowser & 20\\\\\n\t5 & D8 & Fido      & 40\\\\\n\t7 & D5 & Hubert    & 60\\\\\n\t11 & D9 & Winky     & 11\\\\\n\\end{tabular}\n",
            "text/plain": [
              "   id name      weight\n",
              "3  D1 Fido      15    \n",
              "4  D4 Mr Bowser 20    \n",
              "5  D8 Fido      40    \n",
              "7  D5 Hubert    60    \n",
              "11 D9 Winky     11    "
            ]
          },
          "metadata": {}
        }
      ]
    },
    {
      "cell_type": "code",
      "source": [
        "# Data Summaries\n",
        "mean(new_dataset$weight)"
      ],
      "metadata": {
        "colab": {
          "base_uri": "https://localhost:8080/",
          "height": 34
        },
        "id": "5j4Xg-gcwMtv",
        "outputId": "24a9880e-52f0-4f52-e7f8-d3932db0f477"
      },
      "execution_count": 14,
      "outputs": [
        {
          "output_type": "display_data",
          "data": {
            "text/html": [
              "18.3636363636364"
            ],
            "text/markdown": "18.3636363636364",
            "text/latex": "18.3636363636364",
            "text/plain": [
              "[1] 18.36364"
            ]
          },
          "metadata": {}
        }
      ]
    },
    {
      "cell_type": "code",
      "source": [
        "mean(dataset$weight, na.rm = TRUE)\n",
        "is.na(dataset)"
      ],
      "metadata": {
        "colab": {
          "base_uri": "https://localhost:8080/",
          "height": 460
        },
        "id": "EqiPt3xHxdUV",
        "outputId": "b2e21871-13fa-4839-e450-579eaaf4ca54"
      },
      "execution_count": 15,
      "outputs": [
        {
          "output_type": "display_data",
          "data": {
            "text/html": [
              "16.85"
            ],
            "text/markdown": "16.85",
            "text/latex": "16.85",
            "text/plain": [
              "[1] 16.85"
            ]
          },
          "metadata": {}
        },
        {
          "output_type": "display_data",
          "data": {
            "text/html": [
              "<table class=\"dataframe\">\n",
              "<caption>A matrix: 12 × 8 of type lgl</caption>\n",
              "<thead>\n",
              "\t<tr><th scope=col>id</th><th scope=col>name</th><th scope=col>weight</th><th scope=col>animal</th><th scope=col>ageCategory</th><th scope=col>shotsCurrent</th><th scope=col>weight_square</th><th scope=col>overweight</th></tr>\n",
              "</thead>\n",
              "<tbody>\n",
              "\t<tr><td>FALSE</td><td>FALSE</td><td>FALSE</td><td>FALSE</td><td>FALSE</td><td>FALSE</td><td>FALSE</td><td>FALSE</td></tr>\n",
              "\t<tr><td>FALSE</td><td>FALSE</td><td>FALSE</td><td>FALSE</td><td>FALSE</td><td>FALSE</td><td>FALSE</td><td>FALSE</td></tr>\n",
              "\t<tr><td>FALSE</td><td>FALSE</td><td>FALSE</td><td>FALSE</td><td>FALSE</td><td>FALSE</td><td>FALSE</td><td>FALSE</td></tr>\n",
              "\t<tr><td>FALSE</td><td>FALSE</td><td>FALSE</td><td>FALSE</td><td>FALSE</td><td>FALSE</td><td>FALSE</td><td>FALSE</td></tr>\n",
              "\t<tr><td>FALSE</td><td>FALSE</td><td>FALSE</td><td>FALSE</td><td>FALSE</td><td>FALSE</td><td>FALSE</td><td>FALSE</td></tr>\n",
              "\t<tr><td>FALSE</td><td>FALSE</td><td>FALSE</td><td>FALSE</td><td>FALSE</td><td>FALSE</td><td>FALSE</td><td>FALSE</td></tr>\n",
              "\t<tr><td>FALSE</td><td>FALSE</td><td>FALSE</td><td>FALSE</td><td>FALSE</td><td>FALSE</td><td>FALSE</td><td>FALSE</td></tr>\n",
              "\t<tr><td>FALSE</td><td>FALSE</td><td>FALSE</td><td>FALSE</td><td>FALSE</td><td>FALSE</td><td>FALSE</td><td>FALSE</td></tr>\n",
              "\t<tr><td>FALSE</td><td>FALSE</td><td>FALSE</td><td>FALSE</td><td>FALSE</td><td> TRUE</td><td>FALSE</td><td>FALSE</td></tr>\n",
              "\t<tr><td>FALSE</td><td>FALSE</td><td>FALSE</td><td>FALSE</td><td>FALSE</td><td>FALSE</td><td>FALSE</td><td>FALSE</td></tr>\n",
              "\t<tr><td>FALSE</td><td>FALSE</td><td>FALSE</td><td>FALSE</td><td>FALSE</td><td>FALSE</td><td>FALSE</td><td>FALSE</td></tr>\n",
              "\t<tr><td>FALSE</td><td>FALSE</td><td>FALSE</td><td>FALSE</td><td>FALSE</td><td>FALSE</td><td>FALSE</td><td>FALSE</td></tr>\n",
              "</tbody>\n",
              "</table>\n"
            ],
            "text/markdown": "\nA matrix: 12 × 8 of type lgl\n\n| id | name | weight | animal | ageCategory | shotsCurrent | weight_square | overweight |\n|---|---|---|---|---|---|---|---|\n| FALSE | FALSE | FALSE | FALSE | FALSE | FALSE | FALSE | FALSE |\n| FALSE | FALSE | FALSE | FALSE | FALSE | FALSE | FALSE | FALSE |\n| FALSE | FALSE | FALSE | FALSE | FALSE | FALSE | FALSE | FALSE |\n| FALSE | FALSE | FALSE | FALSE | FALSE | FALSE | FALSE | FALSE |\n| FALSE | FALSE | FALSE | FALSE | FALSE | FALSE | FALSE | FALSE |\n| FALSE | FALSE | FALSE | FALSE | FALSE | FALSE | FALSE | FALSE |\n| FALSE | FALSE | FALSE | FALSE | FALSE | FALSE | FALSE | FALSE |\n| FALSE | FALSE | FALSE | FALSE | FALSE | FALSE | FALSE | FALSE |\n| FALSE | FALSE | FALSE | FALSE | FALSE |  TRUE | FALSE | FALSE |\n| FALSE | FALSE | FALSE | FALSE | FALSE | FALSE | FALSE | FALSE |\n| FALSE | FALSE | FALSE | FALSE | FALSE | FALSE | FALSE | FALSE |\n| FALSE | FALSE | FALSE | FALSE | FALSE | FALSE | FALSE | FALSE |\n\n",
            "text/latex": "A matrix: 12 × 8 of type lgl\n\\begin{tabular}{llllllll}\n id & name & weight & animal & ageCategory & shotsCurrent & weight\\_square & overweight\\\\\n\\hline\n\t FALSE & FALSE & FALSE & FALSE & FALSE & FALSE & FALSE & FALSE\\\\\n\t FALSE & FALSE & FALSE & FALSE & FALSE & FALSE & FALSE & FALSE\\\\\n\t FALSE & FALSE & FALSE & FALSE & FALSE & FALSE & FALSE & FALSE\\\\\n\t FALSE & FALSE & FALSE & FALSE & FALSE & FALSE & FALSE & FALSE\\\\\n\t FALSE & FALSE & FALSE & FALSE & FALSE & FALSE & FALSE & FALSE\\\\\n\t FALSE & FALSE & FALSE & FALSE & FALSE & FALSE & FALSE & FALSE\\\\\n\t FALSE & FALSE & FALSE & FALSE & FALSE & FALSE & FALSE & FALSE\\\\\n\t FALSE & FALSE & FALSE & FALSE & FALSE & FALSE & FALSE & FALSE\\\\\n\t FALSE & FALSE & FALSE & FALSE & FALSE &  TRUE & FALSE & FALSE\\\\\n\t FALSE & FALSE & FALSE & FALSE & FALSE & FALSE & FALSE & FALSE\\\\\n\t FALSE & FALSE & FALSE & FALSE & FALSE & FALSE & FALSE & FALSE\\\\\n\t FALSE & FALSE & FALSE & FALSE & FALSE & FALSE & FALSE & FALSE\\\\\n\\end{tabular}\n",
            "text/plain": [
              "      id    name  weight animal ageCategory shotsCurrent weight_square\n",
              " [1,] FALSE FALSE FALSE  FALSE  FALSE       FALSE        FALSE        \n",
              " [2,] FALSE FALSE FALSE  FALSE  FALSE       FALSE        FALSE        \n",
              " [3,] FALSE FALSE FALSE  FALSE  FALSE       FALSE        FALSE        \n",
              " [4,] FALSE FALSE FALSE  FALSE  FALSE       FALSE        FALSE        \n",
              " [5,] FALSE FALSE FALSE  FALSE  FALSE       FALSE        FALSE        \n",
              " [6,] FALSE FALSE FALSE  FALSE  FALSE       FALSE        FALSE        \n",
              " [7,] FALSE FALSE FALSE  FALSE  FALSE       FALSE        FALSE        \n",
              " [8,] FALSE FALSE FALSE  FALSE  FALSE       FALSE        FALSE        \n",
              " [9,] FALSE FALSE FALSE  FALSE  FALSE        TRUE        FALSE        \n",
              "[10,] FALSE FALSE FALSE  FALSE  FALSE       FALSE        FALSE        \n",
              "[11,] FALSE FALSE FALSE  FALSE  FALSE       FALSE        FALSE        \n",
              "[12,] FALSE FALSE FALSE  FALSE  FALSE       FALSE        FALSE        \n",
              "      overweight\n",
              " [1,] FALSE     \n",
              " [2,] FALSE     \n",
              " [3,] FALSE     \n",
              " [4,] FALSE     \n",
              " [5,] FALSE     \n",
              " [6,] FALSE     \n",
              " [7,] FALSE     \n",
              " [8,] FALSE     \n",
              " [9,] FALSE     \n",
              "[10,] FALSE     \n",
              "[11,] FALSE     \n",
              "[12,] FALSE     "
            ]
          },
          "metadata": {}
        }
      ]
    },
    {
      "cell_type": "code",
      "source": [
        "# Check the median value\n",
        "median(dataset$weight, na.rm = TRUE)"
      ],
      "metadata": {
        "colab": {
          "base_uri": "https://localhost:8080/",
          "height": 34
        },
        "id": "kGqcUC6LxjxK",
        "outputId": "f1ded894-4ddb-4d2f-f8bb-12abc3d4c592"
      },
      "execution_count": 16,
      "outputs": [
        {
          "output_type": "display_data",
          "data": {
            "text/html": [
              "10.5"
            ],
            "text/markdown": "10.5",
            "text/latex": "10.5",
            "text/plain": [
              "[1] 10.5"
            ]
          },
          "metadata": {}
        }
      ]
    },
    {
      "cell_type": "code",
      "source": [
        "# Show the Quanitle value\n",
        "q <- quantile(dataset$weight)\n",
        "print(q)\n",
        "\n",
        "'Specific Quantile value:'\n",
        "print(quantile(dataset$weight, c(0.3, 0.6)))"
      ],
      "metadata": {
        "colab": {
          "base_uri": "https://localhost:8080/",
          "height": 108
        },
        "id": "r97dxqloyBNQ",
        "outputId": "23d7cb6d-5238-4a18-aa1b-b80f8375ba65"
      },
      "execution_count": 17,
      "outputs": [
        {
          "output_type": "stream",
          "name": "stdout",
          "text": [
            "   0%   25%   50%   75%  100% \n",
            " 0.20  6.75 10.50 17.75 60.00 \n"
          ]
        },
        {
          "output_type": "display_data",
          "data": {
            "text/html": [
              "'Specific Quantile value:'"
            ],
            "text/markdown": "'Specific Quantile value:'",
            "text/latex": "'Specific Quantile value:'",
            "text/plain": [
              "[1] \"Specific Quantile value:\""
            ]
          },
          "metadata": {}
        },
        {
          "output_type": "stream",
          "name": "stdout",
          "text": [
            " 30%  60% \n",
            " 7.9 13.4 \n"
          ]
        }
      ]
    },
    {
      "cell_type": "markdown",
      "source": [
        "# Apply Function"
      ],
      "metadata": {
        "id": "xUFyIeJuyxGt"
      }
    },
    {
      "cell_type": "code",
      "source": [
        "data(\"mtcars\")\n",
        "head(mtcars)"
      ],
      "metadata": {
        "colab": {
          "base_uri": "https://localhost:8080/",
          "height": 286
        },
        "id": "zkodP0Zbypql",
        "outputId": "0c6bffd7-2ec3-4b36-d9be-37c56d1413a8"
      },
      "execution_count": 18,
      "outputs": [
        {
          "output_type": "display_data",
          "data": {
            "text/html": [
              "<table class=\"dataframe\">\n",
              "<caption>A data.frame: 6 × 11</caption>\n",
              "<thead>\n",
              "\t<tr><th></th><th scope=col>mpg</th><th scope=col>cyl</th><th scope=col>disp</th><th scope=col>hp</th><th scope=col>drat</th><th scope=col>wt</th><th scope=col>qsec</th><th scope=col>vs</th><th scope=col>am</th><th scope=col>gear</th><th scope=col>carb</th></tr>\n",
              "\t<tr><th></th><th scope=col>&lt;dbl&gt;</th><th scope=col>&lt;dbl&gt;</th><th scope=col>&lt;dbl&gt;</th><th scope=col>&lt;dbl&gt;</th><th scope=col>&lt;dbl&gt;</th><th scope=col>&lt;dbl&gt;</th><th scope=col>&lt;dbl&gt;</th><th scope=col>&lt;dbl&gt;</th><th scope=col>&lt;dbl&gt;</th><th scope=col>&lt;dbl&gt;</th><th scope=col>&lt;dbl&gt;</th></tr>\n",
              "</thead>\n",
              "<tbody>\n",
              "\t<tr><th scope=row>Mazda RX4</th><td>21.0</td><td>6</td><td>160</td><td>110</td><td>3.90</td><td>2.620</td><td>16.46</td><td>0</td><td>1</td><td>4</td><td>4</td></tr>\n",
              "\t<tr><th scope=row>Mazda RX4 Wag</th><td>21.0</td><td>6</td><td>160</td><td>110</td><td>3.90</td><td>2.875</td><td>17.02</td><td>0</td><td>1</td><td>4</td><td>4</td></tr>\n",
              "\t<tr><th scope=row>Datsun 710</th><td>22.8</td><td>4</td><td>108</td><td> 93</td><td>3.85</td><td>2.320</td><td>18.61</td><td>1</td><td>1</td><td>4</td><td>1</td></tr>\n",
              "\t<tr><th scope=row>Hornet 4 Drive</th><td>21.4</td><td>6</td><td>258</td><td>110</td><td>3.08</td><td>3.215</td><td>19.44</td><td>1</td><td>0</td><td>3</td><td>1</td></tr>\n",
              "\t<tr><th scope=row>Hornet Sportabout</th><td>18.7</td><td>8</td><td>360</td><td>175</td><td>3.15</td><td>3.440</td><td>17.02</td><td>0</td><td>0</td><td>3</td><td>2</td></tr>\n",
              "\t<tr><th scope=row>Valiant</th><td>18.1</td><td>6</td><td>225</td><td>105</td><td>2.76</td><td>3.460</td><td>20.22</td><td>1</td><td>0</td><td>3</td><td>1</td></tr>\n",
              "</tbody>\n",
              "</table>\n"
            ],
            "text/markdown": "\nA data.frame: 6 × 11\n\n| <!--/--> | mpg &lt;dbl&gt; | cyl &lt;dbl&gt; | disp &lt;dbl&gt; | hp &lt;dbl&gt; | drat &lt;dbl&gt; | wt &lt;dbl&gt; | qsec &lt;dbl&gt; | vs &lt;dbl&gt; | am &lt;dbl&gt; | gear &lt;dbl&gt; | carb &lt;dbl&gt; |\n|---|---|---|---|---|---|---|---|---|---|---|---|\n| Mazda RX4 | 21.0 | 6 | 160 | 110 | 3.90 | 2.620 | 16.46 | 0 | 1 | 4 | 4 |\n| Mazda RX4 Wag | 21.0 | 6 | 160 | 110 | 3.90 | 2.875 | 17.02 | 0 | 1 | 4 | 4 |\n| Datsun 710 | 22.8 | 4 | 108 |  93 | 3.85 | 2.320 | 18.61 | 1 | 1 | 4 | 1 |\n| Hornet 4 Drive | 21.4 | 6 | 258 | 110 | 3.08 | 3.215 | 19.44 | 1 | 0 | 3 | 1 |\n| Hornet Sportabout | 18.7 | 8 | 360 | 175 | 3.15 | 3.440 | 17.02 | 0 | 0 | 3 | 2 |\n| Valiant | 18.1 | 6 | 225 | 105 | 2.76 | 3.460 | 20.22 | 1 | 0 | 3 | 1 |\n\n",
            "text/latex": "A data.frame: 6 × 11\n\\begin{tabular}{r|lllllllllll}\n  & mpg & cyl & disp & hp & drat & wt & qsec & vs & am & gear & carb\\\\\n  & <dbl> & <dbl> & <dbl> & <dbl> & <dbl> & <dbl> & <dbl> & <dbl> & <dbl> & <dbl> & <dbl>\\\\\n\\hline\n\tMazda RX4 & 21.0 & 6 & 160 & 110 & 3.90 & 2.620 & 16.46 & 0 & 1 & 4 & 4\\\\\n\tMazda RX4 Wag & 21.0 & 6 & 160 & 110 & 3.90 & 2.875 & 17.02 & 0 & 1 & 4 & 4\\\\\n\tDatsun 710 & 22.8 & 4 & 108 &  93 & 3.85 & 2.320 & 18.61 & 1 & 1 & 4 & 1\\\\\n\tHornet 4 Drive & 21.4 & 6 & 258 & 110 & 3.08 & 3.215 & 19.44 & 1 & 0 & 3 & 1\\\\\n\tHornet Sportabout & 18.7 & 8 & 360 & 175 & 3.15 & 3.440 & 17.02 & 0 & 0 & 3 & 2\\\\\n\tValiant & 18.1 & 6 & 225 & 105 & 2.76 & 3.460 & 20.22 & 1 & 0 & 3 & 1\\\\\n\\end{tabular}\n",
            "text/plain": [
              "                  mpg  cyl disp hp  drat wt    qsec  vs am gear carb\n",
              "Mazda RX4         21.0 6   160  110 3.90 2.620 16.46 0  1  4    4   \n",
              "Mazda RX4 Wag     21.0 6   160  110 3.90 2.875 17.02 0  1  4    4   \n",
              "Datsun 710        22.8 4   108   93 3.85 2.320 18.61 1  1  4    1   \n",
              "Hornet 4 Drive    21.4 6   258  110 3.08 3.215 19.44 1  0  3    1   \n",
              "Hornet Sportabout 18.7 8   360  175 3.15 3.440 17.02 0  0  3    2   \n",
              "Valiant           18.1 6   225  105 2.76 3.460 20.22 1  0  3    1   "
            ]
          },
          "metadata": {}
        }
      ]
    },
    {
      "cell_type": "code",
      "source": [
        "#row-wise operation\n",
        "print( apply(mtcars,1,mean) )"
      ],
      "metadata": {
        "colab": {
          "base_uri": "https://localhost:8080/"
        },
        "id": "0vH4W-kbzGY2",
        "outputId": "0146f404-012a-4787-cf8b-f01e80f7b30d"
      },
      "execution_count": 19,
      "outputs": [
        {
          "output_type": "stream",
          "name": "stdout",
          "text": [
            "          Mazda RX4       Mazda RX4 Wag          Datsun 710      Hornet 4 Drive \n",
            "           29.90727            29.98136            23.59818            38.73955 \n",
            "  Hornet Sportabout             Valiant          Duster 360           Merc 240D \n",
            "           53.66455            35.04909            59.72000            24.63455 \n",
            "           Merc 230            Merc 280           Merc 280C          Merc 450SE \n",
            "           27.23364            31.86000            31.78727            46.43091 \n",
            "         Merc 450SL         Merc 450SLC  Cadillac Fleetwood Lincoln Continental \n",
            "           46.50000            46.35000            66.23273            66.05855 \n",
            "  Chrysler Imperial            Fiat 128         Honda Civic      Toyota Corolla \n",
            "           65.97227            19.44091            17.74227            18.81409 \n",
            "      Toyota Corona    Dodge Challenger         AMC Javelin          Camaro Z28 \n",
            "           24.88864            47.24091            46.00773            58.75273 \n",
            "   Pontiac Firebird           Fiat X1-9       Porsche 914-2        Lotus Europa \n",
            "           57.37955            18.92864            24.77909            24.88027 \n",
            "     Ford Pantera L        Ferrari Dino       Maserati Bora          Volvo 142E \n",
            "           60.97182            34.50818            63.15545            26.26273 \n"
          ]
        }
      ]
    },
    {
      "cell_type": "code",
      "source": [
        "#column-wise operation\n",
        "print( apply(mtcars, 2, mean) )"
      ],
      "metadata": {
        "colab": {
          "base_uri": "https://localhost:8080/"
        },
        "id": "XmBnZy-kzjrr",
        "outputId": "c84d92b1-7430-400f-f0d7-b75ea4b22d03"
      },
      "execution_count": 20,
      "outputs": [
        {
          "output_type": "stream",
          "name": "stdout",
          "text": [
            "       mpg        cyl       disp         hp       drat         wt       qsec \n",
            " 20.090625   6.187500 230.721875 146.687500   3.596563   3.217250  17.848750 \n",
            "        vs         am       gear       carb \n",
            "  0.437500   0.406250   3.687500   2.812500 \n"
          ]
        }
      ]
    },
    {
      "cell_type": "markdown",
      "source": [
        "## lapply() Function\n",
        "- lapply(X, FUN)\n",
        "- X is the name of the list, vector, or data frame\n",
        "- FUN is the specific operation you want to perform"
      ],
      "metadata": {
        "id": "gBLecxI5z1yP"
      }
    },
    {
      "cell_type": "code",
      "source": [
        "#create a data frame with three columns and five rows\n",
        "data <- data.frame(a = c(1, 3, 7, 12, 9),\n",
        "                   b = c(4, 4, 6, 7, 8),\n",
        "                   c = c(14, 15, 11, 10, 6))\n",
        "\n",
        "data"
      ],
      "metadata": {
        "colab": {
          "base_uri": "https://localhost:8080/",
          "height": 255
        },
        "id": "BN2nEFqPzvQa",
        "outputId": "5b3b2b18-d8e6-4b0b-f734-eccec6cc678a"
      },
      "execution_count": 21,
      "outputs": [
        {
          "output_type": "display_data",
          "data": {
            "text/html": [
              "<table class=\"dataframe\">\n",
              "<caption>A data.frame: 5 × 3</caption>\n",
              "<thead>\n",
              "\t<tr><th scope=col>a</th><th scope=col>b</th><th scope=col>c</th></tr>\n",
              "\t<tr><th scope=col>&lt;dbl&gt;</th><th scope=col>&lt;dbl&gt;</th><th scope=col>&lt;dbl&gt;</th></tr>\n",
              "</thead>\n",
              "<tbody>\n",
              "\t<tr><td> 1</td><td>4</td><td>14</td></tr>\n",
              "\t<tr><td> 3</td><td>4</td><td>15</td></tr>\n",
              "\t<tr><td> 7</td><td>6</td><td>11</td></tr>\n",
              "\t<tr><td>12</td><td>7</td><td>10</td></tr>\n",
              "\t<tr><td> 9</td><td>8</td><td> 6</td></tr>\n",
              "</tbody>\n",
              "</table>\n"
            ],
            "text/markdown": "\nA data.frame: 5 × 3\n\n| a &lt;dbl&gt; | b &lt;dbl&gt; | c &lt;dbl&gt; |\n|---|---|---|\n|  1 | 4 | 14 |\n|  3 | 4 | 15 |\n|  7 | 6 | 11 |\n| 12 | 7 | 10 |\n|  9 | 8 |  6 |\n\n",
            "text/latex": "A data.frame: 5 × 3\n\\begin{tabular}{lll}\n a & b & c\\\\\n <dbl> & <dbl> & <dbl>\\\\\n\\hline\n\t  1 & 4 & 14\\\\\n\t  3 & 4 & 15\\\\\n\t  7 & 6 & 11\\\\\n\t 12 & 7 & 10\\\\\n\t  9 & 8 &  6\\\\\n\\end{tabular}\n",
            "text/plain": [
              "  a  b c \n",
              "1  1 4 14\n",
              "2  3 4 15\n",
              "3  7 6 11\n",
              "4 12 7 10\n",
              "5  9 8  6"
            ]
          },
          "metadata": {}
        }
      ]
    },
    {
      "cell_type": "code",
      "source": [
        "#find mean of each column and return results as a list\n",
        "print( lapply(data, mean) )"
      ],
      "metadata": {
        "colab": {
          "base_uri": "https://localhost:8080/"
        },
        "id": "rlT6QAII0Ixe",
        "outputId": "53d10409-4c4f-4012-b7b2-b887d66f8a90"
      },
      "execution_count": 22,
      "outputs": [
        {
          "output_type": "stream",
          "name": "stdout",
          "text": [
            "$a\n",
            "[1] 6.4\n",
            "\n",
            "$b\n",
            "[1] 5.8\n",
            "\n",
            "$c\n",
            "[1] 11.2\n",
            "\n"
          ]
        }
      ]
    },
    {
      "cell_type": "code",
      "source": [
        "#create a list\n",
        "x <- list(a=1, b=1:5, c=1:10)\n",
        "print(x)"
      ],
      "metadata": {
        "colab": {
          "base_uri": "https://localhost:8080/"
        },
        "id": "1gF83Ac70Rsd",
        "outputId": "864a350d-7615-4b4c-fa03-b5a411ee9038"
      },
      "execution_count": 23,
      "outputs": [
        {
          "output_type": "stream",
          "name": "stdout",
          "text": [
            "$a\n",
            "[1] 1\n",
            "\n",
            "$b\n",
            "[1] 1 2 3 4 5\n",
            "\n",
            "$c\n",
            " [1]  1  2  3  4  5  6  7  8  9 10\n",
            "\n"
          ]
        }
      ]
    },
    {
      "cell_type": "code",
      "source": [
        "#find the sum of each element in the list\n",
        "'sum:'\n",
        "print( lapply(x, sum) )\n",
        "\n",
        "#find the mean of each element in the list\n",
        "'mean:'\n",
        "print( lapply(x, mean) )"
      ],
      "metadata": {
        "colab": {
          "base_uri": "https://localhost:8080/",
          "height": 384
        },
        "id": "LMkI4Djj0dip",
        "outputId": "37f4e82a-4d0c-448e-cb42-0bddec782386"
      },
      "execution_count": 24,
      "outputs": [
        {
          "output_type": "display_data",
          "data": {
            "text/html": [
              "'sum:'"
            ],
            "text/markdown": "'sum:'",
            "text/latex": "'sum:'",
            "text/plain": [
              "[1] \"sum:\""
            ]
          },
          "metadata": {}
        },
        {
          "output_type": "stream",
          "name": "stdout",
          "text": [
            "$a\n",
            "[1] 1\n",
            "\n",
            "$b\n",
            "[1] 15\n",
            "\n",
            "$c\n",
            "[1] 55\n",
            "\n"
          ]
        },
        {
          "output_type": "display_data",
          "data": {
            "text/html": [
              "'mean:'"
            ],
            "text/markdown": "'mean:'",
            "text/latex": "'mean:'",
            "text/plain": [
              "[1] \"mean:\""
            ]
          },
          "metadata": {}
        },
        {
          "output_type": "stream",
          "name": "stdout",
          "text": [
            "$a\n",
            "[1] 1\n",
            "\n",
            "$b\n",
            "[1] 3\n",
            "\n",
            "$c\n",
            "[1] 5.5\n",
            "\n"
          ]
        }
      ]
    },
    {
      "cell_type": "markdown",
      "source": [
        "## supply Function\n",
        "- sapply(X, FUN)\n",
        "- X is the name of the list, vector, or data frame\n",
        "- FUN is the specific operation you want to perform"
      ],
      "metadata": {
        "id": "VCjh1BAZ06Y4"
      }
    },
    {
      "cell_type": "code",
      "source": [
        "#find mean of each column and return results as a vector\n",
        "print( sapply(data, mean) )"
      ],
      "metadata": {
        "colab": {
          "base_uri": "https://localhost:8080/"
        },
        "id": "7Z7SP_vg0vR3",
        "outputId": "f29b6167-3f20-413a-cf38-a65f0ac276ac"
      },
      "execution_count": 25,
      "outputs": [
        {
          "output_type": "stream",
          "name": "stdout",
          "text": [
            "   a    b    c \n",
            " 6.4  5.8 11.2 \n"
          ]
        }
      ]
    },
    {
      "cell_type": "code",
      "source": [
        "#find the sum of each element in the list\n",
        "\"Sum:\"\n",
        "print( sapply(x, sum) )\n",
        "\n",
        "#find the mean of each element in the list\n",
        "\"Mean:\"\n",
        "print( sapply(x, mean) )"
      ],
      "metadata": {
        "colab": {
          "base_uri": "https://localhost:8080/",
          "height": 126
        },
        "id": "phkbwHT51NLx",
        "outputId": "483ba037-fc60-4770-cdf2-884663059d79"
      },
      "execution_count": 26,
      "outputs": [
        {
          "output_type": "display_data",
          "data": {
            "text/html": [
              "'Sum:'"
            ],
            "text/markdown": "'Sum:'",
            "text/latex": "'Sum:'",
            "text/plain": [
              "[1] \"Sum:\""
            ]
          },
          "metadata": {}
        },
        {
          "output_type": "stream",
          "name": "stdout",
          "text": [
            " a  b  c \n",
            " 1 15 55 \n"
          ]
        },
        {
          "output_type": "display_data",
          "data": {
            "text/html": [
              "'Mean:'"
            ],
            "text/markdown": "'Mean:'",
            "text/latex": "'Mean:'",
            "text/plain": [
              "[1] \"Mean:\""
            ]
          },
          "metadata": {}
        },
        {
          "output_type": "stream",
          "name": "stdout",
          "text": [
            "  a   b   c \n",
            "1.0 3.0 5.5 \n"
          ]
        }
      ]
    },
    {
      "cell_type": "markdown",
      "source": [
        "## tapply() function\n",
        "- tapply(X, INDEX, FUN)\n",
        "- X is the name of the object, typically a vector\n",
        "- INDEX is a list of one or more factors\n",
        "- FUN is the specific operation you want to perform\n"
      ],
      "metadata": {
        "id": "OGBvz8Np1mFf"
      }
    },
    {
      "cell_type": "code",
      "source": [
        "#view first six lines of iris dataset\n",
        "head(iris)"
      ],
      "metadata": {
        "colab": {
          "base_uri": "https://localhost:8080/",
          "height": 286
        },
        "id": "4gXAzKpq1hRJ",
        "outputId": "15975e16-8a84-42dc-fb14-259350920c1f"
      },
      "execution_count": 27,
      "outputs": [
        {
          "output_type": "display_data",
          "data": {
            "text/html": [
              "<table class=\"dataframe\">\n",
              "<caption>A data.frame: 6 × 5</caption>\n",
              "<thead>\n",
              "\t<tr><th></th><th scope=col>Sepal.Length</th><th scope=col>Sepal.Width</th><th scope=col>Petal.Length</th><th scope=col>Petal.Width</th><th scope=col>Species</th></tr>\n",
              "\t<tr><th></th><th scope=col>&lt;dbl&gt;</th><th scope=col>&lt;dbl&gt;</th><th scope=col>&lt;dbl&gt;</th><th scope=col>&lt;dbl&gt;</th><th scope=col>&lt;fct&gt;</th></tr>\n",
              "</thead>\n",
              "<tbody>\n",
              "\t<tr><th scope=row>1</th><td>5.1</td><td>3.5</td><td>1.4</td><td>0.2</td><td>setosa</td></tr>\n",
              "\t<tr><th scope=row>2</th><td>4.9</td><td>3.0</td><td>1.4</td><td>0.2</td><td>setosa</td></tr>\n",
              "\t<tr><th scope=row>3</th><td>4.7</td><td>3.2</td><td>1.3</td><td>0.2</td><td>setosa</td></tr>\n",
              "\t<tr><th scope=row>4</th><td>4.6</td><td>3.1</td><td>1.5</td><td>0.2</td><td>setosa</td></tr>\n",
              "\t<tr><th scope=row>5</th><td>5.0</td><td>3.6</td><td>1.4</td><td>0.2</td><td>setosa</td></tr>\n",
              "\t<tr><th scope=row>6</th><td>5.4</td><td>3.9</td><td>1.7</td><td>0.4</td><td>setosa</td></tr>\n",
              "</tbody>\n",
              "</table>\n"
            ],
            "text/markdown": "\nA data.frame: 6 × 5\n\n| <!--/--> | Sepal.Length &lt;dbl&gt; | Sepal.Width &lt;dbl&gt; | Petal.Length &lt;dbl&gt; | Petal.Width &lt;dbl&gt; | Species &lt;fct&gt; |\n|---|---|---|---|---|---|\n| 1 | 5.1 | 3.5 | 1.4 | 0.2 | setosa |\n| 2 | 4.9 | 3.0 | 1.4 | 0.2 | setosa |\n| 3 | 4.7 | 3.2 | 1.3 | 0.2 | setosa |\n| 4 | 4.6 | 3.1 | 1.5 | 0.2 | setosa |\n| 5 | 5.0 | 3.6 | 1.4 | 0.2 | setosa |\n| 6 | 5.4 | 3.9 | 1.7 | 0.4 | setosa |\n\n",
            "text/latex": "A data.frame: 6 × 5\n\\begin{tabular}{r|lllll}\n  & Sepal.Length & Sepal.Width & Petal.Length & Petal.Width & Species\\\\\n  & <dbl> & <dbl> & <dbl> & <dbl> & <fct>\\\\\n\\hline\n\t1 & 5.1 & 3.5 & 1.4 & 0.2 & setosa\\\\\n\t2 & 4.9 & 3.0 & 1.4 & 0.2 & setosa\\\\\n\t3 & 4.7 & 3.2 & 1.3 & 0.2 & setosa\\\\\n\t4 & 4.6 & 3.1 & 1.5 & 0.2 & setosa\\\\\n\t5 & 5.0 & 3.6 & 1.4 & 0.2 & setosa\\\\\n\t6 & 5.4 & 3.9 & 1.7 & 0.4 & setosa\\\\\n\\end{tabular}\n",
            "text/plain": [
              "  Sepal.Length Sepal.Width Petal.Length Petal.Width Species\n",
              "1 5.1          3.5         1.4          0.2         setosa \n",
              "2 4.9          3.0         1.4          0.2         setosa \n",
              "3 4.7          3.2         1.3          0.2         setosa \n",
              "4 4.6          3.1         1.5          0.2         setosa \n",
              "5 5.0          3.6         1.4          0.2         setosa \n",
              "6 5.4          3.9         1.7          0.4         setosa "
            ]
          },
          "metadata": {}
        }
      ]
    },
    {
      "cell_type": "code",
      "source": [
        "#find the max Sepal.Length of each of the three Species\n",
        "print( tapply(iris$Sepal.Length, iris$Species, max) )"
      ],
      "metadata": {
        "colab": {
          "base_uri": "https://localhost:8080/"
        },
        "id": "wQMvjMg72CY2",
        "outputId": "4c0d4b90-bc83-4853-fbbc-978da248dbcf"
      },
      "execution_count": 28,
      "outputs": [
        {
          "output_type": "stream",
          "name": "stdout",
          "text": [
            "    setosa versicolor  virginica \n",
            "       5.8        7.0        7.9 \n"
          ]
        }
      ]
    },
    {
      "cell_type": "code",
      "source": [
        "#find the mean Sepal.Width of each of the three Species\n",
        "print( tapply(iris$Petal.Width, iris$Species, mean) )"
      ],
      "metadata": {
        "colab": {
          "base_uri": "https://localhost:8080/"
        },
        "id": "ZGid1yVC2QNr",
        "outputId": "ff82bd54-5063-4c95-fe56-c66535950274"
      },
      "execution_count": 29,
      "outputs": [
        {
          "output_type": "stream",
          "name": "stdout",
          "text": [
            "    setosa versicolor  virginica \n",
            "     0.246      1.326      2.026 \n"
          ]
        }
      ]
    },
    {
      "cell_type": "code",
      "source": [
        "#find the minimum Petal.Width of each of the three Species\n",
        "print( tapply(iris$Petal.Width, iris$Species, min) )"
      ],
      "metadata": {
        "colab": {
          "base_uri": "https://localhost:8080/"
        },
        "id": "M8LPuobm2cyZ",
        "outputId": "e4c205ab-3d1e-4851-e8bf-20e6ce0657fc"
      },
      "execution_count": 32,
      "outputs": [
        {
          "output_type": "stream",
          "name": "stdout",
          "text": [
            "    setosa versicolor  virginica \n",
            "       0.1        1.0        1.4 \n"
          ]
        }
      ]
    }
  ]
}