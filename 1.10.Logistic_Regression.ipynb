{
  "nbformat": 4,
  "nbformat_minor": 0,
  "metadata": {
    "colab": {
      "provenance": [],
      "authorship_tag": "ABX9TyMYLRlpHEdHPIhD2Ij1by/W",
      "include_colab_link": true
    },
    "kernelspec": {
      "name": "ir",
      "display_name": "R"
    },
    "language_info": {
      "name": "R"
    }
  },
  "cells": [
    {
      "cell_type": "markdown",
      "metadata": {
        "id": "view-in-github",
        "colab_type": "text"
      },
      "source": [
        "<a href=\"https://colab.research.google.com/github/RifatMuhtasim/R_Programming_Language/blob/main/1.10.Logistic_Regression.ipynb\" target=\"_parent\"><img src=\"https://colab.research.google.com/assets/colab-badge.svg\" alt=\"Open In Colab\"/></a>"
      ]
    },
    {
      "cell_type": "code",
      "execution_count": 1,
      "metadata": {
        "colab": {
          "base_uri": "https://localhost:8080/",
          "height": 286
        },
        "id": "UPzpJFaQkwGJ",
        "outputId": "828ecf76-6687-4062-cd81-cc1934c031d1"
      },
      "outputs": [
        {
          "output_type": "display_data",
          "data": {
            "text/html": [
              "<table class=\"dataframe\">\n",
              "<caption>A data.frame: 6 × 6</caption>\n",
              "<thead>\n",
              "\t<tr><th></th><th scope=col>Date</th><th scope=col>Open</th><th scope=col>High</th><th scope=col>Low</th><th scope=col>Close</th><th scope=col>Volume</th></tr>\n",
              "\t<tr><th></th><th scope=col>&lt;chr&gt;</th><th scope=col>&lt;dbl&gt;</th><th scope=col>&lt;dbl&gt;</th><th scope=col>&lt;dbl&gt;</th><th scope=col>&lt;dbl&gt;</th><th scope=col>&lt;int&gt;</th></tr>\n",
              "</thead>\n",
              "<tbody>\n",
              "\t<tr><th scope=row>1</th><td>1/3/2000 </td><td>1482.15</td><td>1592.90</td><td>1482.15</td><td>1592.20</td><td>0</td></tr>\n",
              "\t<tr><th scope=row>2</th><td>1/4/2000 </td><td>1594.40</td><td>1641.95</td><td>1594.40</td><td>1638.70</td><td>0</td></tr>\n",
              "\t<tr><th scope=row>3</th><td>1/5/2000 </td><td>1634.55</td><td>1635.50</td><td>1555.05</td><td>1595.80</td><td>0</td></tr>\n",
              "\t<tr><th scope=row>4</th><td>1/6/2000 </td><td>1595.80</td><td>1639.00</td><td>1595.80</td><td>1617.60</td><td>0</td></tr>\n",
              "\t<tr><th scope=row>5</th><td>1/7/2000 </td><td>1616.60</td><td>1628.25</td><td>1597.20</td><td>1613.30</td><td>0</td></tr>\n",
              "\t<tr><th scope=row>6</th><td>1/10/2000</td><td>1615.65</td><td>1662.10</td><td>1614.95</td><td>1632.95</td><td>0</td></tr>\n",
              "</tbody>\n",
              "</table>\n"
            ],
            "text/markdown": "\nA data.frame: 6 × 6\n\n| <!--/--> | Date &lt;chr&gt; | Open &lt;dbl&gt; | High &lt;dbl&gt; | Low &lt;dbl&gt; | Close &lt;dbl&gt; | Volume &lt;int&gt; |\n|---|---|---|---|---|---|---|\n| 1 | 1/3/2000  | 1482.15 | 1592.90 | 1482.15 | 1592.20 | 0 |\n| 2 | 1/4/2000  | 1594.40 | 1641.95 | 1594.40 | 1638.70 | 0 |\n| 3 | 1/5/2000  | 1634.55 | 1635.50 | 1555.05 | 1595.80 | 0 |\n| 4 | 1/6/2000  | 1595.80 | 1639.00 | 1595.80 | 1617.60 | 0 |\n| 5 | 1/7/2000  | 1616.60 | 1628.25 | 1597.20 | 1613.30 | 0 |\n| 6 | 1/10/2000 | 1615.65 | 1662.10 | 1614.95 | 1632.95 | 0 |\n\n",
            "text/latex": "A data.frame: 6 × 6\n\\begin{tabular}{r|llllll}\n  & Date & Open & High & Low & Close & Volume\\\\\n  & <chr> & <dbl> & <dbl> & <dbl> & <dbl> & <int>\\\\\n\\hline\n\t1 & 1/3/2000  & 1482.15 & 1592.90 & 1482.15 & 1592.20 & 0\\\\\n\t2 & 1/4/2000  & 1594.40 & 1641.95 & 1594.40 & 1638.70 & 0\\\\\n\t3 & 1/5/2000  & 1634.55 & 1635.50 & 1555.05 & 1595.80 & 0\\\\\n\t4 & 1/6/2000  & 1595.80 & 1639.00 & 1595.80 & 1617.60 & 0\\\\\n\t5 & 1/7/2000  & 1616.60 & 1628.25 & 1597.20 & 1613.30 & 0\\\\\n\t6 & 1/10/2000 & 1615.65 & 1662.10 & 1614.95 & 1632.95 & 0\\\\\n\\end{tabular}\n",
            "text/plain": [
              "  Date      Open    High    Low     Close   Volume\n",
              "1 1/3/2000  1482.15 1592.90 1482.15 1592.20 0     \n",
              "2 1/4/2000  1594.40 1641.95 1594.40 1638.70 0     \n",
              "3 1/5/2000  1634.55 1635.50 1555.05 1595.80 0     \n",
              "4 1/6/2000  1595.80 1639.00 1595.80 1617.60 0     \n",
              "5 1/7/2000  1616.60 1628.25 1597.20 1613.30 0     \n",
              "6 1/10/2000 1615.65 1662.10 1614.95 1632.95 0     "
            ]
          },
          "metadata": {}
        }
      ],
      "source": [
        "df <- read.csv(\"https://raw.githubusercontent.com/Gajapathy-Selvaraj/Stock_Market_Datasets_NSE/main/NIFTY_50(INDEX)from2000.csv\")\n",
        "head(df)"
      ]
    },
    {
      "cell_type": "code",
      "source": [
        "labs <- attributes(df)$labels\n",
        "labs"
      ],
      "metadata": {
        "colab": {
          "base_uri": "https://localhost:8080/",
          "height": 34
        },
        "id": "7t8c-02oowqF",
        "outputId": "599c9e20-83b6-4d88-db86-213593fdb5eb"
      },
      "execution_count": 2,
      "outputs": [
        {
          "output_type": "display_data",
          "data": {
            "text/plain": [
              "NULL"
            ]
          },
          "metadata": {}
        }
      ]
    },
    {
      "cell_type": "code",
      "source": [
        "str(df$Date)"
      ],
      "metadata": {
        "colab": {
          "base_uri": "https://localhost:8080/"
        },
        "id": "EOq-hn6ipbe8",
        "outputId": "d7f511b0-362c-45e3-f0d7-e572022f4ac4"
      },
      "execution_count": 3,
      "outputs": [
        {
          "output_type": "stream",
          "name": "stdout",
          "text": [
            " chr [1:5058] \"1/3/2000\" \"1/4/2000\" \"1/5/2000\" \"1/6/2000\" \"1/7/2000\" ...\n"
          ]
        }
      ]
    },
    {
      "cell_type": "code",
      "source": [
        "levels(df$Date)"
      ],
      "metadata": {
        "colab": {
          "base_uri": "https://localhost:8080/",
          "height": 34
        },
        "id": "2fNZukMSpfaN",
        "outputId": "daf85b85-902f-403e-be47-a15380970a13"
      },
      "execution_count": 4,
      "outputs": [
        {
          "output_type": "display_data",
          "data": {
            "text/plain": [
              "NULL"
            ]
          },
          "metadata": {}
        }
      ]
    },
    {
      "cell_type": "code",
      "source": [
        "#collapse all missing values to NA\n",
        "df$Volume <- factor(df$Volume, levels = c(\"2 No\", \"1 Yes\"))\n",
        "head(df)"
      ],
      "metadata": {
        "colab": {
          "base_uri": "https://localhost:8080/",
          "height": 286
        },
        "id": "uabs7XIvpjoL",
        "outputId": "0ea0a500-6f69-4b17-e1a6-17bc92d3bd62"
      },
      "execution_count": 5,
      "outputs": [
        {
          "output_type": "display_data",
          "data": {
            "text/html": [
              "<table class=\"dataframe\">\n",
              "<caption>A data.frame: 6 × 6</caption>\n",
              "<thead>\n",
              "\t<tr><th></th><th scope=col>Date</th><th scope=col>Open</th><th scope=col>High</th><th scope=col>Low</th><th scope=col>Close</th><th scope=col>Volume</th></tr>\n",
              "\t<tr><th></th><th scope=col>&lt;chr&gt;</th><th scope=col>&lt;dbl&gt;</th><th scope=col>&lt;dbl&gt;</th><th scope=col>&lt;dbl&gt;</th><th scope=col>&lt;dbl&gt;</th><th scope=col>&lt;fct&gt;</th></tr>\n",
              "</thead>\n",
              "<tbody>\n",
              "\t<tr><th scope=row>1</th><td>1/3/2000 </td><td>1482.15</td><td>1592.90</td><td>1482.15</td><td>1592.20</td><td>NA</td></tr>\n",
              "\t<tr><th scope=row>2</th><td>1/4/2000 </td><td>1594.40</td><td>1641.95</td><td>1594.40</td><td>1638.70</td><td>NA</td></tr>\n",
              "\t<tr><th scope=row>3</th><td>1/5/2000 </td><td>1634.55</td><td>1635.50</td><td>1555.05</td><td>1595.80</td><td>NA</td></tr>\n",
              "\t<tr><th scope=row>4</th><td>1/6/2000 </td><td>1595.80</td><td>1639.00</td><td>1595.80</td><td>1617.60</td><td>NA</td></tr>\n",
              "\t<tr><th scope=row>5</th><td>1/7/2000 </td><td>1616.60</td><td>1628.25</td><td>1597.20</td><td>1613.30</td><td>NA</td></tr>\n",
              "\t<tr><th scope=row>6</th><td>1/10/2000</td><td>1615.65</td><td>1662.10</td><td>1614.95</td><td>1632.95</td><td>NA</td></tr>\n",
              "</tbody>\n",
              "</table>\n"
            ],
            "text/markdown": "\nA data.frame: 6 × 6\n\n| <!--/--> | Date &lt;chr&gt; | Open &lt;dbl&gt; | High &lt;dbl&gt; | Low &lt;dbl&gt; | Close &lt;dbl&gt; | Volume &lt;fct&gt; |\n|---|---|---|---|---|---|---|\n| 1 | 1/3/2000  | 1482.15 | 1592.90 | 1482.15 | 1592.20 | NA |\n| 2 | 1/4/2000  | 1594.40 | 1641.95 | 1594.40 | 1638.70 | NA |\n| 3 | 1/5/2000  | 1634.55 | 1635.50 | 1555.05 | 1595.80 | NA |\n| 4 | 1/6/2000  | 1595.80 | 1639.00 | 1595.80 | 1617.60 | NA |\n| 5 | 1/7/2000  | 1616.60 | 1628.25 | 1597.20 | 1613.30 | NA |\n| 6 | 1/10/2000 | 1615.65 | 1662.10 | 1614.95 | 1632.95 | NA |\n\n",
            "text/latex": "A data.frame: 6 × 6\n\\begin{tabular}{r|llllll}\n  & Date & Open & High & Low & Close & Volume\\\\\n  & <chr> & <dbl> & <dbl> & <dbl> & <dbl> & <fct>\\\\\n\\hline\n\t1 & 1/3/2000  & 1482.15 & 1592.90 & 1482.15 & 1592.20 & NA\\\\\n\t2 & 1/4/2000  & 1594.40 & 1641.95 & 1594.40 & 1638.70 & NA\\\\\n\t3 & 1/5/2000  & 1634.55 & 1635.50 & 1555.05 & 1595.80 & NA\\\\\n\t4 & 1/6/2000  & 1595.80 & 1639.00 & 1595.80 & 1617.60 & NA\\\\\n\t5 & 1/7/2000  & 1616.60 & 1628.25 & 1597.20 & 1613.30 & NA\\\\\n\t6 & 1/10/2000 & 1615.65 & 1662.10 & 1614.95 & 1632.95 & NA\\\\\n\\end{tabular}\n",
            "text/plain": [
              "  Date      Open    High    Low     Close   Volume\n",
              "1 1/3/2000  1482.15 1592.90 1482.15 1592.20 NA    \n",
              "2 1/4/2000  1594.40 1641.95 1594.40 1638.70 NA    \n",
              "3 1/5/2000  1634.55 1635.50 1555.05 1595.80 NA    \n",
              "4 1/6/2000  1595.80 1639.00 1595.80 1617.60 NA    \n",
              "5 1/7/2000  1616.60 1628.25 1597.20 1613.30 NA    \n",
              "6 1/10/2000 1615.65 1662.10 1614.95 1632.95 NA    "
            ]
          },
          "metadata": {}
        }
      ]
    },
    {
      "cell_type": "code",
      "source": [
        "#run our regression model\n",
        "reg <- glm(Close ~ High+Low, data=df)\n",
        "reg"
      ],
      "metadata": {
        "colab": {
          "base_uri": "https://localhost:8080/",
          "height": 191
        },
        "id": "tG1H0XBFp_uz",
        "outputId": "7a372444-a57a-4dbf-9964-5e2818a798d9"
      },
      "execution_count": 6,
      "outputs": [
        {
          "output_type": "display_data",
          "data": {
            "text/plain": [
              "\n",
              "Call:  glm(formula = Close ~ High + Low, data = df)\n",
              "\n",
              "Coefficients:\n",
              "(Intercept)         High          Low  \n",
              "    0.04124      0.52042      0.47940  \n",
              "\n",
              "Degrees of Freedom: 5057 Total (i.e. Null);  5055 Residual\n",
              "Null Deviance:\t    5.901e+10 \n",
              "Residual Deviance: 6376000 \tAIC: 50470"
            ]
          },
          "metadata": {}
        }
      ]
    },
    {
      "cell_type": "code",
      "source": [
        "coef(summary(reg))"
      ],
      "metadata": {
        "colab": {
          "base_uri": "https://localhost:8080/",
          "height": 161
        },
        "id": "b65WE_IFqdFR",
        "outputId": "79b44a78-f940-4116-b2b4-a75c498aa0b3"
      },
      "execution_count": 7,
      "outputs": [
        {
          "output_type": "display_data",
          "data": {
            "text/html": [
              "<table class=\"dataframe\">\n",
              "<caption>A matrix: 3 × 4 of type dbl</caption>\n",
              "<thead>\n",
              "\t<tr><th></th><th scope=col>Estimate</th><th scope=col>Std. Error</th><th scope=col>t value</th><th scope=col>Pr(&gt;|t|)</th></tr>\n",
              "</thead>\n",
              "<tbody>\n",
              "\t<tr><th scope=row>(Intercept)</th><td>0.04124454</td><td>0.990072856</td><td> 0.04165808</td><td>0.9667729</td></tr>\n",
              "\t<tr><th scope=row>High</th><td>0.52041581</td><td>0.007861909</td><td>66.19458917</td><td>0.0000000</td></tr>\n",
              "\t<tr><th scope=row>Low</th><td>0.47940204</td><td>0.007929193</td><td>60.46038368</td><td>0.0000000</td></tr>\n",
              "</tbody>\n",
              "</table>\n"
            ],
            "text/markdown": "\nA matrix: 3 × 4 of type dbl\n\n| <!--/--> | Estimate | Std. Error | t value | Pr(&gt;|t|) |\n|---|---|---|---|---|\n| (Intercept) | 0.04124454 | 0.990072856 |  0.04165808 | 0.9667729 |\n| High | 0.52041581 | 0.007861909 | 66.19458917 | 0.0000000 |\n| Low | 0.47940204 | 0.007929193 | 60.46038368 | 0.0000000 |\n\n",
            "text/latex": "A matrix: 3 × 4 of type dbl\n\\begin{tabular}{r|llll}\n  & Estimate & Std. Error & t value & Pr(>\\textbar{}t\\textbar{})\\\\\n\\hline\n\t(Intercept) & 0.04124454 & 0.990072856 &  0.04165808 & 0.9667729\\\\\n\tHigh & 0.52041581 & 0.007861909 & 66.19458917 & 0.0000000\\\\\n\tLow & 0.47940204 & 0.007929193 & 60.46038368 & 0.0000000\\\\\n\\end{tabular}\n",
            "text/plain": [
              "            Estimate   Std. Error  t value     Pr(>|t|) \n",
              "(Intercept) 0.04124454 0.990072856  0.04165808 0.9667729\n",
              "High        0.52041581 0.007861909 66.19458917 0.0000000\n",
              "Low         0.47940204 0.007929193 60.46038368 0.0000000"
            ]
          },
          "metadata": {}
        }
      ]
    },
    {
      "cell_type": "code",
      "source": [
        "reg_tab <- coef(summary(reg))\n",
        "reg_tab[, \"Estimate\"] <- exp(coef(reg))\n",
        "reg_tab"
      ],
      "metadata": {
        "colab": {
          "base_uri": "https://localhost:8080/",
          "height": 161
        },
        "id": "K8ljj4-ArK2O",
        "outputId": "9c7536b9-b133-48e1-989f-3e4890ed7472"
      },
      "execution_count": 8,
      "outputs": [
        {
          "output_type": "display_data",
          "data": {
            "text/html": [
              "<table class=\"dataframe\">\n",
              "<caption>A matrix: 3 × 4 of type dbl</caption>\n",
              "<thead>\n",
              "\t<tr><th></th><th scope=col>Estimate</th><th scope=col>Std. Error</th><th scope=col>t value</th><th scope=col>Pr(&gt;|t|)</th></tr>\n",
              "</thead>\n",
              "<tbody>\n",
              "\t<tr><th scope=row>(Intercept)</th><td>1.042107</td><td>0.990072856</td><td> 0.04165808</td><td>0.9667729</td></tr>\n",
              "\t<tr><th scope=row>High</th><td>1.682727</td><td>0.007861909</td><td>66.19458917</td><td>0.0000000</td></tr>\n",
              "\t<tr><th scope=row>Low</th><td>1.615108</td><td>0.007929193</td><td>60.46038368</td><td>0.0000000</td></tr>\n",
              "</tbody>\n",
              "</table>\n"
            ],
            "text/markdown": "\nA matrix: 3 × 4 of type dbl\n\n| <!--/--> | Estimate | Std. Error | t value | Pr(&gt;|t|) |\n|---|---|---|---|---|\n| (Intercept) | 1.042107 | 0.990072856 |  0.04165808 | 0.9667729 |\n| High | 1.682727 | 0.007861909 | 66.19458917 | 0.0000000 |\n| Low | 1.615108 | 0.007929193 | 60.46038368 | 0.0000000 |\n\n",
            "text/latex": "A matrix: 3 × 4 of type dbl\n\\begin{tabular}{r|llll}\n  & Estimate & Std. Error & t value & Pr(>\\textbar{}t\\textbar{})\\\\\n\\hline\n\t(Intercept) & 1.042107 & 0.990072856 &  0.04165808 & 0.9667729\\\\\n\tHigh & 1.682727 & 0.007861909 & 66.19458917 & 0.0000000\\\\\n\tLow & 1.615108 & 0.007929193 & 60.46038368 & 0.0000000\\\\\n\\end{tabular}\n",
            "text/plain": [
              "            Estimate Std. Error  t value     Pr(>|t|) \n",
              "(Intercept) 1.042107 0.990072856  0.04165808 0.9667729\n",
              "High        1.682727 0.007861909 66.19458917 0.0000000\n",
              "Low         1.615108 0.007929193 60.46038368 0.0000000"
            ]
          },
          "metadata": {}
        }
      ]
    },
    {
      "cell_type": "code",
      "source": [
        "dev.off()"
      ],
      "metadata": {
        "colab": {
          "base_uri": "https://localhost:8080/",
          "height": 34
        },
        "id": "-2nDImfCrxWO",
        "outputId": "b8bab350-7be5-4b82-f84b-e25bd185cc2e"
      },
      "execution_count": 9,
      "outputs": [
        {
          "output_type": "display_data",
          "data": {
            "text/html": [
              "<strong>null device:</strong> 1"
            ],
            "text/markdown": "**null device:** 1",
            "text/latex": "\\textbf{null device:} 1",
            "text/plain": [
              "null device \n",
              "          1 "
            ]
          },
          "metadata": {}
        }
      ]
    }
  ]
}