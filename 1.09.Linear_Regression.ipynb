{
  "nbformat": 4,
  "nbformat_minor": 0,
  "metadata": {
    "colab": {
      "provenance": [],
      "authorship_tag": "ABX9TyOjXkX4zk8E+rMR/c4gBIbf",
      "include_colab_link": true
    },
    "kernelspec": {
      "name": "ir",
      "display_name": "R"
    },
    "language_info": {
      "name": "R"
    }
  },
  "cells": [
    {
      "cell_type": "markdown",
      "metadata": {
        "id": "view-in-github",
        "colab_type": "text"
      },
      "source": [
        "<a href=\"https://colab.research.google.com/github/RifatMuhtasim/R_Programming_Language/blob/main/1.09.Linear_Regression.ipynb\" target=\"_parent\"><img src=\"https://colab.research.google.com/assets/colab-badge.svg\" alt=\"Open In Colab\"/></a>"
      ]
    },
    {
      "cell_type": "markdown",
      "source": [
        "# Linear Regression Analysis"
      ],
      "metadata": {
        "id": "KU2KHUrBYMw-"
      }
    },
    {
      "cell_type": "code",
      "execution_count": 1,
      "metadata": {
        "colab": {
          "base_uri": "https://localhost:8080/",
          "height": 304
        },
        "id": "CpWDf4QYYBNP",
        "outputId": "99add4a3-e452-4537-ba4d-b27493255b3b"
      },
      "outputs": [
        {
          "output_type": "display_data",
          "data": {
            "text/html": [
              "<table class=\"dataframe\">\n",
              "<caption>A data.frame: 6 × 3</caption>\n",
              "<thead>\n",
              "\t<tr><th></th><th scope=col>Gender</th><th scope=col>Body.Temp</th><th scope=col>Heart.Rate</th></tr>\n",
              "\t<tr><th></th><th scope=col>&lt;chr&gt;</th><th scope=col>&lt;dbl&gt;</th><th scope=col>&lt;int&gt;</th></tr>\n",
              "</thead>\n",
              "<tbody>\n",
              "\t<tr><th scope=row>1</th><td>Male</td><td>96.3</td><td>70</td></tr>\n",
              "\t<tr><th scope=row>2</th><td>Male</td><td>96.7</td><td>71</td></tr>\n",
              "\t<tr><th scope=row>3</th><td>Male</td><td>96.9</td><td>74</td></tr>\n",
              "\t<tr><th scope=row>4</th><td>Male</td><td>97.0</td><td>80</td></tr>\n",
              "\t<tr><th scope=row>5</th><td>Male</td><td>97.1</td><td>73</td></tr>\n",
              "\t<tr><th scope=row>6</th><td>Male</td><td>97.1</td><td>75</td></tr>\n",
              "</tbody>\n",
              "</table>\n"
            ],
            "text/markdown": "\nA data.frame: 6 × 3\n\n| <!--/--> | Gender &lt;chr&gt; | Body.Temp &lt;dbl&gt; | Heart.Rate &lt;int&gt; |\n|---|---|---|---|\n| 1 | Male | 96.3 | 70 |\n| 2 | Male | 96.7 | 71 |\n| 3 | Male | 96.9 | 74 |\n| 4 | Male | 97.0 | 80 |\n| 5 | Male | 97.1 | 73 |\n| 6 | Male | 97.1 | 75 |\n\n",
            "text/latex": "A data.frame: 6 × 3\n\\begin{tabular}{r|lll}\n  & Gender & Body.Temp & Heart.Rate\\\\\n  & <chr> & <dbl> & <int>\\\\\n\\hline\n\t1 & Male & 96.3 & 70\\\\\n\t2 & Male & 96.7 & 71\\\\\n\t3 & Male & 96.9 & 74\\\\\n\t4 & Male & 97.0 & 80\\\\\n\t5 & Male & 97.1 & 73\\\\\n\t6 & Male & 97.1 & 75\\\\\n\\end{tabular}\n",
            "text/plain": [
              "  Gender Body.Temp Heart.Rate\n",
              "1 Male   96.3      70        \n",
              "2 Male   96.7      71        \n",
              "3 Male   96.9      74        \n",
              "4 Male   97.0      80        \n",
              "5 Male   97.1      73        \n",
              "6 Male   97.1      75        "
            ]
          },
          "metadata": {}
        },
        {
          "output_type": "display_data",
          "data": {
            "text/html": [
              "<style>\n",
              ".list-inline {list-style: none; margin:0; padding: 0}\n",
              ".list-inline>li {display: inline-block}\n",
              ".list-inline>li:not(:last-child)::after {content: \"\\00b7\"; padding: 0 .5ex}\n",
              "</style>\n",
              "<ol class=list-inline><li>130</li><li>3</li></ol>\n"
            ],
            "text/markdown": "1. 130\n2. 3\n\n\n",
            "text/latex": "\\begin{enumerate*}\n\\item 130\n\\item 3\n\\end{enumerate*}\n",
            "text/plain": [
              "[1] 130   3"
            ]
          },
          "metadata": {}
        }
      ],
      "source": [
        "df <- read.csv(\"https://raw.githubusercontent.com/UCLATALL/CZI-Stats-R-Data-Sets-/master/BodyTemp-%20Data.csv\")\n",
        "head(df)\n",
        "dim(df)"
      ]
    },
    {
      "cell_type": "markdown",
      "source": [
        "#### Question 1: what is the effect of heart rate on body temperature?"
      ],
      "metadata": {
        "id": "Z7VPgSCNY97Y"
      }
    },
    {
      "cell_type": "code",
      "source": [
        "tail(df)"
      ],
      "metadata": {
        "colab": {
          "base_uri": "https://localhost:8080/",
          "height": 286
        },
        "id": "rQAUlENceg3D",
        "outputId": "49af0ffe-9f9e-4d51-d4e7-a1fb9abd844e"
      },
      "execution_count": 2,
      "outputs": [
        {
          "output_type": "display_data",
          "data": {
            "text/html": [
              "<table class=\"dataframe\">\n",
              "<caption>A data.frame: 6 × 3</caption>\n",
              "<thead>\n",
              "\t<tr><th></th><th scope=col>Gender</th><th scope=col>Body.Temp</th><th scope=col>Heart.Rate</th></tr>\n",
              "\t<tr><th></th><th scope=col>&lt;chr&gt;</th><th scope=col>&lt;dbl&gt;</th><th scope=col>&lt;int&gt;</th></tr>\n",
              "</thead>\n",
              "<tbody>\n",
              "\t<tr><th scope=row>125</th><td>Female</td><td> 99.2</td><td>66</td></tr>\n",
              "\t<tr><th scope=row>126</th><td>Female</td><td> 99.3</td><td>68</td></tr>\n",
              "\t<tr><th scope=row>127</th><td>Female</td><td> 99.4</td><td>77</td></tr>\n",
              "\t<tr><th scope=row>128</th><td>Female</td><td> 99.9</td><td>79</td></tr>\n",
              "\t<tr><th scope=row>129</th><td>Female</td><td>100.0</td><td>78</td></tr>\n",
              "\t<tr><th scope=row>130</th><td>Female</td><td>100.8</td><td>77</td></tr>\n",
              "</tbody>\n",
              "</table>\n"
            ],
            "text/markdown": "\nA data.frame: 6 × 3\n\n| <!--/--> | Gender &lt;chr&gt; | Body.Temp &lt;dbl&gt; | Heart.Rate &lt;int&gt; |\n|---|---|---|---|\n| 125 | Female |  99.2 | 66 |\n| 126 | Female |  99.3 | 68 |\n| 127 | Female |  99.4 | 77 |\n| 128 | Female |  99.9 | 79 |\n| 129 | Female | 100.0 | 78 |\n| 130 | Female | 100.8 | 77 |\n\n",
            "text/latex": "A data.frame: 6 × 3\n\\begin{tabular}{r|lll}\n  & Gender & Body.Temp & Heart.Rate\\\\\n  & <chr> & <dbl> & <int>\\\\\n\\hline\n\t125 & Female &  99.2 & 66\\\\\n\t126 & Female &  99.3 & 68\\\\\n\t127 & Female &  99.4 & 77\\\\\n\t128 & Female &  99.9 & 79\\\\\n\t129 & Female & 100.0 & 78\\\\\n\t130 & Female & 100.8 & 77\\\\\n\\end{tabular}\n",
            "text/plain": [
              "    Gender Body.Temp Heart.Rate\n",
              "125 Female  99.2     66        \n",
              "126 Female  99.3     68        \n",
              "127 Female  99.4     77        \n",
              "128 Female  99.9     79        \n",
              "129 Female 100.0     78        \n",
              "130 Female 100.8     77        "
            ]
          },
          "metadata": {}
        }
      ]
    },
    {
      "cell_type": "code",
      "source": [
        "mymod <- lm(Body.Temp ~ Heart.Rate, data=df)\n",
        "mymod"
      ],
      "metadata": {
        "colab": {
          "base_uri": "https://localhost:8080/",
          "height": 139
        },
        "id": "Tv69ReHSYy_k",
        "outputId": "4f2687b7-40de-454f-e345-f275e6565528"
      },
      "execution_count": 3,
      "outputs": [
        {
          "output_type": "display_data",
          "data": {
            "text/plain": [
              "\n",
              "Call:\n",
              "lm(formula = Body.Temp ~ Heart.Rate, data = df)\n",
              "\n",
              "Coefficients:\n",
              "(Intercept)   Heart.Rate  \n",
              "   96.30675      0.02633  \n"
            ]
          },
          "metadata": {}
        }
      ]
    },
    {
      "cell_type": "code",
      "source": [
        "summary(mymod)"
      ],
      "metadata": {
        "colab": {
          "base_uri": "https://localhost:8080/",
          "height": 329
        },
        "id": "Qmkg_hjmZLpw",
        "outputId": "68d13f26-f82d-424b-c78e-6f08ad202006"
      },
      "execution_count": 4,
      "outputs": [
        {
          "output_type": "display_data",
          "data": {
            "text/plain": [
              "\n",
              "Call:\n",
              "lm(formula = Body.Temp ~ Heart.Rate, data = df)\n",
              "\n",
              "Residuals:\n",
              "     Min       1Q   Median       3Q      Max \n",
              "-1.85017 -0.39999  0.01033  0.43915  2.46549 \n",
              "\n",
              "Coefficients:\n",
              "             Estimate Std. Error t value Pr(>|t|)    \n",
              "(Intercept) 96.306754   0.657703 146.429  < 2e-16 ***\n",
              "Heart.Rate   0.026335   0.008876   2.967  0.00359 ** \n",
              "---\n",
              "Signif. codes:  0 ‘***’ 0.001 ‘**’ 0.01 ‘*’ 0.05 ‘.’ 0.1 ‘ ’ 1\n",
              "\n",
              "Residual standard error: 0.712 on 128 degrees of freedom\n",
              "Multiple R-squared:  0.06434,\tAdjusted R-squared:  0.05703 \n",
              "F-statistic: 8.802 on 1 and 128 DF,  p-value: 0.003591\n"
            ]
          },
          "metadata": {}
        }
      ]
    },
    {
      "cell_type": "code",
      "source": [
        "confint(mymod)"
      ],
      "metadata": {
        "colab": {
          "base_uri": "https://localhost:8080/",
          "height": 129
        },
        "id": "X4RKeoUjZQfI",
        "outputId": "ca9802fc-b7f0-43d0-af0e-0bb5d287be52"
      },
      "execution_count": 5,
      "outputs": [
        {
          "output_type": "display_data",
          "data": {
            "text/html": [
              "<table class=\"dataframe\">\n",
              "<caption>A matrix: 2 × 2 of type dbl</caption>\n",
              "<thead>\n",
              "\t<tr><th></th><th scope=col>2.5 %</th><th scope=col>97.5 %</th></tr>\n",
              "</thead>\n",
              "<tbody>\n",
              "\t<tr><th scope=row>(Intercept)</th><td>95.005375843</td><td>97.6081321</td></tr>\n",
              "\t<tr><th scope=row>Heart.Rate</th><td> 0.008771201</td><td> 0.0438979</td></tr>\n",
              "</tbody>\n",
              "</table>\n"
            ],
            "text/markdown": "\nA matrix: 2 × 2 of type dbl\n\n| <!--/--> | 2.5 % | 97.5 % |\n|---|---|---|\n| (Intercept) | 95.005375843 | 97.6081321 |\n| Heart.Rate |  0.008771201 |  0.0438979 |\n\n",
            "text/latex": "A matrix: 2 × 2 of type dbl\n\\begin{tabular}{r|ll}\n  & 2.5 \\% & 97.5 \\%\\\\\n\\hline\n\t(Intercept) & 95.005375843 & 97.6081321\\\\\n\tHeart.Rate &  0.008771201 &  0.0438979\\\\\n\\end{tabular}\n",
            "text/plain": [
              "            2.5 %        97.5 %    \n",
              "(Intercept) 95.005375843 97.6081321\n",
              "Heart.Rate   0.008771201  0.0438979"
            ]
          },
          "metadata": {}
        }
      ]
    },
    {
      "cell_type": "code",
      "source": [
        "# Correlation between Body Temp and Heart Rate\n",
        "cor(df$Body.Temp, df$Heart.Rate)\n",
        "plot(df$Heart.Rate, df$Body.Temp)"
      ],
      "metadata": {
        "colab": {
          "base_uri": "https://localhost:8080/",
          "height": 454
        },
        "id": "ZdekubHeZWyu",
        "outputId": "73e42ab5-7b3c-4e35-f8e7-012b354c12bc"
      },
      "execution_count": 6,
      "outputs": [
        {
          "output_type": "display_data",
          "data": {
            "text/html": [
              "0.253656402720764"
            ],
            "text/markdown": "0.253656402720764",
            "text/latex": "0.253656402720764",
            "text/plain": [
              "[1] 0.2536564"
            ]
          },
          "metadata": {}
        },
        {
          "output_type": "display_data",
          "data": {
            "text/plain": [
              "plot without title"
            ],
            "image/png": "[encoded data removed]"
          },
          "metadata": {
            "image/png": {
              "width": 420,
              "height": 420
            }
          }
        }
      ]
    },
    {
      "cell_type": "code",
      "source": [
        "# Use function methods to get more information about the fit\n",
        "confint(mymod)"
      ],
      "metadata": {
        "colab": {
          "base_uri": "https://localhost:8080/",
          "height": 129
        },
        "id": "QunHupCsgfbM",
        "outputId": "510e6e7d-0726-4e2d-b7ac-70e5405918b9"
      },
      "execution_count": 7,
      "outputs": [
        {
          "output_type": "display_data",
          "data": {
            "text/html": [
              "<table class=\"dataframe\">\n",
              "<caption>A matrix: 2 × 2 of type dbl</caption>\n",
              "<thead>\n",
              "\t<tr><th></th><th scope=col>2.5 %</th><th scope=col>97.5 %</th></tr>\n",
              "</thead>\n",
              "<tbody>\n",
              "\t<tr><th scope=row>(Intercept)</th><td>95.005375843</td><td>97.6081321</td></tr>\n",
              "\t<tr><th scope=row>Heart.Rate</th><td> 0.008771201</td><td> 0.0438979</td></tr>\n",
              "</tbody>\n",
              "</table>\n"
            ],
            "text/markdown": "\nA matrix: 2 × 2 of type dbl\n\n| <!--/--> | 2.5 % | 97.5 % |\n|---|---|---|\n| (Intercept) | 95.005375843 | 97.6081321 |\n| Heart.Rate |  0.008771201 |  0.0438979 |\n\n",
            "text/latex": "A matrix: 2 × 2 of type dbl\n\\begin{tabular}{r|ll}\n  & 2.5 \\% & 97.5 \\%\\\\\n\\hline\n\t(Intercept) & 95.005375843 & 97.6081321\\\\\n\tHeart.Rate &  0.008771201 &  0.0438979\\\\\n\\end{tabular}\n",
            "text/plain": [
              "            2.5 %        97.5 %    \n",
              "(Intercept) 95.005375843 97.6081321\n",
              "Heart.Rate   0.008771201  0.0438979"
            ]
          },
          "metadata": {}
        }
      ]
    },
    {
      "cell_type": "code",
      "source": [
        "hist(residuals(mymod))"
      ],
      "metadata": {
        "colab": {
          "base_uri": "https://localhost:8080/",
          "height": 437
        },
        "id": "luAHCX5pg1xA",
        "outputId": "44e7a886-614f-48ee-92a6-d5db0d26e988"
      },
      "execution_count": 8,
      "outputs": [
        {
          "output_type": "display_data",
          "data": {
            "text/plain": [
              "Plot with title “Histogram of residuals(mymod)”"
            ],
            "image/png": "[encoded data removed]"
          },
          "metadata": {
            "image/png": {
              "width": 420,
              "height": 420
            }
          }
        }
      ]
    },
    {
      "cell_type": "code",
      "source": [
        "anova(mymod)"
      ],
      "metadata": {
        "colab": {
          "base_uri": "https://localhost:8080/",
          "height": 161
        },
        "id": "TCoWQ-mohUN4",
        "outputId": "671e6026-5cea-4fc2-e6ed-b98124e6ead3"
      },
      "execution_count": 9,
      "outputs": [
        {
          "output_type": "display_data",
          "data": {
            "text/html": [
              "<table class=\"dataframe\">\n",
              "<caption>A anova: 2 × 5</caption>\n",
              "<thead>\n",
              "\t<tr><th></th><th scope=col>Df</th><th scope=col>Sum Sq</th><th scope=col>Mean Sq</th><th scope=col>F value</th><th scope=col>Pr(&gt;F)</th></tr>\n",
              "\t<tr><th></th><th scope=col>&lt;int&gt;</th><th scope=col>&lt;dbl&gt;</th><th scope=col>&lt;dbl&gt;</th><th scope=col>&lt;dbl&gt;</th><th scope=col>&lt;dbl&gt;</th></tr>\n",
              "</thead>\n",
              "<tbody>\n",
              "\t<tr><th scope=row>Heart.Rate</th><td>  1</td><td> 4.461761</td><td>4.4617613</td><td>8.802059</td><td>0.003591489</td></tr>\n",
              "\t<tr><th scope=row>Residuals</th><td>128</td><td>64.883162</td><td>0.5068997</td><td>      NA</td><td>         NA</td></tr>\n",
              "</tbody>\n",
              "</table>\n"
            ],
            "text/markdown": "\nA anova: 2 × 5\n\n| <!--/--> | Df &lt;int&gt; | Sum Sq &lt;dbl&gt; | Mean Sq &lt;dbl&gt; | F value &lt;dbl&gt; | Pr(&gt;F) &lt;dbl&gt; |\n|---|---|---|---|---|---|\n| Heart.Rate |   1 |  4.461761 | 4.4617613 | 8.802059 | 0.003591489 |\n| Residuals | 128 | 64.883162 | 0.5068997 |       NA |          NA |\n\n",
            "text/latex": "A anova: 2 × 5\n\\begin{tabular}{r|lllll}\n  & Df & Sum Sq & Mean Sq & F value & Pr(>F)\\\\\n  & <int> & <dbl> & <dbl> & <dbl> & <dbl>\\\\\n\\hline\n\tHeart.Rate &   1 &  4.461761 & 4.4617613 & 8.802059 & 0.003591489\\\\\n\tResiduals & 128 & 64.883162 & 0.5068997 &       NA &          NA\\\\\n\\end{tabular}\n",
            "text/plain": [
              "           Df  Sum Sq    Mean Sq   F value  Pr(>F)     \n",
              "Heart.Rate   1  4.461761 4.4617613 8.802059 0.003591489\n",
              "Residuals  128 64.883162 0.5068997       NA          NA"
            ]
          },
          "metadata": {}
        }
      ]
    },
    {
      "cell_type": "markdown",
      "source": [
        "## Bodyfat Data"
      ],
      "metadata": {
        "id": "VFVd_Gh2iKP6"
      }
    },
    {
      "cell_type": "code",
      "source": [
        "install.packages(\"mfp\", dependencies = TRUE)\n",
        "library(mfp)\n",
        "data(\"bodyfat\")\n",
        "head(bodyfat)"
      ],
      "metadata": {
        "colab": {
          "base_uri": "https://localhost:8080/",
          "height": 425
        },
        "id": "qUS8-zUSiJOA",
        "outputId": "2e0ebeda-fc11-47a9-fd6d-147404a645e8"
      },
      "execution_count": 10,
      "outputs": [
        {
          "output_type": "stream",
          "name": "stderr",
          "text": [
            "Installing package into ‘/usr/local/lib/R/site-library’\n",
            "(as ‘lib’ is unspecified)\n",
            "\n",
            "also installing the dependency ‘numDeriv’\n",
            "\n",
            "\n",
            "Loading required package: survival\n",
            "\n"
          ]
        },
        {
          "output_type": "display_data",
          "data": {
            "text/html": [
              "<table class=\"dataframe\">\n",
              "<caption>A data.frame: 6 × 17</caption>\n",
              "<thead>\n",
              "\t<tr><th></th><th scope=col>case</th><th scope=col>brozek</th><th scope=col>siri</th><th scope=col>density</th><th scope=col>age</th><th scope=col>weight</th><th scope=col>height</th><th scope=col>neck</th><th scope=col>chest</th><th scope=col>abdomen</th><th scope=col>hip</th><th scope=col>thigh</th><th scope=col>knee</th><th scope=col>ankle</th><th scope=col>biceps</th><th scope=col>forearm</th><th scope=col>wrist</th></tr>\n",
              "\t<tr><th></th><th scope=col>&lt;int&gt;</th><th scope=col>&lt;dbl&gt;</th><th scope=col>&lt;dbl&gt;</th><th scope=col>&lt;dbl&gt;</th><th scope=col>&lt;int&gt;</th><th scope=col>&lt;dbl&gt;</th><th scope=col>&lt;dbl&gt;</th><th scope=col>&lt;dbl&gt;</th><th scope=col>&lt;dbl&gt;</th><th scope=col>&lt;dbl&gt;</th><th scope=col>&lt;dbl&gt;</th><th scope=col>&lt;dbl&gt;</th><th scope=col>&lt;dbl&gt;</th><th scope=col>&lt;dbl&gt;</th><th scope=col>&lt;dbl&gt;</th><th scope=col>&lt;dbl&gt;</th><th scope=col>&lt;dbl&gt;</th></tr>\n",
              "</thead>\n",
              "<tbody>\n",
              "\t<tr><th scope=row>1</th><td>1</td><td>12.6</td><td>12.3</td><td>1.0708</td><td>23</td><td>154.25</td><td>67.75</td><td>36.2</td><td> 93.1</td><td> 85.2</td><td> 94.5</td><td>59.0</td><td>37.3</td><td>21.9</td><td>32.0</td><td>27.4</td><td>17.1</td></tr>\n",
              "\t<tr><th scope=row>2</th><td>2</td><td> 6.9</td><td> 6.1</td><td>1.0853</td><td>22</td><td>173.25</td><td>72.25</td><td>38.5</td><td> 93.6</td><td> 83.0</td><td> 98.7</td><td>58.7</td><td>37.3</td><td>23.4</td><td>30.5</td><td>28.9</td><td>18.2</td></tr>\n",
              "\t<tr><th scope=row>3</th><td>3</td><td>24.6</td><td>25.3</td><td>1.0414</td><td>22</td><td>154.00</td><td>66.25</td><td>34.0</td><td> 95.8</td><td> 87.9</td><td> 99.2</td><td>59.6</td><td>38.9</td><td>24.0</td><td>28.8</td><td>25.2</td><td>16.6</td></tr>\n",
              "\t<tr><th scope=row>4</th><td>4</td><td>10.9</td><td>10.4</td><td>1.0751</td><td>26</td><td>184.75</td><td>72.25</td><td>37.4</td><td>101.8</td><td> 86.4</td><td>101.2</td><td>60.1</td><td>37.3</td><td>22.8</td><td>32.4</td><td>29.4</td><td>18.2</td></tr>\n",
              "\t<tr><th scope=row>5</th><td>5</td><td>27.8</td><td>28.7</td><td>1.0340</td><td>24</td><td>184.25</td><td>71.25</td><td>34.4</td><td> 97.3</td><td>100.0</td><td>101.9</td><td>63.2</td><td>42.2</td><td>24.0</td><td>32.2</td><td>27.7</td><td>17.7</td></tr>\n",
              "\t<tr><th scope=row>6</th><td>6</td><td>20.6</td><td>20.9</td><td>1.0502</td><td>24</td><td>210.25</td><td>74.75</td><td>39.0</td><td>104.5</td><td> 94.4</td><td>107.8</td><td>66.0</td><td>42.0</td><td>25.6</td><td>35.7</td><td>30.6</td><td>18.8</td></tr>\n",
              "</tbody>\n",
              "</table>\n"
            ],
            "text/markdown": "\nA data.frame: 6 × 17\n\n| <!--/--> | case &lt;int&gt; | brozek &lt;dbl&gt; | siri &lt;dbl&gt; | density &lt;dbl&gt; | age &lt;int&gt; | weight &lt;dbl&gt; | height &lt;dbl&gt; | neck &lt;dbl&gt; | chest &lt;dbl&gt; | abdomen &lt;dbl&gt; | hip &lt;dbl&gt; | thigh &lt;dbl&gt; | knee &lt;dbl&gt; | ankle &lt;dbl&gt; | biceps &lt;dbl&gt; | forearm &lt;dbl&gt; | wrist &lt;dbl&gt; |\n|---|---|---|---|---|---|---|---|---|---|---|---|---|---|---|---|---|---|\n| 1 | 1 | 12.6 | 12.3 | 1.0708 | 23 | 154.25 | 67.75 | 36.2 |  93.1 |  85.2 |  94.5 | 59.0 | 37.3 | 21.9 | 32.0 | 27.4 | 17.1 |\n| 2 | 2 |  6.9 |  6.1 | 1.0853 | 22 | 173.25 | 72.25 | 38.5 |  93.6 |  83.0 |  98.7 | 58.7 | 37.3 | 23.4 | 30.5 | 28.9 | 18.2 |\n| 3 | 3 | 24.6 | 25.3 | 1.0414 | 22 | 154.00 | 66.25 | 34.0 |  95.8 |  87.9 |  99.2 | 59.6 | 38.9 | 24.0 | 28.8 | 25.2 | 16.6 |\n| 4 | 4 | 10.9 | 10.4 | 1.0751 | 26 | 184.75 | 72.25 | 37.4 | 101.8 |  86.4 | 101.2 | 60.1 | 37.3 | 22.8 | 32.4 | 29.4 | 18.2 |\n| 5 | 5 | 27.8 | 28.7 | 1.0340 | 24 | 184.25 | 71.25 | 34.4 |  97.3 | 100.0 | 101.9 | 63.2 | 42.2 | 24.0 | 32.2 | 27.7 | 17.7 |\n| 6 | 6 | 20.6 | 20.9 | 1.0502 | 24 | 210.25 | 74.75 | 39.0 | 104.5 |  94.4 | 107.8 | 66.0 | 42.0 | 25.6 | 35.7 | 30.6 | 18.8 |\n\n",
            "text/latex": "A data.frame: 6 × 17\n\\begin{tabular}{r|lllllllllllllllll}\n  & case & brozek & siri & density & age & weight & height & neck & chest & abdomen & hip & thigh & knee & ankle & biceps & forearm & wrist\\\\\n  & <int> & <dbl> & <dbl> & <dbl> & <int> & <dbl> & <dbl> & <dbl> & <dbl> & <dbl> & <dbl> & <dbl> & <dbl> & <dbl> & <dbl> & <dbl> & <dbl>\\\\\n\\hline\n\t1 & 1 & 12.6 & 12.3 & 1.0708 & 23 & 154.25 & 67.75 & 36.2 &  93.1 &  85.2 &  94.5 & 59.0 & 37.3 & 21.9 & 32.0 & 27.4 & 17.1\\\\\n\t2 & 2 &  6.9 &  6.1 & 1.0853 & 22 & 173.25 & 72.25 & 38.5 &  93.6 &  83.0 &  98.7 & 58.7 & 37.3 & 23.4 & 30.5 & 28.9 & 18.2\\\\\n\t3 & 3 & 24.6 & 25.3 & 1.0414 & 22 & 154.00 & 66.25 & 34.0 &  95.8 &  87.9 &  99.2 & 59.6 & 38.9 & 24.0 & 28.8 & 25.2 & 16.6\\\\\n\t4 & 4 & 10.9 & 10.4 & 1.0751 & 26 & 184.75 & 72.25 & 37.4 & 101.8 &  86.4 & 101.2 & 60.1 & 37.3 & 22.8 & 32.4 & 29.4 & 18.2\\\\\n\t5 & 5 & 27.8 & 28.7 & 1.0340 & 24 & 184.25 & 71.25 & 34.4 &  97.3 & 100.0 & 101.9 & 63.2 & 42.2 & 24.0 & 32.2 & 27.7 & 17.7\\\\\n\t6 & 6 & 20.6 & 20.9 & 1.0502 & 24 & 210.25 & 74.75 & 39.0 & 104.5 &  94.4 & 107.8 & 66.0 & 42.0 & 25.6 & 35.7 & 30.6 & 18.8\\\\\n\\end{tabular}\n",
            "text/plain": [
              "  case brozek siri density age weight height neck chest abdomen hip   thigh\n",
              "1 1    12.6   12.3 1.0708  23  154.25 67.75  36.2  93.1  85.2    94.5 59.0 \n",
              "2 2     6.9    6.1 1.0853  22  173.25 72.25  38.5  93.6  83.0    98.7 58.7 \n",
              "3 3    24.6   25.3 1.0414  22  154.00 66.25  34.0  95.8  87.9    99.2 59.6 \n",
              "4 4    10.9   10.4 1.0751  26  184.75 72.25  37.4 101.8  86.4   101.2 60.1 \n",
              "5 5    27.8   28.7 1.0340  24  184.25 71.25  34.4  97.3 100.0   101.9 63.2 \n",
              "6 6    20.6   20.9 1.0502  24  210.25 74.75  39.0 104.5  94.4   107.8 66.0 \n",
              "  knee ankle biceps forearm wrist\n",
              "1 37.3 21.9  32.0   27.4    17.1 \n",
              "2 37.3 23.4  30.5   28.9    18.2 \n",
              "3 38.9 24.0  28.8   25.2    16.6 \n",
              "4 37.3 22.8  32.4   29.4    18.2 \n",
              "5 42.2 24.0  32.2   27.7    17.7 \n",
              "6 42.0 25.6  35.7   30.6    18.8 "
            ]
          },
          "metadata": {}
        }
      ]
    },
    {
      "cell_type": "code",
      "source": [
        "tail(bodyfat, 8)"
      ],
      "metadata": {
        "colab": {
          "base_uri": "https://localhost:8080/",
          "height": 349
        },
        "id": "DVbDsdgAhbWY",
        "outputId": "8788cc7d-f0b4-45ba-92b8-bdcb83eb47db"
      },
      "execution_count": 11,
      "outputs": [
        {
          "output_type": "display_data",
          "data": {
            "text/html": [
              "<table class=\"dataframe\">\n",
              "<caption>A data.frame: 8 × 17</caption>\n",
              "<thead>\n",
              "\t<tr><th></th><th scope=col>case</th><th scope=col>brozek</th><th scope=col>siri</th><th scope=col>density</th><th scope=col>age</th><th scope=col>weight</th><th scope=col>height</th><th scope=col>neck</th><th scope=col>chest</th><th scope=col>abdomen</th><th scope=col>hip</th><th scope=col>thigh</th><th scope=col>knee</th><th scope=col>ankle</th><th scope=col>biceps</th><th scope=col>forearm</th><th scope=col>wrist</th></tr>\n",
              "\t<tr><th></th><th scope=col>&lt;int&gt;</th><th scope=col>&lt;dbl&gt;</th><th scope=col>&lt;dbl&gt;</th><th scope=col>&lt;dbl&gt;</th><th scope=col>&lt;int&gt;</th><th scope=col>&lt;dbl&gt;</th><th scope=col>&lt;dbl&gt;</th><th scope=col>&lt;dbl&gt;</th><th scope=col>&lt;dbl&gt;</th><th scope=col>&lt;dbl&gt;</th><th scope=col>&lt;dbl&gt;</th><th scope=col>&lt;dbl&gt;</th><th scope=col>&lt;dbl&gt;</th><th scope=col>&lt;dbl&gt;</th><th scope=col>&lt;dbl&gt;</th><th scope=col>&lt;dbl&gt;</th><th scope=col>&lt;dbl&gt;</th></tr>\n",
              "</thead>\n",
              "<tbody>\n",
              "\t<tr><th scope=row>245</th><td>245</td><td>28.1</td><td>29.0</td><td>1.0334</td><td>67</td><td>199.50</td><td>68.50</td><td>40.7</td><td>118.3</td><td>106.1</td><td>101.6</td><td>58.2</td><td>38.8</td><td>24.1</td><td>32.1</td><td>29.3</td><td>18.5</td></tr>\n",
              "\t<tr><th scope=row>246</th><td>246</td><td>15.3</td><td>15.2</td><td>1.0641</td><td>68</td><td>155.50</td><td>69.25</td><td>36.3</td><td> 97.4</td><td> 84.3</td><td> 94.4</td><td>54.3</td><td>37.5</td><td>22.6</td><td>29.2</td><td>27.3</td><td>18.5</td></tr>\n",
              "\t<tr><th scope=row>247</th><td>247</td><td>29.1</td><td>30.2</td><td>1.0308</td><td>69</td><td>215.50</td><td>70.50</td><td>40.8</td><td>113.7</td><td>107.6</td><td>110.0</td><td>63.3</td><td>44.0</td><td>22.6</td><td>37.5</td><td>32.6</td><td>18.8</td></tr>\n",
              "\t<tr><th scope=row>248</th><td>248</td><td>11.5</td><td>11.0</td><td>1.0736</td><td>70</td><td>134.25</td><td>67.00</td><td>34.9</td><td> 89.2</td><td> 83.6</td><td> 88.8</td><td>49.6</td><td>34.8</td><td>21.5</td><td>25.6</td><td>25.7</td><td>18.5</td></tr>\n",
              "\t<tr><th scope=row>249</th><td>249</td><td>32.3</td><td>33.6</td><td>1.0236</td><td>72</td><td>201.00</td><td>69.75</td><td>40.9</td><td>108.5</td><td>105.0</td><td>104.5</td><td>59.6</td><td>40.8</td><td>23.2</td><td>35.2</td><td>28.6</td><td>20.1</td></tr>\n",
              "\t<tr><th scope=row>250</th><td>250</td><td>28.3</td><td>29.3</td><td>1.0328</td><td>72</td><td>186.75</td><td>66.00</td><td>38.9</td><td>111.1</td><td>111.5</td><td>101.7</td><td>60.3</td><td>37.3</td><td>21.5</td><td>31.3</td><td>27.2</td><td>18.0</td></tr>\n",
              "\t<tr><th scope=row>251</th><td>251</td><td>25.3</td><td>26.0</td><td>1.0399</td><td>72</td><td>190.75</td><td>70.50</td><td>38.9</td><td>108.3</td><td>101.3</td><td> 97.8</td><td>56.0</td><td>41.6</td><td>22.7</td><td>30.5</td><td>29.4</td><td>19.8</td></tr>\n",
              "\t<tr><th scope=row>252</th><td>252</td><td>30.7</td><td>31.9</td><td>1.0271</td><td>74</td><td>207.50</td><td>70.00</td><td>40.8</td><td>112.4</td><td>108.5</td><td>107.1</td><td>59.3</td><td>42.2</td><td>24.6</td><td>33.7</td><td>30.0</td><td>20.9</td></tr>\n",
              "</tbody>\n",
              "</table>\n"
            ],
            "text/markdown": "\nA data.frame: 8 × 17\n\n| <!--/--> | case &lt;int&gt; | brozek &lt;dbl&gt; | siri &lt;dbl&gt; | density &lt;dbl&gt; | age &lt;int&gt; | weight &lt;dbl&gt; | height &lt;dbl&gt; | neck &lt;dbl&gt; | chest &lt;dbl&gt; | abdomen &lt;dbl&gt; | hip &lt;dbl&gt; | thigh &lt;dbl&gt; | knee &lt;dbl&gt; | ankle &lt;dbl&gt; | biceps &lt;dbl&gt; | forearm &lt;dbl&gt; | wrist &lt;dbl&gt; |\n|---|---|---|---|---|---|---|---|---|---|---|---|---|---|---|---|---|---|\n| 245 | 245 | 28.1 | 29.0 | 1.0334 | 67 | 199.50 | 68.50 | 40.7 | 118.3 | 106.1 | 101.6 | 58.2 | 38.8 | 24.1 | 32.1 | 29.3 | 18.5 |\n| 246 | 246 | 15.3 | 15.2 | 1.0641 | 68 | 155.50 | 69.25 | 36.3 |  97.4 |  84.3 |  94.4 | 54.3 | 37.5 | 22.6 | 29.2 | 27.3 | 18.5 |\n| 247 | 247 | 29.1 | 30.2 | 1.0308 | 69 | 215.50 | 70.50 | 40.8 | 113.7 | 107.6 | 110.0 | 63.3 | 44.0 | 22.6 | 37.5 | 32.6 | 18.8 |\n| 248 | 248 | 11.5 | 11.0 | 1.0736 | 70 | 134.25 | 67.00 | 34.9 |  89.2 |  83.6 |  88.8 | 49.6 | 34.8 | 21.5 | 25.6 | 25.7 | 18.5 |\n| 249 | 249 | 32.3 | 33.6 | 1.0236 | 72 | 201.00 | 69.75 | 40.9 | 108.5 | 105.0 | 104.5 | 59.6 | 40.8 | 23.2 | 35.2 | 28.6 | 20.1 |\n| 250 | 250 | 28.3 | 29.3 | 1.0328 | 72 | 186.75 | 66.00 | 38.9 | 111.1 | 111.5 | 101.7 | 60.3 | 37.3 | 21.5 | 31.3 | 27.2 | 18.0 |\n| 251 | 251 | 25.3 | 26.0 | 1.0399 | 72 | 190.75 | 70.50 | 38.9 | 108.3 | 101.3 |  97.8 | 56.0 | 41.6 | 22.7 | 30.5 | 29.4 | 19.8 |\n| 252 | 252 | 30.7 | 31.9 | 1.0271 | 74 | 207.50 | 70.00 | 40.8 | 112.4 | 108.5 | 107.1 | 59.3 | 42.2 | 24.6 | 33.7 | 30.0 | 20.9 |\n\n",
            "text/latex": "A data.frame: 8 × 17\n\\begin{tabular}{r|lllllllllllllllll}\n  & case & brozek & siri & density & age & weight & height & neck & chest & abdomen & hip & thigh & knee & ankle & biceps & forearm & wrist\\\\\n  & <int> & <dbl> & <dbl> & <dbl> & <int> & <dbl> & <dbl> & <dbl> & <dbl> & <dbl> & <dbl> & <dbl> & <dbl> & <dbl> & <dbl> & <dbl> & <dbl>\\\\\n\\hline\n\t245 & 245 & 28.1 & 29.0 & 1.0334 & 67 & 199.50 & 68.50 & 40.7 & 118.3 & 106.1 & 101.6 & 58.2 & 38.8 & 24.1 & 32.1 & 29.3 & 18.5\\\\\n\t246 & 246 & 15.3 & 15.2 & 1.0641 & 68 & 155.50 & 69.25 & 36.3 &  97.4 &  84.3 &  94.4 & 54.3 & 37.5 & 22.6 & 29.2 & 27.3 & 18.5\\\\\n\t247 & 247 & 29.1 & 30.2 & 1.0308 & 69 & 215.50 & 70.50 & 40.8 & 113.7 & 107.6 & 110.0 & 63.3 & 44.0 & 22.6 & 37.5 & 32.6 & 18.8\\\\\n\t248 & 248 & 11.5 & 11.0 & 1.0736 & 70 & 134.25 & 67.00 & 34.9 &  89.2 &  83.6 &  88.8 & 49.6 & 34.8 & 21.5 & 25.6 & 25.7 & 18.5\\\\\n\t249 & 249 & 32.3 & 33.6 & 1.0236 & 72 & 201.00 & 69.75 & 40.9 & 108.5 & 105.0 & 104.5 & 59.6 & 40.8 & 23.2 & 35.2 & 28.6 & 20.1\\\\\n\t250 & 250 & 28.3 & 29.3 & 1.0328 & 72 & 186.75 & 66.00 & 38.9 & 111.1 & 111.5 & 101.7 & 60.3 & 37.3 & 21.5 & 31.3 & 27.2 & 18.0\\\\\n\t251 & 251 & 25.3 & 26.0 & 1.0399 & 72 & 190.75 & 70.50 & 38.9 & 108.3 & 101.3 &  97.8 & 56.0 & 41.6 & 22.7 & 30.5 & 29.4 & 19.8\\\\\n\t252 & 252 & 30.7 & 31.9 & 1.0271 & 74 & 207.50 & 70.00 & 40.8 & 112.4 & 108.5 & 107.1 & 59.3 & 42.2 & 24.6 & 33.7 & 30.0 & 20.9\\\\\n\\end{tabular}\n",
            "text/plain": [
              "    case brozek siri density age weight height neck chest abdomen hip   thigh\n",
              "245 245  28.1   29.0 1.0334  67  199.50 68.50  40.7 118.3 106.1   101.6 58.2 \n",
              "246 246  15.3   15.2 1.0641  68  155.50 69.25  36.3  97.4  84.3    94.4 54.3 \n",
              "247 247  29.1   30.2 1.0308  69  215.50 70.50  40.8 113.7 107.6   110.0 63.3 \n",
              "248 248  11.5   11.0 1.0736  70  134.25 67.00  34.9  89.2  83.6    88.8 49.6 \n",
              "249 249  32.3   33.6 1.0236  72  201.00 69.75  40.9 108.5 105.0   104.5 59.6 \n",
              "250 250  28.3   29.3 1.0328  72  186.75 66.00  38.9 111.1 111.5   101.7 60.3 \n",
              "251 251  25.3   26.0 1.0399  72  190.75 70.50  38.9 108.3 101.3    97.8 56.0 \n",
              "252 252  30.7   31.9 1.0271  74  207.50 70.00  40.8 112.4 108.5   107.1 59.3 \n",
              "    knee ankle biceps forearm wrist\n",
              "245 38.8 24.1  32.1   29.3    18.5 \n",
              "246 37.5 22.6  29.2   27.3    18.5 \n",
              "247 44.0 22.6  37.5   32.6    18.8 \n",
              "248 34.8 21.5  25.6   25.7    18.5 \n",
              "249 40.8 23.2  35.2   28.6    20.1 \n",
              "250 37.3 21.5  31.3   27.2    18.0 \n",
              "251 41.6 22.7  30.5   29.4    19.8 \n",
              "252 42.2 24.6  33.7   30.0    20.9 "
            ]
          },
          "metadata": {}
        }
      ]
    },
    {
      "cell_type": "code",
      "source": [
        "height_weight <- subset(bodyfat, select=c(\"height\", \"weight\"))\n",
        "# head(height_weight)\n",
        "summary(height_weight)"
      ],
      "metadata": {
        "colab": {
          "base_uri": "https://localhost:8080/",
          "height": 139
        },
        "id": "rC1RQhztirgh",
        "outputId": "73cc090a-437c-4391-9620-1883cb4b5060"
      },
      "execution_count": 12,
      "outputs": [
        {
          "output_type": "display_data",
          "data": {
            "text/plain": [
              "     height          weight     \n",
              " Min.   :29.50   Min.   :118.5  \n",
              " 1st Qu.:68.25   1st Qu.:159.0  \n",
              " Median :70.00   Median :176.5  \n",
              " Mean   :70.15   Mean   :178.9  \n",
              " 3rd Qu.:72.25   3rd Qu.:197.0  \n",
              " Max.   :77.75   Max.   :363.1  "
            ]
          },
          "metadata": {}
        }
      ]
    },
    {
      "cell_type": "code",
      "source": [
        "# Correlation\n",
        "cor(height_weight)"
      ],
      "metadata": {
        "colab": {
          "base_uri": "https://localhost:8080/",
          "height": 129
        },
        "id": "DOaryUjdjDpV",
        "outputId": "7697698e-05df-410f-a84c-a6c2cdce10a2"
      },
      "execution_count": 13,
      "outputs": [
        {
          "output_type": "display_data",
          "data": {
            "text/html": [
              "<table class=\"dataframe\">\n",
              "<caption>A matrix: 2 × 2 of type dbl</caption>\n",
              "<thead>\n",
              "\t<tr><th></th><th scope=col>height</th><th scope=col>weight</th></tr>\n",
              "</thead>\n",
              "<tbody>\n",
              "\t<tr><th scope=row>height</th><td>1.0000000</td><td>0.3082785</td></tr>\n",
              "\t<tr><th scope=row>weight</th><td>0.3082785</td><td>1.0000000</td></tr>\n",
              "</tbody>\n",
              "</table>\n"
            ],
            "text/markdown": "\nA matrix: 2 × 2 of type dbl\n\n| <!--/--> | height | weight |\n|---|---|---|\n| height | 1.0000000 | 0.3082785 |\n| weight | 0.3082785 | 1.0000000 |\n\n",
            "text/latex": "A matrix: 2 × 2 of type dbl\n\\begin{tabular}{r|ll}\n  & height & weight\\\\\n\\hline\n\theight & 1.0000000 & 0.3082785\\\\\n\tweight & 0.3082785 & 1.0000000\\\\\n\\end{tabular}\n",
            "text/plain": [
              "       height    weight   \n",
              "height 1.0000000 0.3082785\n",
              "weight 0.3082785 1.0000000"
            ]
          },
          "metadata": {}
        }
      ]
    },
    {
      "cell_type": "code",
      "source": [
        "plot(height_weight)"
      ],
      "metadata": {
        "colab": {
          "base_uri": "https://localhost:8080/",
          "height": 437
        },
        "id": "P_as1Ge6jOqt",
        "outputId": "bc7d8154-d042-49c3-a3e2-61f15025f4b0"
      },
      "execution_count": 14,
      "outputs": [
        {
          "output_type": "display_data",
          "data": {
            "text/plain": [
              "plot without title"
            ],
            "image/png": "[encoded data removed]"
          },
          "metadata": {
            "image/png": {
              "width": 420,
              "height": 420
            }
          }
        }
      ]
    },
    {
      "cell_type": "code",
      "source": [
        "## Fit regression model in R\n",
        "height_weight_mod <- lm(height_weight$height ~ height_weight$weight, data=height_weight)\n",
        "height_weight_mod"
      ],
      "metadata": {
        "colab": {
          "base_uri": "https://localhost:8080/",
          "height": 139
        },
        "id": "-z23WqlOjSpt",
        "outputId": "15d88b0d-417b-4621-f64c-35ea6264b439"
      },
      "execution_count": 15,
      "outputs": [
        {
          "output_type": "display_data",
          "data": {
            "text/plain": [
              "\n",
              "Call:\n",
              "lm(formula = height_weight$height ~ height_weight$weight, data = height_weight)\n",
              "\n",
              "Coefficients:\n",
              "         (Intercept)  height_weight$weight  \n",
              "            63.27424               0.03842  \n"
            ]
          },
          "metadata": {}
        }
      ]
    },
    {
      "cell_type": "code",
      "source": [
        "# Summarize and print the results\n",
        "summary(height_weight_mod)"
      ],
      "metadata": {
        "colab": {
          "base_uri": "https://localhost:8080/",
          "height": 329
        },
        "id": "3BUD2vsAjwQZ",
        "outputId": "7b27aa9c-1a74-4d1f-d226-f93b0299085a"
      },
      "execution_count": 16,
      "outputs": [
        {
          "output_type": "display_data",
          "data": {
            "text/plain": [
              "\n",
              "Call:\n",
              "lm(formula = height_weight$height ~ height_weight$weight, data = height_weight)\n",
              "\n",
              "Residuals:\n",
              "    Min      1Q  Median      3Q     Max \n",
              "-41.651  -1.453   0.025   1.826   6.997 \n",
              "\n",
              "Coefficients:\n",
              "                      Estimate Std. Error t value Pr(>|t|)    \n",
              "(Intercept)          63.274240   1.359585  46.539  < 2e-16 ***\n",
              "height_weight$weight  0.038422   0.007499   5.124 5.99e-07 ***\n",
              "---\n",
              "Signif. codes:  0 ‘***’ 0.001 ‘**’ 0.01 ‘*’ 0.05 ‘.’ 0.1 ‘ ’ 1\n",
              "\n",
              "Residual standard error: 3.491 on 250 degrees of freedom\n",
              "Multiple R-squared:  0.09504,\tAdjusted R-squared:  0.09142 \n",
              "F-statistic: 26.25 on 1 and 250 DF,  p-value: 5.99e-07\n"
            ]
          },
          "metadata": {}
        }
      ]
    }
  ]
}