{
  "nbformat": 4,
  "nbformat_minor": 0,
  "metadata": {
    "colab": {
      "provenance": [],
      "gpuType": "T4",
      "authorship_tag": "ABX9TyN40fYshETkkzX2Mt0NNPxD"
    },
    "kernelspec": {
      "name": "ir",
      "display_name": "R"
    },
    "language_info": {
      "name": "R"
    },
    "accelerator": "GPU"
  },
  "cells": [
    {
      "cell_type": "markdown",
      "source": [
        "# Importing Data on R"
      ],
      "metadata": {
        "id": "gRW8wFcCwHpv"
      }
    },
    {
      "cell_type": "markdown",
      "source": [
        "### Import .txt file"
      ],
      "metadata": {
        "id": "41JVT5ILCTuO"
      }
    },
    {
      "cell_type": "code",
      "execution_count": 10,
      "metadata": {
        "colab": {
          "base_uri": "https://localhost:8080/",
          "height": 474
        },
        "id": "9-onZPhLoU_f",
        "outputId": "3dabe4fb-8d9d-4fc7-cb9c-5405264bb99a"
      },
      "outputs": [
        {
          "output_type": "display_data",
          "data": {
            "text/html": [
              "<table class=\"dataframe\">\n",
              "<caption>A data.frame: 12 × 4</caption>\n",
              "<thead>\n",
              "\t<tr><th scope=col>V1</th><th scope=col>V2</th><th scope=col>V3</th><th scope=col>V4</th></tr>\n",
              "\t<tr><th scope=col>&lt;int&gt;</th><th scope=col>&lt;chr&gt;</th><th scope=col>&lt;chr&gt;</th><th scope=col>&lt;int&gt;</th></tr>\n",
              "</thead>\n",
              "<tbody>\n",
              "\t<tr><td>123234877</td><td>Michael  </td><td>Rogers   </td><td>14</td></tr>\n",
              "\t<tr><td>152934485</td><td>Anand    </td><td>Manikutty</td><td>14</td></tr>\n",
              "\t<tr><td>222364883</td><td>Carol    </td><td>Smith    </td><td>37</td></tr>\n",
              "\t<tr><td>326587417</td><td>Joe      </td><td>Stevens  </td><td>37</td></tr>\n",
              "\t<tr><td>332154719</td><td>Mary-Anne</td><td>Foster   </td><td>14</td></tr>\n",
              "\t<tr><td>332569843</td><td>George   </td><td>ODonnell </td><td>77</td></tr>\n",
              "\t<tr><td>546523478</td><td>John     </td><td>Doe      </td><td>59</td></tr>\n",
              "\t<tr><td>631231482</td><td>David    </td><td>Smith    </td><td>77</td></tr>\n",
              "\t<tr><td>654873219</td><td>Zacary   </td><td>Efron    </td><td>59</td></tr>\n",
              "\t<tr><td>745685214</td><td>Eric     </td><td>Goldsmith</td><td>59</td></tr>\n",
              "\t<tr><td>845657245</td><td>Elizabeth</td><td>Doe      </td><td>14</td></tr>\n",
              "\t<tr><td>845657246</td><td>Kumar    </td><td>Swamy    </td><td>14</td></tr>\n",
              "</tbody>\n",
              "</table>\n"
            ],
            "text/markdown": "\nA data.frame: 12 × 4\n\n| V1 &lt;int&gt; | V2 &lt;chr&gt; | V3 &lt;chr&gt; | V4 &lt;int&gt; |\n|---|---|---|---|\n| 123234877 | Michael   | Rogers    | 14 |\n| 152934485 | Anand     | Manikutty | 14 |\n| 222364883 | Carol     | Smith     | 37 |\n| 326587417 | Joe       | Stevens   | 37 |\n| 332154719 | Mary-Anne | Foster    | 14 |\n| 332569843 | George    | ODonnell  | 77 |\n| 546523478 | John      | Doe       | 59 |\n| 631231482 | David     | Smith     | 77 |\n| 654873219 | Zacary    | Efron     | 59 |\n| 745685214 | Eric      | Goldsmith | 59 |\n| 845657245 | Elizabeth | Doe       | 14 |\n| 845657246 | Kumar     | Swamy     | 14 |\n\n",
            "text/latex": "A data.frame: 12 × 4\n\\begin{tabular}{llll}\n V1 & V2 & V3 & V4\\\\\n <int> & <chr> & <chr> & <int>\\\\\n\\hline\n\t 123234877 & Michael   & Rogers    & 14\\\\\n\t 152934485 & Anand     & Manikutty & 14\\\\\n\t 222364883 & Carol     & Smith     & 37\\\\\n\t 326587417 & Joe       & Stevens   & 37\\\\\n\t 332154719 & Mary-Anne & Foster    & 14\\\\\n\t 332569843 & George    & ODonnell  & 77\\\\\n\t 546523478 & John      & Doe       & 59\\\\\n\t 631231482 & David     & Smith     & 77\\\\\n\t 654873219 & Zacary    & Efron     & 59\\\\\n\t 745685214 & Eric      & Goldsmith & 59\\\\\n\t 845657245 & Elizabeth & Doe       & 14\\\\\n\t 845657246 & Kumar     & Swamy     & 14\\\\\n\\end{tabular}\n",
            "text/plain": [
              "   V1        V2        V3        V4\n",
              "1  123234877 Michael   Rogers    14\n",
              "2  152934485 Anand     Manikutty 14\n",
              "3  222364883 Carol     Smith     37\n",
              "4  326587417 Joe       Stevens   37\n",
              "5  332154719 Mary-Anne Foster    14\n",
              "6  332569843 George    ODonnell  77\n",
              "7  546523478 John      Doe       59\n",
              "8  631231482 David     Smith     77\n",
              "9  654873219 Zacary    Efron     59\n",
              "10 745685214 Eric      Goldsmith 59\n",
              "11 845657245 Elizabeth Doe       14\n",
              "12 845657246 Kumar     Swamy     14"
            ]
          },
          "metadata": {}
        }
      ],
      "source": [
        "txt_dataset = read.table(\"https://raw.githubusercontent.com/mkuthan/example-spark/master/src/main/resources/data/employees.txt\", sep=\",\", header=FALSE, dec=\".\")\n",
        "txt_dataset"
      ]
    },
    {
      "cell_type": "markdown",
      "source": [
        "### Import CSV File"
      ],
      "metadata": {
        "id": "Wr0y-z8_CQos"
      }
    },
    {
      "cell_type": "code",
      "source": [
        "csv_dataset <- read.csv(\"https://media.githubusercontent.com/media/datablist/sample-csv-files/main/files/organizations/organizations-1000.csv\")\n",
        "str(csv_dataset)"
      ],
      "metadata": {
        "colab": {
          "base_uri": "https://localhost:8080/"
        },
        "id": "LUDRxsf_o4BF",
        "outputId": "16d29d8e-1405-478c-a454-5bc948adfa50"
      },
      "execution_count": 13,
      "outputs": [
        {
          "output_type": "stream",
          "name": "stdout",
          "text": [
            "'data.frame':\t1000 obs. of  9 variables:\n",
            " $ Index              : int  1 2 3 4 5 6 7 8 9 10 ...\n",
            " $ Organization.Id    : chr  \"E84A904909dF528\" \"AAC4f9aBF86EAeF\" \"ad2eb3C8C24DB87\" \"D76BB12E5eE165B\" ...\n",
            " $ Name               : chr  \"Liu-Hoover\" \"Orr-Armstrong\" \"Gill-Lamb\" \"Bauer-Weiss\" ...\n",
            " $ Website            : chr  \"http://www.day-hartman.org/\" \"https://www.chapman.net/\" \"http://lin.com/\" \"https://gillespie-stout.com/\" ...\n",
            " $ Country            : chr  \"Western Sahara\" \"Algeria\" \"Cote d'Ivoire\" \"United States of America\" ...\n",
            " $ Description        : chr  \"Ergonomic zero administration knowledge user\" \"Ergonomic radical budgetary management\" \"Programmable intermediate conglomeration\" \"Synergistic maximized definition\" ...\n",
            " $ Founded            : int  1980 1970 2005 2015 2010 2003 1994 1987 1977 1990 ...\n",
            " $ Industry           : chr  \"Online Publishing\" \"Import / Export\" \"Apparel / Fashion\" \"Dairy\" ...\n",
            " $ Number.of.employees: int  6852 7994 5105 9069 6991 3503 2762 7020 2709 5731 ...\n"
          ]
        }
      ]
    },
    {
      "cell_type": "markdown",
      "source": [
        "###  Import from Excel File"
      ],
      "metadata": {
        "id": "vkexzbo8CLbD"
      }
    },
    {
      "cell_type": "code",
      "source": [
        "install.packages(\"readxl\")\n",
        "library(\"readxl\")\n",
        "\n",
        "excel_dataset <- read_excel(\"my-file.xlsx\")"
      ],
      "metadata": {
        "colab": {
          "base_uri": "https://localhost:8080/"
        },
        "id": "LFs93Gs7xPdk",
        "outputId": "5c7aa1cb-6cf0-42c4-e4bb-341cd1b30f7a"
      },
      "execution_count": 1,
      "outputs": [
        {
          "output_type": "stream",
          "name": "stderr",
          "text": [
            "Installing package into ‘/usr/local/lib/R/site-library’\n",
            "(as ‘lib’ is unspecified)\n",
            "\n"
          ]
        }
      ]
    },
    {
      "cell_type": "markdown",
      "source": [
        "### Import from .sav file"
      ],
      "metadata": {
        "id": "uYbu3hOxCByV"
      }
    },
    {
      "cell_type": "code",
      "source": [
        "# Option-1 (Using haven Library)\n",
        "library(haven)\n",
        "\n",
        "# Option-1 (a)\n",
        "int <- read_spss(\"./Documents/data/international.sav\" , user_na =F)\n",
        "int\n",
        "\n",
        "# Option-1(b)\n",
        "int2 <- read_sav(\"./Documents/data/international.sav\", encoding = NULL, user_na = FALSE)\n",
        "int2"
      ],
      "metadata": {
        "id": "t-6g2mqW8JV3"
      },
      "execution_count": null,
      "outputs": []
    },
    {
      "cell_type": "code",
      "source": [
        "# Option-2 (Using foreign Library)\n",
        "library(foreign)\n",
        "int <- read.spss(\"./Documents/data/international.sav\" ,user_na =F)\n",
        "str(int)\n",
        "\n",
        "# Save Dataset\n",
        "write.foreign(int, \"./Documents/data/int.sps\")\n",
        "write.foreign(int, \"./Documents/data/int.txt\", \"./Documents/data/int.sps\", package=\"SPSS\")"
      ],
      "metadata": {
        "id": "f5rIXw6KMOPu"
      },
      "execution_count": null,
      "outputs": []
    },
    {
      "cell_type": "markdown",
      "source": [
        "### Import Data From STATA"
      ],
      "metadata": {
        "id": "GO4w-DpJM_Xe"
      }
    },
    {
      "cell_type": "code",
      "source": [
        "# Option - 1 (Using haven Library)\n",
        "library(haven)\n",
        "\n",
        "# Option-1(a)\n",
        "florida <- read_dta(\"./Documents/data/florida.dta\", encoding = NULL)\n",
        "florida\n",
        "\n",
        "# Option-1(b)\n",
        "florida2 <- read_stata(\"./Documents/data/florida.dta\", encoding = NULL)\n",
        "florida2"
      ],
      "metadata": {
        "id": "e8eal2MUNE3F"
      },
      "execution_count": null,
      "outputs": []
    },
    {
      "cell_type": "code",
      "source": [
        "# Option-2 (Using foreign Library)\n",
        "library(foreign)\n",
        "\n",
        "florida3 <- read.dta(\"./Documents/data/florida.dta\")\n",
        "str(florida3)\n",
        "View(florida3)\n",
        "\n",
        "# Save Dataset\n",
        "write.dta(florida3, \"./Documents/data/florida.dta\")"
      ],
      "metadata": {
        "id": "c5NzLevhNLwV"
      },
      "execution_count": null,
      "outputs": []
    },
    {
      "cell_type": "markdown",
      "source": [
        "### Import Data From Web/URL"
      ],
      "metadata": {
        "id": "JYFjUuuoNbzu"
      }
    },
    {
      "cell_type": "code",
      "source": [
        "#Option -1: Use Base R\n",
        "dataurl <- read.csv('https://raw.githubusercontent.com/Statology/Miscellaneous/main/basketball_data.csv')\n",
        "dataurl"
      ],
      "metadata": {
        "colab": {
          "base_uri": "https://localhost:8080/",
          "height": 255
        },
        "id": "J7qqx1mSONVz",
        "outputId": "d04ffc3b-1ae9-4eec-a821-20d24e439b1b"
      },
      "execution_count": 1,
      "outputs": [
        {
          "output_type": "display_data",
          "data": {
            "text/html": [
              "<table class=\"dataframe\">\n",
              "<caption>A data.frame: 5 × 3</caption>\n",
              "<thead>\n",
              "\t<tr><th scope=col>player</th><th scope=col>assists</th><th scope=col>points</th></tr>\n",
              "\t<tr><th scope=col>&lt;chr&gt;</th><th scope=col>&lt;int&gt;</th><th scope=col>&lt;int&gt;</th></tr>\n",
              "</thead>\n",
              "<tbody>\n",
              "\t<tr><td>A</td><td> 6</td><td>12</td></tr>\n",
              "\t<tr><td>B</td><td> 7</td><td>19</td></tr>\n",
              "\t<tr><td>C</td><td>14</td><td> 7</td></tr>\n",
              "\t<tr><td>D</td><td> 4</td><td> 6</td></tr>\n",
              "\t<tr><td>E</td><td> 5</td><td>10</td></tr>\n",
              "</tbody>\n",
              "</table>\n"
            ],
            "text/markdown": "\nA data.frame: 5 × 3\n\n| player &lt;chr&gt; | assists &lt;int&gt; | points &lt;int&gt; |\n|---|---|---|\n| A |  6 | 12 |\n| B |  7 | 19 |\n| C | 14 |  7 |\n| D |  4 |  6 |\n| E |  5 | 10 |\n\n",
            "text/latex": "A data.frame: 5 × 3\n\\begin{tabular}{lll}\n player & assists & points\\\\\n <chr> & <int> & <int>\\\\\n\\hline\n\t A &  6 & 12\\\\\n\t B &  7 & 19\\\\\n\t C & 14 &  7\\\\\n\t D &  4 &  6\\\\\n\t E &  5 & 10\\\\\n\\end{tabular}\n",
            "text/plain": [
              "  player assists points\n",
              "1 A       6      12    \n",
              "2 B       7      19    \n",
              "3 C      14       7    \n",
              "4 D       4       6    \n",
              "5 E       5      10    "
            ]
          },
          "metadata": {}
        }
      ]
    },
    {
      "cell_type": "code",
      "source": [
        "#Option -2: Use data.table Package\n",
        "library(data.table)\n",
        "dataurl2 <- fread('https://raw.githubusercontent.com/Statology/Miscellaneous/main/basketball_data.csv')"
      ],
      "metadata": {
        "id": "jO9ZNTPLOZlI"
      },
      "execution_count": 4,
      "outputs": []
    },
    {
      "cell_type": "code",
      "source": [
        "#Option -3: Use readr Package\n",
        "library(readr)\n",
        "dataurl3 <- fread('https://raw.githubusercontent.com/Statology/Miscellaneous/main/basketball_data.csv')"
      ],
      "metadata": {
        "id": "nySk9_CNOehj"
      },
      "execution_count": 5,
      "outputs": []
    },
    {
      "cell_type": "markdown",
      "source": [
        "# Export Dataset"
      ],
      "metadata": {
        "id": "P8IJlmEsQVwJ"
      }
    },
    {
      "cell_type": "markdown",
      "source": [
        "### To TXT file"
      ],
      "metadata": {
        "id": "FI5SkgvyW-Gq"
      }
    },
    {
      "cell_type": "code",
      "source": [
        "write.table(mydata, \"dat.txt\", quote = F, row.names = F, col.names = T, sep = \" \")"
      ],
      "metadata": {
        "id": "oaeMr3wrOg0b"
      },
      "execution_count": null,
      "outputs": []
    },
    {
      "cell_type": "markdown",
      "source": [
        "### To CSV File"
      ],
      "metadata": {
        "id": "zdNF4dfxXHa9"
      }
    },
    {
      "cell_type": "code",
      "source": [
        "write.table(mydata, \"Downloads/Data/okaky.csv\", row.names=F)"
      ],
      "metadata": {
        "id": "-dLZjEUGXKIT"
      },
      "execution_count": null,
      "outputs": []
    },
    {
      "cell_type": "markdown",
      "source": [
        "### Save an object to a file  (.rds / .rda)"
      ],
      "metadata": {
        "id": "WA8Ks76hXNAV"
      }
    },
    {
      "cell_type": "code",
      "source": [
        "saveRDS(mydata, file = \"dat.rds\")\n",
        "\n",
        "# Load\n",
        "dat <- readRDS(file = \"dat.rds \")"
      ],
      "metadata": {
        "id": "FCdIyYU8XRCj"
      },
      "execution_count": null,
      "outputs": []
    },
    {
      "cell_type": "markdown",
      "source": [
        "### Save multiple objects to a file"
      ],
      "metadata": {
        "id": "5vI1dqwiXVa3"
      }
    },
    {
      "cell_type": "code",
      "source": [
        "save(data1, data2, file=\"mydataset.RData\")\n",
        "\n",
        "# Load\n",
        "load(\"mydataset.RData\")"
      ],
      "metadata": {
        "id": "5u1bE1ouXjJD"
      },
      "execution_count": null,
      "outputs": []
    },
    {
      "cell_type": "markdown",
      "source": [
        "### Save the entire Workspace"
      ],
      "metadata": {
        "id": "Lp_3O-7ZX5A5"
      }
    },
    {
      "cell_type": "code",
      "source": [
        "save.image(file = \"my_work_space.RData\")\n",
        "\n",
        "# Load\n",
        "load(\"my_work_space.RData\")"
      ],
      "metadata": {
        "id": "gOcLskc4Xxid"
      },
      "execution_count": null,
      "outputs": []
    }
  ]
}