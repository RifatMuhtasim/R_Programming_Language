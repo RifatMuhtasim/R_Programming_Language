{
  "nbformat": 4,
  "nbformat_minor": 0,
  "metadata": {
    "colab": {
      "provenance": [],
      "authorship_tag": "ABX9TyN6aBTmkAKZkPeYasatEggI",
      "include_colab_link": true
    },
    "kernelspec": {
      "name": "ir",
      "display_name": "R"
    },
    "language_info": {
      "name": "R"
    }
  },
  "cells": [
    {
      "cell_type": "markdown",
      "metadata": {
        "id": "view-in-github",
        "colab_type": "text"
      },
      "source": [
        "<a href=\"https://colab.research.google.com/github/RifatMuhtasim/R_Programming_Language/blob/main/1.07.Proportion_Chi_Squared_and_Fisher's_Test.ipynb\" target=\"_parent\"><img src=\"https://colab.research.google.com/assets/colab-badge.svg\" alt=\"Open In Colab\"/></a>"
      ]
    },
    {
      "cell_type": "markdown",
      "source": [
        "# Proportion Test"
      ],
      "metadata": {
        "id": "UVKBJ1SO6foK"
      }
    },
    {
      "cell_type": "code",
      "execution_count": 1,
      "metadata": {
        "colab": {
          "base_uri": "https://localhost:8080/",
          "height": 208
        },
        "id": "VMadMdXAvMVM",
        "outputId": "88653f94-9c36-4f91-e8e6-feeca3028cd3"
      },
      "outputs": [
        {
          "output_type": "display_data",
          "data": {
            "text/plain": [
              "\n",
              "\t1-sample proportions test with continuity correction\n",
              "\n",
              "data:  15 out of 32, null probability 0.5\n",
              "X-squared = 0.03125, df = 1, p-value = 0.8597\n",
              "alternative hypothesis: true p is not equal to 0.5\n",
              "95 percent confidence interval:\n",
              " 0.2951014 0.6496695\n",
              "sample estimates:\n",
              "      p \n",
              "0.46875 \n"
            ]
          },
          "metadata": {}
        }
      ],
      "source": [
        "## Single/Assign Population Proportion Test\n",
        "prop.test(x=15, n=32) # p = NULL (Compare with p = 0.5)\n",
        "\n",
        "# P value is grater than 0.05 we can't reject the null hypothesis"
      ]
    },
    {
      "cell_type": "code",
      "source": [
        "# Compare with p = 0.7\n",
        "prop.test(x=15, n =32, p = 0.7)\n",
        "\n",
        "# P value is less than the 0.05 we reject the null hypothesis"
      ],
      "metadata": {
        "colab": {
          "base_uri": "https://localhost:8080/",
          "height": 208
        },
        "id": "D9aJyryDvsth",
        "outputId": "1d9c4d0c-b960-4b6b-ff7a-81d1e558a0a7"
      },
      "execution_count": 2,
      "outputs": [
        {
          "output_type": "display_data",
          "data": {
            "text/plain": [
              "\n",
              "\t1-sample proportions test with continuity correction\n",
              "\n",
              "data:  15 out of 32, null probability 0.7\n",
              "X-squared = 7.0848, df = 1, p-value = 0.007774\n",
              "alternative hypothesis: true p is not equal to 0.7\n",
              "95 percent confidence interval:\n",
              " 0.2951014 0.6496695\n",
              "sample estimates:\n",
              "      p \n",
              "0.46875 \n"
            ]
          },
          "metadata": {}
        }
      ]
    },
    {
      "cell_type": "code",
      "source": [
        "## Comparison of Two Population Proportions\n",
        "# install.packages('MASS')\n",
        "library(MASS)\n",
        "head(quine)"
      ],
      "metadata": {
        "colab": {
          "base_uri": "https://localhost:8080/",
          "height": 286
        },
        "id": "ifZNxONFv1Ut",
        "outputId": "b59d5e03-7fda-4a2e-89ee-d3632559364f"
      },
      "execution_count": 3,
      "outputs": [
        {
          "output_type": "display_data",
          "data": {
            "text/html": [
              "<table class=\"dataframe\">\n",
              "<caption>A data.frame: 6 × 5</caption>\n",
              "<thead>\n",
              "\t<tr><th></th><th scope=col>Eth</th><th scope=col>Sex</th><th scope=col>Age</th><th scope=col>Lrn</th><th scope=col>Days</th></tr>\n",
              "\t<tr><th></th><th scope=col>&lt;fct&gt;</th><th scope=col>&lt;fct&gt;</th><th scope=col>&lt;fct&gt;</th><th scope=col>&lt;fct&gt;</th><th scope=col>&lt;int&gt;</th></tr>\n",
              "</thead>\n",
              "<tbody>\n",
              "\t<tr><th scope=row>1</th><td>A</td><td>M</td><td>F0</td><td>SL</td><td> 2</td></tr>\n",
              "\t<tr><th scope=row>2</th><td>A</td><td>M</td><td>F0</td><td>SL</td><td>11</td></tr>\n",
              "\t<tr><th scope=row>3</th><td>A</td><td>M</td><td>F0</td><td>SL</td><td>14</td></tr>\n",
              "\t<tr><th scope=row>4</th><td>A</td><td>M</td><td>F0</td><td>AL</td><td> 5</td></tr>\n",
              "\t<tr><th scope=row>5</th><td>A</td><td>M</td><td>F0</td><td>AL</td><td> 5</td></tr>\n",
              "\t<tr><th scope=row>6</th><td>A</td><td>M</td><td>F0</td><td>AL</td><td>13</td></tr>\n",
              "</tbody>\n",
              "</table>\n"
            ],
            "text/markdown": "\nA data.frame: 6 × 5\n\n| <!--/--> | Eth &lt;fct&gt; | Sex &lt;fct&gt; | Age &lt;fct&gt; | Lrn &lt;fct&gt; | Days &lt;int&gt; |\n|---|---|---|---|---|---|\n| 1 | A | M | F0 | SL |  2 |\n| 2 | A | M | F0 | SL | 11 |\n| 3 | A | M | F0 | SL | 14 |\n| 4 | A | M | F0 | AL |  5 |\n| 5 | A | M | F0 | AL |  5 |\n| 6 | A | M | F0 | AL | 13 |\n\n",
            "text/latex": "A data.frame: 6 × 5\n\\begin{tabular}{r|lllll}\n  & Eth & Sex & Age & Lrn & Days\\\\\n  & <fct> & <fct> & <fct> & <fct> & <int>\\\\\n\\hline\n\t1 & A & M & F0 & SL &  2\\\\\n\t2 & A & M & F0 & SL & 11\\\\\n\t3 & A & M & F0 & SL & 14\\\\\n\t4 & A & M & F0 & AL &  5\\\\\n\t5 & A & M & F0 & AL &  5\\\\\n\t6 & A & M & F0 & AL & 13\\\\\n\\end{tabular}\n",
            "text/plain": [
              "  Eth Sex Age Lrn Days\n",
              "1 A   M   F0  SL   2  \n",
              "2 A   M   F0  SL  11  \n",
              "3 A   M   F0  SL  14  \n",
              "4 A   M   F0  AL   5  \n",
              "5 A   M   F0  AL   5  \n",
              "6 A   M   F0  AL  13  "
            ]
          },
          "metadata": {}
        }
      ]
    },
    {
      "cell_type": "code",
      "source": [
        "unique(quine$Eth)\n",
        "unique(quine$Sex)\n",
        "table(quine$Eth, quine$Sex) # Eth: Ethnicity- 2 levels A= aboriginal, N = not"
      ],
      "metadata": {
        "colab": {
          "base_uri": "https://localhost:8080/",
          "height": 156
        },
        "id": "Br8oUBawwUEk",
        "outputId": "1e536b9f-24e9-4d3e-e89f-f0d9d04705ea"
      },
      "execution_count": 4,
      "outputs": [
        {
          "output_type": "display_data",
          "data": {
            "text/html": [
              "<style>\n",
              ".list-inline {list-style: none; margin:0; padding: 0}\n",
              ".list-inline>li {display: inline-block}\n",
              ".list-inline>li:not(:last-child)::after {content: \"\\00b7\"; padding: 0 .5ex}\n",
              "</style>\n",
              "<ol class=list-inline><li>A</li><li>N</li></ol>\n",
              "\n",
              "<details>\n",
              "\t<summary style=display:list-item;cursor:pointer>\n",
              "\t\t<strong>Levels</strong>:\n",
              "\t</summary>\n",
              "\t<style>\n",
              "\t.list-inline {list-style: none; margin:0; padding: 0}\n",
              "\t.list-inline>li {display: inline-block}\n",
              "\t.list-inline>li:not(:last-child)::after {content: \"\\00b7\"; padding: 0 .5ex}\n",
              "\t</style>\n",
              "\t<ol class=list-inline><li>'A'</li><li>'N'</li></ol>\n",
              "</details>"
            ],
            "text/markdown": "1. A\n2. N\n\n\n\n**Levels**: 1. 'A'\n2. 'N'\n\n\n",
            "text/latex": "\\begin{enumerate*}\n\\item A\n\\item N\n\\end{enumerate*}\n\n\\emph{Levels}: \\begin{enumerate*}\n\\item 'A'\n\\item 'N'\n\\end{enumerate*}\n",
            "text/plain": [
              "[1] A N\n",
              "Levels: A N"
            ]
          },
          "metadata": {}
        },
        {
          "output_type": "display_data",
          "data": {
            "text/html": [
              "<style>\n",
              ".list-inline {list-style: none; margin:0; padding: 0}\n",
              ".list-inline>li {display: inline-block}\n",
              ".list-inline>li:not(:last-child)::after {content: \"\\00b7\"; padding: 0 .5ex}\n",
              "</style>\n",
              "<ol class=list-inline><li>M</li><li>F</li></ol>\n",
              "\n",
              "<details>\n",
              "\t<summary style=display:list-item;cursor:pointer>\n",
              "\t\t<strong>Levels</strong>:\n",
              "\t</summary>\n",
              "\t<style>\n",
              "\t.list-inline {list-style: none; margin:0; padding: 0}\n",
              "\t.list-inline>li {display: inline-block}\n",
              "\t.list-inline>li:not(:last-child)::after {content: \"\\00b7\"; padding: 0 .5ex}\n",
              "\t</style>\n",
              "\t<ol class=list-inline><li>'F'</li><li>'M'</li></ol>\n",
              "</details>"
            ],
            "text/markdown": "1. M\n2. F\n\n\n\n**Levels**: 1. 'F'\n2. 'M'\n\n\n",
            "text/latex": "\\begin{enumerate*}\n\\item M\n\\item F\n\\end{enumerate*}\n\n\\emph{Levels}: \\begin{enumerate*}\n\\item 'F'\n\\item 'M'\n\\end{enumerate*}\n",
            "text/plain": [
              "[1] M F\n",
              "Levels: F M"
            ]
          },
          "metadata": {}
        },
        {
          "output_type": "display_data",
          "data": {
            "text/plain": [
              "   \n",
              "     F  M\n",
              "  A 38 31\n",
              "  N 42 35"
            ]
          },
          "metadata": {}
        }
      ]
    },
    {
      "cell_type": "code",
      "source": [
        "# 2-sample test for equality of proportions without continuity correction\n",
        "prop.test(table(quine$Eth, quine$Sex), correct = FALSE)"
      ],
      "metadata": {
        "colab": {
          "base_uri": "https://localhost:8080/",
          "height": 208
        },
        "id": "l8IkHBYNxAXO",
        "outputId": "55ade0d0-498f-4e46-bb6d-f6cde44fdac6"
      },
      "execution_count": 5,
      "outputs": [
        {
          "output_type": "display_data",
          "data": {
            "text/plain": [
              "\n",
              "\t2-sample test for equality of proportions without continuity correction\n",
              "\n",
              "data:  table(quine$Eth, quine$Sex)\n",
              "X-squared = 0.0040803, df = 1, p-value = 0.9491\n",
              "alternative hypothesis: two.sided\n",
              "95 percent confidence interval:\n",
              " -0.1564218  0.1669620\n",
              "sample estimates:\n",
              "   prop 1    prop 2 \n",
              "0.5507246 0.5454545 \n"
            ]
          },
          "metadata": {}
        }
      ]
    },
    {
      "cell_type": "markdown",
      "source": [
        "# Chi-Squared Test\n"
      ],
      "metadata": {
        "id": "Q1w1tbY0xbWz"
      }
    },
    {
      "cell_type": "code",
      "source": [
        "#Read Car Auction Data\n",
        "cars <- read.csv(\"https://biostat.jhsph.edu/~ajaffe/files/kaggleCarAuction.csv\", as.is=TRUE)\n",
        "head(cars)\n",
        "dim(cars)\n",
        "names(cars)"
      ],
      "metadata": {
        "colab": {
          "base_uri": "https://localhost:8080/",
          "height": 584
        },
        "id": "LlO2BSnTxSxf",
        "outputId": "fb68be14-b3b9-407c-f85c-ada00874fd09"
      },
      "execution_count": 6,
      "outputs": [
        {
          "output_type": "display_data",
          "data": {
            "text/html": [
              "<table class=\"dataframe\">\n",
              "<caption>A data.frame: 6 × 34</caption>\n",
              "<thead>\n",
              "\t<tr><th></th><th scope=col>RefId</th><th scope=col>IsBadBuy</th><th scope=col>PurchDate</th><th scope=col>Auction</th><th scope=col>VehYear</th><th scope=col>VehicleAge</th><th scope=col>Make</th><th scope=col>Model</th><th scope=col>Trim</th><th scope=col>SubModel</th><th scope=col>⋯</th><th scope=col>MMRCurrentRetailAveragePrice</th><th scope=col>MMRCurrentRetailCleanPrice</th><th scope=col>PRIMEUNIT</th><th scope=col>AUCGUART</th><th scope=col>BYRNO</th><th scope=col>VNZIP1</th><th scope=col>VNST</th><th scope=col>VehBCost</th><th scope=col>IsOnlineSale</th><th scope=col>WarrantyCost</th></tr>\n",
              "\t<tr><th></th><th scope=col>&lt;int&gt;</th><th scope=col>&lt;int&gt;</th><th scope=col>&lt;chr&gt;</th><th scope=col>&lt;chr&gt;</th><th scope=col>&lt;int&gt;</th><th scope=col>&lt;int&gt;</th><th scope=col>&lt;chr&gt;</th><th scope=col>&lt;chr&gt;</th><th scope=col>&lt;chr&gt;</th><th scope=col>&lt;chr&gt;</th><th scope=col>⋯</th><th scope=col>&lt;chr&gt;</th><th scope=col>&lt;chr&gt;</th><th scope=col>&lt;chr&gt;</th><th scope=col>&lt;chr&gt;</th><th scope=col>&lt;int&gt;</th><th scope=col>&lt;int&gt;</th><th scope=col>&lt;chr&gt;</th><th scope=col>&lt;dbl&gt;</th><th scope=col>&lt;int&gt;</th><th scope=col>&lt;int&gt;</th></tr>\n",
              "</thead>\n",
              "<tbody>\n",
              "\t<tr><th scope=row>1</th><td>1</td><td>0</td><td>12/7/2009</td><td>ADESA</td><td>2006</td><td>3</td><td>MAZDA     </td><td>MAZDA3             </td><td>i  </td><td>4D SEDAN I       </td><td>⋯</td><td>11597</td><td>12409</td><td>NULL</td><td>NULL</td><td>21973</td><td>33619</td><td>FL</td><td>7100</td><td>0</td><td>1113</td></tr>\n",
              "\t<tr><th scope=row>2</th><td>2</td><td>0</td><td>12/7/2009</td><td>ADESA</td><td>2004</td><td>5</td><td>DODGE     </td><td>1500 RAM PICKUP 2WD</td><td>ST </td><td>QUAD CAB 4.7L SLT</td><td>⋯</td><td>11374</td><td>12791</td><td>NULL</td><td>NULL</td><td>19638</td><td>33619</td><td>FL</td><td>7600</td><td>0</td><td>1053</td></tr>\n",
              "\t<tr><th scope=row>3</th><td>3</td><td>0</td><td>12/7/2009</td><td>ADESA</td><td>2005</td><td>4</td><td>DODGE     </td><td>STRATUS V6         </td><td>SXT</td><td>4D SEDAN SXT FFV </td><td>⋯</td><td>7146 </td><td>8702 </td><td>NULL</td><td>NULL</td><td>19638</td><td>33619</td><td>FL</td><td>4900</td><td>0</td><td>1389</td></tr>\n",
              "\t<tr><th scope=row>4</th><td>4</td><td>0</td><td>12/7/2009</td><td>ADESA</td><td>2004</td><td>5</td><td>DODGE     </td><td>NEON               </td><td>SXT</td><td>4D SEDAN         </td><td>⋯</td><td>4375 </td><td>5518 </td><td>NULL</td><td>NULL</td><td>19638</td><td>33619</td><td>FL</td><td>4100</td><td>0</td><td> 630</td></tr>\n",
              "\t<tr><th scope=row>5</th><td>5</td><td>0</td><td>12/7/2009</td><td>ADESA</td><td>2005</td><td>4</td><td>FORD      </td><td>FOCUS              </td><td>ZX3</td><td>2D COUPE ZX3     </td><td>⋯</td><td>6739 </td><td>7911 </td><td>NULL</td><td>NULL</td><td>19638</td><td>33619</td><td>FL</td><td>4000</td><td>0</td><td>1020</td></tr>\n",
              "\t<tr><th scope=row>6</th><td>6</td><td>0</td><td>12/7/2009</td><td>ADESA</td><td>2004</td><td>5</td><td>MITSUBISHI</td><td>GALANT 4C          </td><td>ES </td><td>4D SEDAN ES      </td><td>⋯</td><td>8149 </td><td>9451 </td><td>NULL</td><td>NULL</td><td>19638</td><td>33619</td><td>FL</td><td>5600</td><td>0</td><td> 594</td></tr>\n",
              "</tbody>\n",
              "</table>\n"
            ],
            "text/markdown": "\nA data.frame: 6 × 34\n\n| <!--/--> | RefId &lt;int&gt; | IsBadBuy &lt;int&gt; | PurchDate &lt;chr&gt; | Auction &lt;chr&gt; | VehYear &lt;int&gt; | VehicleAge &lt;int&gt; | Make &lt;chr&gt; | Model &lt;chr&gt; | Trim &lt;chr&gt; | SubModel &lt;chr&gt; | ⋯ ⋯ | MMRCurrentRetailAveragePrice &lt;chr&gt; | MMRCurrentRetailCleanPrice &lt;chr&gt; | PRIMEUNIT &lt;chr&gt; | AUCGUART &lt;chr&gt; | BYRNO &lt;int&gt; | VNZIP1 &lt;int&gt; | VNST &lt;chr&gt; | VehBCost &lt;dbl&gt; | IsOnlineSale &lt;int&gt; | WarrantyCost &lt;int&gt; |\n|---|---|---|---|---|---|---|---|---|---|---|---|---|---|---|---|---|---|---|---|---|---|\n| 1 | 1 | 0 | 12/7/2009 | ADESA | 2006 | 3 | MAZDA      | MAZDA3              | i   | 4D SEDAN I        | ⋯ | 11597 | 12409 | NULL | NULL | 21973 | 33619 | FL | 7100 | 0 | 1113 |\n| 2 | 2 | 0 | 12/7/2009 | ADESA | 2004 | 5 | DODGE      | 1500 RAM PICKUP 2WD | ST  | QUAD CAB 4.7L SLT | ⋯ | 11374 | 12791 | NULL | NULL | 19638 | 33619 | FL | 7600 | 0 | 1053 |\n| 3 | 3 | 0 | 12/7/2009 | ADESA | 2005 | 4 | DODGE      | STRATUS V6          | SXT | 4D SEDAN SXT FFV  | ⋯ | 7146  | 8702  | NULL | NULL | 19638 | 33619 | FL | 4900 | 0 | 1389 |\n| 4 | 4 | 0 | 12/7/2009 | ADESA | 2004 | 5 | DODGE      | NEON                | SXT | 4D SEDAN          | ⋯ | 4375  | 5518  | NULL | NULL | 19638 | 33619 | FL | 4100 | 0 |  630 |\n| 5 | 5 | 0 | 12/7/2009 | ADESA | 2005 | 4 | FORD       | FOCUS               | ZX3 | 2D COUPE ZX3      | ⋯ | 6739  | 7911  | NULL | NULL | 19638 | 33619 | FL | 4000 | 0 | 1020 |\n| 6 | 6 | 0 | 12/7/2009 | ADESA | 2004 | 5 | MITSUBISHI | GALANT 4C           | ES  | 4D SEDAN ES       | ⋯ | 8149  | 9451  | NULL | NULL | 19638 | 33619 | FL | 5600 | 0 |  594 |\n\n",
            "text/latex": "A data.frame: 6 × 34\n\\begin{tabular}{r|lllllllllllllllllllll}\n  & RefId & IsBadBuy & PurchDate & Auction & VehYear & VehicleAge & Make & Model & Trim & SubModel & ⋯ & MMRCurrentRetailAveragePrice & MMRCurrentRetailCleanPrice & PRIMEUNIT & AUCGUART & BYRNO & VNZIP1 & VNST & VehBCost & IsOnlineSale & WarrantyCost\\\\\n  & <int> & <int> & <chr> & <chr> & <int> & <int> & <chr> & <chr> & <chr> & <chr> & ⋯ & <chr> & <chr> & <chr> & <chr> & <int> & <int> & <chr> & <dbl> & <int> & <int>\\\\\n\\hline\n\t1 & 1 & 0 & 12/7/2009 & ADESA & 2006 & 3 & MAZDA      & MAZDA3              & i   & 4D SEDAN I        & ⋯ & 11597 & 12409 & NULL & NULL & 21973 & 33619 & FL & 7100 & 0 & 1113\\\\\n\t2 & 2 & 0 & 12/7/2009 & ADESA & 2004 & 5 & DODGE      & 1500 RAM PICKUP 2WD & ST  & QUAD CAB 4.7L SLT & ⋯ & 11374 & 12791 & NULL & NULL & 19638 & 33619 & FL & 7600 & 0 & 1053\\\\\n\t3 & 3 & 0 & 12/7/2009 & ADESA & 2005 & 4 & DODGE      & STRATUS V6          & SXT & 4D SEDAN SXT FFV  & ⋯ & 7146  & 8702  & NULL & NULL & 19638 & 33619 & FL & 4900 & 0 & 1389\\\\\n\t4 & 4 & 0 & 12/7/2009 & ADESA & 2004 & 5 & DODGE      & NEON                & SXT & 4D SEDAN          & ⋯ & 4375  & 5518  & NULL & NULL & 19638 & 33619 & FL & 4100 & 0 &  630\\\\\n\t5 & 5 & 0 & 12/7/2009 & ADESA & 2005 & 4 & FORD       & FOCUS               & ZX3 & 2D COUPE ZX3      & ⋯ & 6739  & 7911  & NULL & NULL & 19638 & 33619 & FL & 4000 & 0 & 1020\\\\\n\t6 & 6 & 0 & 12/7/2009 & ADESA & 2004 & 5 & MITSUBISHI & GALANT 4C           & ES  & 4D SEDAN ES       & ⋯ & 8149  & 9451  & NULL & NULL & 19638 & 33619 & FL & 5600 & 0 &  594\\\\\n\\end{tabular}\n",
            "text/plain": [
              "  RefId IsBadBuy PurchDate Auction VehYear VehicleAge Make      \n",
              "1 1     0        12/7/2009 ADESA   2006    3          MAZDA     \n",
              "2 2     0        12/7/2009 ADESA   2004    5          DODGE     \n",
              "3 3     0        12/7/2009 ADESA   2005    4          DODGE     \n",
              "4 4     0        12/7/2009 ADESA   2004    5          DODGE     \n",
              "5 5     0        12/7/2009 ADESA   2005    4          FORD      \n",
              "6 6     0        12/7/2009 ADESA   2004    5          MITSUBISHI\n",
              "  Model               Trim SubModel          ⋯ MMRCurrentRetailAveragePrice\n",
              "1 MAZDA3              i    4D SEDAN I        ⋯ 11597                       \n",
              "2 1500 RAM PICKUP 2WD ST   QUAD CAB 4.7L SLT ⋯ 11374                       \n",
              "3 STRATUS V6          SXT  4D SEDAN SXT FFV  ⋯ 7146                        \n",
              "4 NEON                SXT  4D SEDAN          ⋯ 4375                        \n",
              "5 FOCUS               ZX3  2D COUPE ZX3      ⋯ 6739                        \n",
              "6 GALANT 4C           ES   4D SEDAN ES       ⋯ 8149                        \n",
              "  MMRCurrentRetailCleanPrice PRIMEUNIT AUCGUART BYRNO VNZIP1 VNST VehBCost\n",
              "1 12409                      NULL      NULL     21973 33619  FL   7100    \n",
              "2 12791                      NULL      NULL     19638 33619  FL   7600    \n",
              "3 8702                       NULL      NULL     19638 33619  FL   4900    \n",
              "4 5518                       NULL      NULL     19638 33619  FL   4100    \n",
              "5 7911                       NULL      NULL     19638 33619  FL   4000    \n",
              "6 9451                       NULL      NULL     19638 33619  FL   5600    \n",
              "  IsOnlineSale WarrantyCost\n",
              "1 0            1113        \n",
              "2 0            1053        \n",
              "3 0            1389        \n",
              "4 0             630        \n",
              "5 0            1020        \n",
              "6 0             594        "
            ]
          },
          "metadata": {}
        },
        {
          "output_type": "display_data",
          "data": {
            "text/html": [
              "<style>\n",
              ".list-inline {list-style: none; margin:0; padding: 0}\n",
              ".list-inline>li {display: inline-block}\n",
              ".list-inline>li:not(:last-child)::after {content: \"\\00b7\"; padding: 0 .5ex}\n",
              "</style>\n",
              "<ol class=list-inline><li>72983</li><li>34</li></ol>\n"
            ],
            "text/markdown": "1. 72983\n2. 34\n\n\n",
            "text/latex": "\\begin{enumerate*}\n\\item 72983\n\\item 34\n\\end{enumerate*}\n",
            "text/plain": [
              "[1] 72983    34"
            ]
          },
          "metadata": {}
        },
        {
          "output_type": "display_data",
          "data": {
            "text/html": [
              "<style>\n",
              ".list-inline {list-style: none; margin:0; padding: 0}\n",
              ".list-inline>li {display: inline-block}\n",
              ".list-inline>li:not(:last-child)::after {content: \"\\00b7\"; padding: 0 .5ex}\n",
              "</style>\n",
              "<ol class=list-inline><li>'RefId'</li><li>'IsBadBuy'</li><li>'PurchDate'</li><li>'Auction'</li><li>'VehYear'</li><li>'VehicleAge'</li><li>'Make'</li><li>'Model'</li><li>'Trim'</li><li>'SubModel'</li><li>'Color'</li><li>'Transmission'</li><li>'WheelTypeID'</li><li>'WheelType'</li><li>'VehOdo'</li><li>'Nationality'</li><li>'Size'</li><li>'TopThreeAmericanName'</li><li>'MMRAcquisitionAuctionAveragePrice'</li><li>'MMRAcquisitionAuctionCleanPrice'</li><li>'MMRAcquisitionRetailAveragePrice'</li><li>'MMRAcquisitonRetailCleanPrice'</li><li>'MMRCurrentAuctionAveragePrice'</li><li>'MMRCurrentAuctionCleanPrice'</li><li>'MMRCurrentRetailAveragePrice'</li><li>'MMRCurrentRetailCleanPrice'</li><li>'PRIMEUNIT'</li><li>'AUCGUART'</li><li>'BYRNO'</li><li>'VNZIP1'</li><li>'VNST'</li><li>'VehBCost'</li><li>'IsOnlineSale'</li><li>'WarrantyCost'</li></ol>\n"
            ],
            "text/markdown": "1. 'RefId'\n2. 'IsBadBuy'\n3. 'PurchDate'\n4. 'Auction'\n5. 'VehYear'\n6. 'VehicleAge'\n7. 'Make'\n8. 'Model'\n9. 'Trim'\n10. 'SubModel'\n11. 'Color'\n12. 'Transmission'\n13. 'WheelTypeID'\n14. 'WheelType'\n15. 'VehOdo'\n16. 'Nationality'\n17. 'Size'\n18. 'TopThreeAmericanName'\n19. 'MMRAcquisitionAuctionAveragePrice'\n20. 'MMRAcquisitionAuctionCleanPrice'\n21. 'MMRAcquisitionRetailAveragePrice'\n22. 'MMRAcquisitonRetailCleanPrice'\n23. 'MMRCurrentAuctionAveragePrice'\n24. 'MMRCurrentAuctionCleanPrice'\n25. 'MMRCurrentRetailAveragePrice'\n26. 'MMRCurrentRetailCleanPrice'\n27. 'PRIMEUNIT'\n28. 'AUCGUART'\n29. 'BYRNO'\n30. 'VNZIP1'\n31. 'VNST'\n32. 'VehBCost'\n33. 'IsOnlineSale'\n34. 'WarrantyCost'\n\n\n",
            "text/latex": "\\begin{enumerate*}\n\\item 'RefId'\n\\item 'IsBadBuy'\n\\item 'PurchDate'\n\\item 'Auction'\n\\item 'VehYear'\n\\item 'VehicleAge'\n\\item 'Make'\n\\item 'Model'\n\\item 'Trim'\n\\item 'SubModel'\n\\item 'Color'\n\\item 'Transmission'\n\\item 'WheelTypeID'\n\\item 'WheelType'\n\\item 'VehOdo'\n\\item 'Nationality'\n\\item 'Size'\n\\item 'TopThreeAmericanName'\n\\item 'MMRAcquisitionAuctionAveragePrice'\n\\item 'MMRAcquisitionAuctionCleanPrice'\n\\item 'MMRAcquisitionRetailAveragePrice'\n\\item 'MMRAcquisitonRetailCleanPrice'\n\\item 'MMRCurrentAuctionAveragePrice'\n\\item 'MMRCurrentAuctionCleanPrice'\n\\item 'MMRCurrentRetailAveragePrice'\n\\item 'MMRCurrentRetailCleanPrice'\n\\item 'PRIMEUNIT'\n\\item 'AUCGUART'\n\\item 'BYRNO'\n\\item 'VNZIP1'\n\\item 'VNST'\n\\item 'VehBCost'\n\\item 'IsOnlineSale'\n\\item 'WarrantyCost'\n\\end{enumerate*}\n",
            "text/plain": [
              " [1] \"RefId\"                             \"IsBadBuy\"                         \n",
              " [3] \"PurchDate\"                         \"Auction\"                          \n",
              " [5] \"VehYear\"                           \"VehicleAge\"                       \n",
              " [7] \"Make\"                              \"Model\"                            \n",
              " [9] \"Trim\"                              \"SubModel\"                         \n",
              "[11] \"Color\"                             \"Transmission\"                     \n",
              "[13] \"WheelTypeID\"                       \"WheelType\"                        \n",
              "[15] \"VehOdo\"                            \"Nationality\"                      \n",
              "[17] \"Size\"                              \"TopThreeAmericanName\"             \n",
              "[19] \"MMRAcquisitionAuctionAveragePrice\" \"MMRAcquisitionAuctionCleanPrice\"  \n",
              "[21] \"MMRAcquisitionRetailAveragePrice\"  \"MMRAcquisitonRetailCleanPrice\"    \n",
              "[23] \"MMRCurrentAuctionAveragePrice\"     \"MMRCurrentAuctionCleanPrice\"      \n",
              "[25] \"MMRCurrentRetailAveragePrice\"      \"MMRCurrentRetailCleanPrice\"       \n",
              "[27] \"PRIMEUNIT\"                         \"AUCGUART\"                         \n",
              "[29] \"BYRNO\"                             \"VNZIP1\"                           \n",
              "[31] \"VNST\"                              \"VehBCost\"                         \n",
              "[33] \"IsOnlineSale\"                      \"WarrantyCost\"                     "
            ]
          },
          "metadata": {}
        }
      ]
    },
    {
      "cell_type": "code",
      "source": [
        "tab <- table(cars$IsBadBuy, cars$IsOnlineSale)\n",
        "tab"
      ],
      "metadata": {
        "colab": {
          "base_uri": "https://localhost:8080/",
          "height": 86
        },
        "id": "t5dTFHgIx78E",
        "outputId": "fbaf3f1d-8efd-4052-9eeb-be70b95f0fd1"
      },
      "execution_count": 7,
      "outputs": [
        {
          "output_type": "display_data",
          "data": {
            "text/plain": [
              "   \n",
              "        0     1\n",
              "  0 62375  1632\n",
              "  1  8763   213"
            ]
          },
          "metadata": {}
        }
      ]
    },
    {
      "cell_type": "code",
      "source": [
        "# Chi-squared tests\n",
        "chq <- chisq.test(tab)\n",
        "chq"
      ],
      "metadata": {
        "colab": {
          "base_uri": "https://localhost:8080/",
          "height": 104
        },
        "id": "73qB5aBsz71V",
        "outputId": "2493bd5b-b0b3-47c7-efd2-ab4a1995cd68"
      },
      "execution_count": 8,
      "outputs": [
        {
          "output_type": "display_data",
          "data": {
            "text/plain": [
              "\n",
              "\tPearson's Chi-squared test with Yates' continuity correction\n",
              "\n",
              "data:  tab\n",
              "X-squared = 0.92735, df = 1, p-value = 0.3356\n"
            ]
          },
          "metadata": {}
        }
      ]
    },
    {
      "cell_type": "code",
      "source": [
        "names(chq)\n",
        "chq$p.value"
      ],
      "metadata": {
        "colab": {
          "base_uri": "https://localhost:8080/",
          "height": 52
        },
        "id": "8fGZU-Ag0Bkj",
        "outputId": "c5d56119-31ea-4bfb-f9fd-eb008de5c618"
      },
      "execution_count": 9,
      "outputs": [
        {
          "output_type": "display_data",
          "data": {
            "text/html": [
              "<style>\n",
              ".list-inline {list-style: none; margin:0; padding: 0}\n",
              ".list-inline>li {display: inline-block}\n",
              ".list-inline>li:not(:last-child)::after {content: \"\\00b7\"; padding: 0 .5ex}\n",
              "</style>\n",
              "<ol class=list-inline><li>'statistic'</li><li>'parameter'</li><li>'p.value'</li><li>'method'</li><li>'data.name'</li><li>'observed'</li><li>'expected'</li><li>'residuals'</li><li>'stdres'</li></ol>\n"
            ],
            "text/markdown": "1. 'statistic'\n2. 'parameter'\n3. 'p.value'\n4. 'method'\n5. 'data.name'\n6. 'observed'\n7. 'expected'\n8. 'residuals'\n9. 'stdres'\n\n\n",
            "text/latex": "\\begin{enumerate*}\n\\item 'statistic'\n\\item 'parameter'\n\\item 'p.value'\n\\item 'method'\n\\item 'data.name'\n\\item 'observed'\n\\item 'expected'\n\\item 'residuals'\n\\item 'stdres'\n\\end{enumerate*}\n",
            "text/plain": [
              "[1] \"statistic\" \"parameter\" \"p.value\"   \"method\"    \"data.name\" \"observed\" \n",
              "[7] \"expected\"  \"residuals\" \"stdres\"   "
            ]
          },
          "metadata": {}
        },
        {
          "output_type": "display_data",
          "data": {
            "text/html": [
              "0.335551615039955"
            ],
            "text/markdown": "0.335551615039955",
            "text/latex": "0.335551615039955",
            "text/plain": [
              "[1] 0.3355516"
            ]
          },
          "metadata": {}
        }
      ]
    },
    {
      "cell_type": "markdown",
      "source": [
        "### Question:"
      ],
      "metadata": {
        "id": "dKIS8Kgs1vpX"
      }
    },
    {
      "cell_type": "markdown",
      "source": [
        "- 356 People have been polled on their smoking status (Smoke) and their socioeconomic status (SES). For each person it was determined wheter or not they are current smokers, former smokers and have never smoked. Also for each person their socioeconomic status was determined (low, middle, high)."
      ],
      "metadata": {
        "id": "sUgGsO_n18rH"
      }
    },
    {
      "cell_type": "code",
      "source": [
        "# Import the Smoking and SES data in R.\n",
        "smoke <- matrix(c(51,22,43,92,21,28,68,9,22), ncol=3, byrow = TRUE)\n",
        "\n",
        "colnames(smoke) <- c(\"High\", \"Middle\", \"Low\")\n",
        "rownames(smoke) <- c(\"Current\", \"Former\", \"Never\")\n",
        "smoke <- as.table(smoke)\n",
        "smoke"
      ],
      "metadata": {
        "colab": {
          "base_uri": "https://localhost:8080/",
          "height": 86
        },
        "id": "EZU2-RSD0L6x",
        "outputId": "c6e06f31-3210-4af5-f548-cbb05daa8a6d"
      },
      "execution_count": 10,
      "outputs": [
        {
          "output_type": "display_data",
          "data": {
            "text/plain": [
              "        High Middle Low\n",
              "Current   51     22  43\n",
              "Former    92     21  28\n",
              "Never     68      9  22"
            ]
          },
          "metadata": {}
        }
      ]
    },
    {
      "cell_type": "code",
      "source": [
        "#Checking plot\n",
        "barplot(smoke,legend=T,beside=T,main='Smoking Status by SES')"
      ],
      "metadata": {
        "colab": {
          "base_uri": "https://localhost:8080/",
          "height": 437
        },
        "id": "f_BH6Jr031on",
        "outputId": "ab71fcb4-895b-4a6a-9f2f-11bb5fd9dd30"
      },
      "execution_count": 11,
      "outputs": [
        {
          "output_type": "display_data",
          "data": {
            "text/plain": [
              "Plot with title “Smoking Status by SES”"
            ],
            "image/png": "[encoded data removed]"
          },
          "metadata": {
            "image/png": {
              "width": 420,
              "height": 420
            }
          }
        }
      ]
    },
    {
      "cell_type": "code",
      "source": [
        "# Calculate the marginal distributions across the rows or columns\n",
        "margin.table(smoke)"
      ],
      "metadata": {
        "colab": {
          "base_uri": "https://localhost:8080/",
          "height": 34
        },
        "id": "_cmInbAJ5iEa",
        "outputId": "137e6cc7-1a8c-4046-c20d-5d241a85378c"
      },
      "execution_count": 12,
      "outputs": [
        {
          "output_type": "display_data",
          "data": {
            "text/html": [
              "356"
            ],
            "text/markdown": "356",
            "text/latex": "356",
            "text/plain": [
              "[1] 356"
            ]
          },
          "metadata": {}
        }
      ]
    },
    {
      "cell_type": "code",
      "source": [
        "margin.table(smoke, 1)\n",
        "margin.table(smoke, 2)"
      ],
      "metadata": {
        "colab": {
          "base_uri": "https://localhost:8080/",
          "height": 86
        },
        "id": "CnrqkNbs52Bc",
        "outputId": "10acf065-d72f-47ba-f32e-ddf0921f1415"
      },
      "execution_count": 13,
      "outputs": [
        {
          "output_type": "display_data",
          "data": {
            "text/plain": [
              "Current  Former   Never \n",
              "    116     141      99 "
            ]
          },
          "metadata": {}
        },
        {
          "output_type": "display_data",
          "data": {
            "text/plain": [
              "  High Middle    Low \n",
              "   211     52     93 "
            ]
          },
          "metadata": {}
        }
      ]
    },
    {
      "cell_type": "code",
      "source": [
        "# To get the proportions using the prop.table command\n",
        "prop.table(smoke)"
      ],
      "metadata": {
        "colab": {
          "base_uri": "https://localhost:8080/",
          "height": 86
        },
        "id": "0vLZ_8oO57p8",
        "outputId": "6542ca28-398d-4ee8-c30a-fdde3351e0a6"
      },
      "execution_count": 14,
      "outputs": [
        {
          "output_type": "display_data",
          "data": {
            "text/plain": [
              "              High     Middle        Low\n",
              "Current 0.14325843 0.06179775 0.12078652\n",
              "Former  0.25842697 0.05898876 0.07865169\n",
              "Never   0.19101124 0.02528090 0.06179775"
            ]
          },
          "metadata": {}
        }
      ]
    },
    {
      "cell_type": "code",
      "source": [
        "prop.table(smoke, 1)\n",
        "prop.table(smoke, 2)"
      ],
      "metadata": {
        "colab": {
          "base_uri": "https://localhost:8080/",
          "height": 156
        },
        "id": "0xlb4RV26E4U",
        "outputId": "a8773323-c000-43df-9fb3-b2e04fe4efdb"
      },
      "execution_count": 15,
      "outputs": [
        {
          "output_type": "display_data",
          "data": {
            "text/plain": [
              "              High     Middle        Low\n",
              "Current 0.43965517 0.18965517 0.37068966\n",
              "Former  0.65248227 0.14893617 0.19858156\n",
              "Never   0.68686869 0.09090909 0.22222222"
            ]
          },
          "metadata": {}
        },
        {
          "output_type": "display_data",
          "data": {
            "text/plain": [
              "             High    Middle       Low\n",
              "Current 0.2417062 0.4230769 0.4623656\n",
              "Former  0.4360190 0.4038462 0.3010753\n",
              "Never   0.3222749 0.1730769 0.2365591"
            ]
          },
          "metadata": {}
        }
      ]
    },
    {
      "cell_type": "code",
      "source": [
        "# To do a chi-squared test to determine if the proportions are different\n",
        "summary(smoke)"
      ],
      "metadata": {
        "colab": {
          "base_uri": "https://localhost:8080/",
          "height": 86
        },
        "id": "vtPP4vtS6HxU",
        "outputId": "9a3f9d51-84c4-4e77-d96c-7db690c4a230"
      },
      "execution_count": 16,
      "outputs": [
        {
          "output_type": "display_data",
          "data": {
            "text/plain": [
              "Number of cases in table: 356 \n",
              "Number of factors: 2 \n",
              "Test for independence of all factors:\n",
              "\tChisq = 18.51, df = 4, p-value = 0.0009808"
            ]
          },
          "metadata": {}
        }
      ]
    },
    {
      "cell_type": "code",
      "source": [
        "chisq.test(smoke)"
      ],
      "metadata": {
        "colab": {
          "base_uri": "https://localhost:8080/",
          "height": 104
        },
        "id": "rGYh0Fod6Ob4",
        "outputId": "4d1853e6-b415-4914-80b7-42985ea7d4c5"
      },
      "execution_count": 17,
      "outputs": [
        {
          "output_type": "display_data",
          "data": {
            "text/plain": [
              "\n",
              "\tPearson's Chi-squared test\n",
              "\n",
              "data:  smoke\n",
              "X-squared = 18.51, df = 4, p-value = 0.0009808\n"
            ]
          },
          "metadata": {}
        }
      ]
    },
    {
      "cell_type": "markdown",
      "source": [
        "# Fisher's Exact Test"
      ],
      "metadata": {
        "id": "S6Z9usqb7R-f"
      }
    },
    {
      "cell_type": "code",
      "source": [
        "tab <- table(cars$IsBadBuy, cars$IsOnlineSale)\n",
        "tab"
      ],
      "metadata": {
        "colab": {
          "base_uri": "https://localhost:8080/",
          "height": 86
        },
        "id": "nTHYakcZ7RJu",
        "outputId": "584535ea-e1cd-4344-9dd0-acb5b1f67f3c"
      },
      "execution_count": 18,
      "outputs": [
        {
          "output_type": "display_data",
          "data": {
            "text/plain": [
              "   \n",
              "        0     1\n",
              "  0 62375  1632\n",
              "  1  8763   213"
            ]
          },
          "metadata": {}
        }
      ]
    },
    {
      "cell_type": "code",
      "source": [
        "fisher.test(tab)"
      ],
      "metadata": {
        "colab": {
          "base_uri": "https://localhost:8080/",
          "height": 208
        },
        "id": "Dwp3nJoq7aEB",
        "outputId": "ee29b724-400b-45e8-bc79-4fae26da0938"
      },
      "execution_count": 19,
      "outputs": [
        {
          "output_type": "display_data",
          "data": {
            "text/plain": [
              "\n",
              "\tFisher's Exact Test for Count Data\n",
              "\n",
              "data:  tab\n",
              "p-value = 0.3324\n",
              "alternative hypothesis: true odds ratio is not equal to 1\n",
              "95 percent confidence interval:\n",
              " 0.8001727 1.0742114\n",
              "sample estimates:\n",
              "odds ratio \n",
              " 0.9289923 \n"
            ]
          },
          "metadata": {}
        }
      ]
    },
    {
      "cell_type": "code",
      "source": [
        "# Agresti (1990, p. 61f; 2002, p. 91) Fisher's Tea Drinker example\n",
        "TeaTest <- matrix(c(3, 1, 1, 3), nrow=2, dimnames = list(Guess = c(\"Milk\", \"Tea\"), Truth = c(\"Milk\", \"Tea\")))\n",
        "TeaTest"
      ],
      "metadata": {
        "colab": {
          "base_uri": "https://localhost:8080/",
          "height": 147
        },
        "id": "4wunYACi7hoA",
        "outputId": "686fed78-9980-414a-cabd-2c02f965de75"
      },
      "execution_count": 20,
      "outputs": [
        {
          "output_type": "display_data",
          "data": {
            "text/html": [
              "<table class=\"dataframe\">\n",
              "<caption>A matrix: 2 × 2 of type dbl</caption>\n",
              "<thead>\n",
              "\t<tr><th></th><th scope=col>Milk</th><th scope=col>Tea</th></tr>\n",
              "</thead>\n",
              "<tbody>\n",
              "\t<tr><th scope=row>Milk</th><td>3</td><td>1</td></tr>\n",
              "\t<tr><th scope=row>Tea</th><td>1</td><td>3</td></tr>\n",
              "</tbody>\n",
              "</table>\n"
            ],
            "text/markdown": "\nA matrix: 2 × 2 of type dbl\n\n| <!--/--> | Milk | Tea |\n|---|---|---|\n| Milk | 3 | 1 |\n| Tea | 1 | 3 |\n\n",
            "text/latex": "A matrix: 2 × 2 of type dbl\n\\begin{tabular}{r|ll}\n  & Milk & Tea\\\\\n\\hline\n\tMilk & 3 & 1\\\\\n\tTea & 1 & 3\\\\\n\\end{tabular}\n",
            "text/plain": [
              "      Truth\n",
              "Guess  Milk Tea\n",
              "  Milk 3    1  \n",
              "  Tea  1    3  "
            ]
          },
          "metadata": {}
        }
      ]
    },
    {
      "cell_type": "code",
      "source": [
        "fisher.test(TeaTest)"
      ],
      "metadata": {
        "colab": {
          "base_uri": "https://localhost:8080/",
          "height": 208
        },
        "id": "zA6dXHQn76LE",
        "outputId": "91d56a47-201c-4949-bd1f-cb544b38d1e4"
      },
      "execution_count": 21,
      "outputs": [
        {
          "output_type": "display_data",
          "data": {
            "text/plain": [
              "\n",
              "\tFisher's Exact Test for Count Data\n",
              "\n",
              "data:  TeaTest\n",
              "p-value = 0.4857\n",
              "alternative hypothesis: true odds ratio is not equal to 1\n",
              "95 percent confidence interval:\n",
              "   0.2117329 621.9337505\n",
              "sample estimates:\n",
              "odds ratio \n",
              "  6.408309 \n"
            ]
          },
          "metadata": {}
        }
      ]
    }
  ]
}